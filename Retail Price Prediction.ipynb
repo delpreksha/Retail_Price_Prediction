{
 "cells": [
  {
   "cell_type": "markdown",
   "id": "d781b76c-c714-45e5-acd1-ae80167c2aa4",
   "metadata": {},
   "source": [
    "# Retail Price Prediction\n",
    "This project predicts retail product prices using machine learning models based on historical sales data and product characteristics."
   ]
  },
  {
   "cell_type": "code",
   "execution_count": 2,
   "id": "05351613-4604-4e84-88f8-4497dd98ab63",
   "metadata": {},
   "outputs": [],
   "source": [
    "#Import the required libraries for data analysis, visualization, and machine learning.\n",
    "\n",
    "import numpy as np\n",
    "import pandas as pd\n",
    "import sklearn as sklearn\n",
    "import matplotlib.pyplot as plt\n",
    "from tqdm import tqdm\n",
    "import seaborn as sns\n",
    "sns.set_style('whitegrid')"
   ]
  },
  {
   "cell_type": "code",
   "execution_count": 3,
   "id": "f4dd93f7-0032-4444-9ca0-c73fdfeebb35",
   "metadata": {},
   "outputs": [],
   "source": [
    "# Load the training dataset\n",
    "\n",
    "train = pd.read_csv(\"C:/Users/Admin/Desktop/Projects/Retail Price Prediction/Dataset/train.tsv\", sep='\\t')"
   ]
  },
  {
   "cell_type": "code",
   "execution_count": 4,
   "id": "6f7a4fe4-26f8-433d-a4e1-c266b65b2682",
   "metadata": {},
   "outputs": [],
   "source": [
    "# Load the testing dataset\n",
    "\n",
    "test = pd.read_csv(\"C:/Users/Admin/Desktop/Projects/Retail Price Prediction/Dataset/test.tsv\", sep='\\t')"
   ]
  },
  {
   "cell_type": "markdown",
   "id": "d2bbbaaf-4b42-4f43-95f8-3ad5ee9f0a6b",
   "metadata": {},
   "source": [
    "## Exploratory Data Analysis"
   ]
  },
  {
   "cell_type": "code",
   "execution_count": 5,
   "id": "c28b2d5c-ba7b-4112-b958-0ac21a4a2788",
   "metadata": {},
   "outputs": [
    {
     "name": "stdout",
     "output_type": "stream",
     "text": [
      "shape (1482535, 8)\n"
     ]
    },
    {
     "data": {
      "text/html": [
       "<div>\n",
       "<style scoped>\n",
       "    .dataframe tbody tr th:only-of-type {\n",
       "        vertical-align: middle;\n",
       "    }\n",
       "\n",
       "    .dataframe tbody tr th {\n",
       "        vertical-align: top;\n",
       "    }\n",
       "\n",
       "    .dataframe thead th {\n",
       "        text-align: right;\n",
       "    }\n",
       "</style>\n",
       "<table border=\"1\" class=\"dataframe\">\n",
       "  <thead>\n",
       "    <tr style=\"text-align: right;\">\n",
       "      <th></th>\n",
       "      <th>train_id</th>\n",
       "      <th>name</th>\n",
       "      <th>item_condition_id</th>\n",
       "      <th>category_name</th>\n",
       "      <th>brand_name</th>\n",
       "      <th>price</th>\n",
       "      <th>shipping</th>\n",
       "      <th>item_description</th>\n",
       "    </tr>\n",
       "  </thead>\n",
       "  <tbody>\n",
       "    <tr>\n",
       "      <th>0</th>\n",
       "      <td>0</td>\n",
       "      <td>MLB Cincinnati Reds T Shirt Size XL</td>\n",
       "      <td>3</td>\n",
       "      <td>Men/Tops/T-shirts</td>\n",
       "      <td>NaN</td>\n",
       "      <td>10.0</td>\n",
       "      <td>1</td>\n",
       "      <td>No description yet</td>\n",
       "    </tr>\n",
       "    <tr>\n",
       "      <th>1</th>\n",
       "      <td>1</td>\n",
       "      <td>Razer BlackWidow Chroma Keyboard</td>\n",
       "      <td>3</td>\n",
       "      <td>Electronics/Computers &amp; Tablets/Components &amp; P...</td>\n",
       "      <td>Razer</td>\n",
       "      <td>52.0</td>\n",
       "      <td>0</td>\n",
       "      <td>This keyboard is in great condition and works ...</td>\n",
       "    </tr>\n",
       "    <tr>\n",
       "      <th>2</th>\n",
       "      <td>2</td>\n",
       "      <td>AVA-VIV Blouse</td>\n",
       "      <td>1</td>\n",
       "      <td>Women/Tops &amp; Blouses/Blouse</td>\n",
       "      <td>Target</td>\n",
       "      <td>10.0</td>\n",
       "      <td>1</td>\n",
       "      <td>Adorable top with a hint of lace and a key hol...</td>\n",
       "    </tr>\n",
       "    <tr>\n",
       "      <th>3</th>\n",
       "      <td>3</td>\n",
       "      <td>Leather Horse Statues</td>\n",
       "      <td>1</td>\n",
       "      <td>Home/Home Décor/Home Décor Accents</td>\n",
       "      <td>NaN</td>\n",
       "      <td>35.0</td>\n",
       "      <td>1</td>\n",
       "      <td>New with tags. Leather horses. Retail for [rm]...</td>\n",
       "    </tr>\n",
       "    <tr>\n",
       "      <th>4</th>\n",
       "      <td>4</td>\n",
       "      <td>24K GOLD plated rose</td>\n",
       "      <td>1</td>\n",
       "      <td>Women/Jewelry/Necklaces</td>\n",
       "      <td>NaN</td>\n",
       "      <td>44.0</td>\n",
       "      <td>0</td>\n",
       "      <td>Complete with certificate of authenticity</td>\n",
       "    </tr>\n",
       "  </tbody>\n",
       "</table>\n",
       "</div>"
      ],
      "text/plain": [
       "   train_id                                 name  item_condition_id  \\\n",
       "0         0  MLB Cincinnati Reds T Shirt Size XL                  3   \n",
       "1         1     Razer BlackWidow Chroma Keyboard                  3   \n",
       "2         2                       AVA-VIV Blouse                  1   \n",
       "3         3                Leather Horse Statues                  1   \n",
       "4         4                 24K GOLD plated rose                  1   \n",
       "\n",
       "                                       category_name brand_name  price  \\\n",
       "0                                  Men/Tops/T-shirts        NaN   10.0   \n",
       "1  Electronics/Computers & Tablets/Components & P...      Razer   52.0   \n",
       "2                        Women/Tops & Blouses/Blouse     Target   10.0   \n",
       "3                 Home/Home Décor/Home Décor Accents        NaN   35.0   \n",
       "4                            Women/Jewelry/Necklaces        NaN   44.0   \n",
       "\n",
       "   shipping                                   item_description  \n",
       "0         1                                 No description yet  \n",
       "1         0  This keyboard is in great condition and works ...  \n",
       "2         1  Adorable top with a hint of lace and a key hol...  \n",
       "3         1  New with tags. Leather horses. Retail for [rm]...  \n",
       "4         0          Complete with certificate of authenticity  "
      ]
     },
     "execution_count": 5,
     "metadata": {},
     "output_type": "execute_result"
    }
   ],
   "source": [
    "print(\"shape\",np.shape(train))\n",
    "train.head(5)"
   ]
  },
  {
   "cell_type": "code",
   "execution_count": 6,
   "id": "1046e86b-5dde-4df1-86cb-45bf230ab683",
   "metadata": {},
   "outputs": [
    {
     "name": "stdout",
     "output_type": "stream",
     "text": [
      "shape (3460725, 7)\n"
     ]
    },
    {
     "data": {
      "text/html": [
       "<div>\n",
       "<style scoped>\n",
       "    .dataframe tbody tr th:only-of-type {\n",
       "        vertical-align: middle;\n",
       "    }\n",
       "\n",
       "    .dataframe tbody tr th {\n",
       "        vertical-align: top;\n",
       "    }\n",
       "\n",
       "    .dataframe thead th {\n",
       "        text-align: right;\n",
       "    }\n",
       "</style>\n",
       "<table border=\"1\" class=\"dataframe\">\n",
       "  <thead>\n",
       "    <tr style=\"text-align: right;\">\n",
       "      <th></th>\n",
       "      <th>test_id</th>\n",
       "      <th>name</th>\n",
       "      <th>item_condition_id</th>\n",
       "      <th>category_name</th>\n",
       "      <th>brand_name</th>\n",
       "      <th>shipping</th>\n",
       "      <th>item_description</th>\n",
       "    </tr>\n",
       "  </thead>\n",
       "  <tbody>\n",
       "    <tr>\n",
       "      <th>0</th>\n",
       "      <td>0</td>\n",
       "      <td>Breast cancer \"I fight like a girl\" ring</td>\n",
       "      <td>1</td>\n",
       "      <td>Women/Jewelry/Rings</td>\n",
       "      <td>NaN</td>\n",
       "      <td>1</td>\n",
       "      <td>Size 7</td>\n",
       "    </tr>\n",
       "    <tr>\n",
       "      <th>1</th>\n",
       "      <td>1</td>\n",
       "      <td>25 pcs NEW 7.5\"x12\" Kraft Bubble Mailers</td>\n",
       "      <td>1</td>\n",
       "      <td>Other/Office supplies/Shipping Supplies</td>\n",
       "      <td>NaN</td>\n",
       "      <td>1</td>\n",
       "      <td>25 pcs NEW 7.5\"x12\" Kraft Bubble Mailers Lined...</td>\n",
       "    </tr>\n",
       "    <tr>\n",
       "      <th>2</th>\n",
       "      <td>2</td>\n",
       "      <td>Coach bag</td>\n",
       "      <td>1</td>\n",
       "      <td>Vintage &amp; Collectibles/Bags and Purses/Handbag</td>\n",
       "      <td>Coach</td>\n",
       "      <td>1</td>\n",
       "      <td>Brand new coach bag. Bought for [rm] at a Coac...</td>\n",
       "    </tr>\n",
       "    <tr>\n",
       "      <th>3</th>\n",
       "      <td>3</td>\n",
       "      <td>Floral Kimono</td>\n",
       "      <td>2</td>\n",
       "      <td>Women/Sweaters/Cardigan</td>\n",
       "      <td>NaN</td>\n",
       "      <td>0</td>\n",
       "      <td>-floral kimono -never worn -lightweight and pe...</td>\n",
       "    </tr>\n",
       "    <tr>\n",
       "      <th>4</th>\n",
       "      <td>4</td>\n",
       "      <td>Life after Death</td>\n",
       "      <td>3</td>\n",
       "      <td>Other/Books/Religion &amp; Spirituality</td>\n",
       "      <td>NaN</td>\n",
       "      <td>1</td>\n",
       "      <td>Rediscovering life after the loss of a loved o...</td>\n",
       "    </tr>\n",
       "  </tbody>\n",
       "</table>\n",
       "</div>"
      ],
      "text/plain": [
       "   test_id                                      name  item_condition_id  \\\n",
       "0        0  Breast cancer \"I fight like a girl\" ring                  1   \n",
       "1        1  25 pcs NEW 7.5\"x12\" Kraft Bubble Mailers                  1   \n",
       "2        2                                 Coach bag                  1   \n",
       "3        3                             Floral Kimono                  2   \n",
       "4        4                          Life after Death                  3   \n",
       "\n",
       "                                    category_name brand_name  shipping  \\\n",
       "0                             Women/Jewelry/Rings        NaN         1   \n",
       "1         Other/Office supplies/Shipping Supplies        NaN         1   \n",
       "2  Vintage & Collectibles/Bags and Purses/Handbag      Coach         1   \n",
       "3                         Women/Sweaters/Cardigan        NaN         0   \n",
       "4             Other/Books/Religion & Spirituality        NaN         1   \n",
       "\n",
       "                                    item_description  \n",
       "0                                             Size 7  \n",
       "1  25 pcs NEW 7.5\"x12\" Kraft Bubble Mailers Lined...  \n",
       "2  Brand new coach bag. Bought for [rm] at a Coac...  \n",
       "3  -floral kimono -never worn -lightweight and pe...  \n",
       "4  Rediscovering life after the loss of a loved o...  "
      ]
     },
     "execution_count": 6,
     "metadata": {},
     "output_type": "execute_result"
    }
   ],
   "source": [
    "print(\"shape\",np.shape(test))\n",
    "test.head(5)"
   ]
  },
  {
   "cell_type": "code",
   "execution_count": 7,
   "id": "c82f79fe-ea62-4d13-b75b-a826131ba948",
   "metadata": {},
   "outputs": [
    {
     "data": {
      "text/plain": [
       "train_id               int64\n",
       "name                  object\n",
       "item_condition_id      int64\n",
       "category_name         object\n",
       "brand_name            object\n",
       "price                float64\n",
       "shipping               int64\n",
       "item_description      object\n",
       "dtype: object"
      ]
     },
     "execution_count": 7,
     "metadata": {},
     "output_type": "execute_result"
    }
   ],
   "source": [
    "train.dtypes"
   ]
  },
  {
   "cell_type": "code",
   "execution_count": 8,
   "id": "9b53293a-a754-4844-b12b-90e1f32d7278",
   "metadata": {},
   "outputs": [
    {
     "data": {
      "text/plain": [
       "test_id               int64\n",
       "name                 object\n",
       "item_condition_id     int64\n",
       "category_name        object\n",
       "brand_name           object\n",
       "shipping              int64\n",
       "item_description     object\n",
       "dtype: object"
      ]
     },
     "execution_count": 8,
     "metadata": {},
     "output_type": "execute_result"
    }
   ],
   "source": [
    "test.dtypes"
   ]
  },
  {
   "cell_type": "code",
   "execution_count": 9,
   "id": "40c2f243-4e2b-4091-a221-5dcfaf3c2859",
   "metadata": {},
   "outputs": [
    {
     "data": {
      "text/plain": [
       "train_id                  0\n",
       "name                      0\n",
       "item_condition_id         0\n",
       "category_name          6327\n",
       "brand_name           632682\n",
       "price                     0\n",
       "shipping                  0\n",
       "item_description          6\n",
       "dtype: int64"
      ]
     },
     "execution_count": 9,
     "metadata": {},
     "output_type": "execute_result"
    }
   ],
   "source": [
    "train.isnull().sum()"
   ]
  },
  {
   "cell_type": "code",
   "execution_count": 10,
   "id": "d920e923-cf9b-48a1-b55a-2291003be8ce",
   "metadata": {},
   "outputs": [
    {
     "data": {
      "text/plain": [
       "test_id                    0\n",
       "name                       0\n",
       "item_condition_id          0\n",
       "category_name          14833\n",
       "brand_name           1476490\n",
       "shipping                   0\n",
       "item_description          10\n",
       "dtype: int64"
      ]
     },
     "execution_count": 10,
     "metadata": {},
     "output_type": "execute_result"
    }
   ],
   "source": [
    "test.isnull().sum()"
   ]
  },
  {
   "cell_type": "code",
   "execution_count": 11,
   "id": "8b298d00-830c-4ba1-be14-380053b40eed",
   "metadata": {},
   "outputs": [],
   "source": [
    "# Fill missing values in categorical/text columns with a placeholder\n",
    "\n",
    "train.fillna({\n",
    "    \"category_name\": \"Not mentioned\", \n",
    "    \"brand_name\": \"Not mentioned\", \n",
    "    \"item_description\": \"Not mentioned\"\n",
    "}, inplace=True)\n",
    "\n",
    "test.fillna({\n",
    "    \"category_name\": \"Not mentioned\", \n",
    "    \"brand_name\": \"Not mentioned\", \n",
    "    \"item_description\": \"Not mentioned\"\n",
    "}, inplace=True)"
   ]
  },
  {
   "cell_type": "code",
   "execution_count": 12,
   "id": "1ef296bc-6b53-4dc1-aa55-514ae0004d58",
   "metadata": {},
   "outputs": [
    {
     "data": {
      "text/plain": [
       "train_id             0\n",
       "name                 0\n",
       "item_condition_id    0\n",
       "category_name        0\n",
       "brand_name           0\n",
       "price                0\n",
       "shipping             0\n",
       "item_description     0\n",
       "dtype: int64"
      ]
     },
     "execution_count": 12,
     "metadata": {},
     "output_type": "execute_result"
    }
   ],
   "source": [
    "#Verify\n",
    "\n",
    "train.isnull().sum()"
   ]
  },
  {
   "cell_type": "code",
   "execution_count": 13,
   "id": "d489565a-a30c-4438-a3ce-a71939509ad1",
   "metadata": {},
   "outputs": [
    {
     "data": {
      "text/plain": [
       "test_id              0\n",
       "name                 0\n",
       "item_condition_id    0\n",
       "category_name        0\n",
       "brand_name           0\n",
       "shipping             0\n",
       "item_description     0\n",
       "dtype: int64"
      ]
     },
     "execution_count": 13,
     "metadata": {},
     "output_type": "execute_result"
    }
   ],
   "source": [
    "test.isnull().sum()"
   ]
  },
  {
   "cell_type": "markdown",
   "id": "bf4a6183-2bad-40cf-8602-21f975e2cee0",
   "metadata": {},
   "source": [
    "## Target Analysis"
   ]
  },
  {
   "cell_type": "code",
   "execution_count": 14,
   "id": "ab48e483-8c81-476b-b1b8-35577e6532a9",
   "metadata": {},
   "outputs": [
    {
     "data": {
      "text/plain": [
       "count    1.482535e+06\n",
       "mean     2.673752e+01\n",
       "std      3.858607e+01\n",
       "min      0.000000e+00\n",
       "25%      1.000000e+01\n",
       "50%      1.700000e+01\n",
       "75%      2.900000e+01\n",
       "max      2.009000e+03\n",
       "Name: price, dtype: float64"
      ]
     },
     "execution_count": 14,
     "metadata": {},
     "output_type": "execute_result"
    }
   ],
   "source": [
    "train.price.describe()"
   ]
  },
  {
   "cell_type": "code",
   "execution_count": 15,
   "id": "cf0b48a6-0767-40c3-a9e7-81f2a9995bfc",
   "metadata": {},
   "outputs": [
    {
     "data": {
      "image/png": "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",
      "text/plain": [
       "<Figure size 1200x600 with 1 Axes>"
      ]
     },
     "metadata": {},
     "output_type": "display_data"
    }
   ],
   "source": [
    "#Histogram for visualizing the distribution of the target variable `price` to understand its spread and detect skewness.\n",
    "\n",
    "fig, ax = plt.subplots(figsize=(12,6))\n",
    "ax.hist(train.price,bins=30,range=[0,200],label=\"Price\")\n",
    "plt.title('Price distribution', fontsize=15)\n",
    "ax.set_xlabel('Price',fontsize=15)\n",
    "ax.set_ylabel('No of items',fontsize=15)\n",
    "plt.show()"
   ]
  },
  {
   "cell_type": "markdown",
   "id": "adf40f83-49f6-44af-8373-f02280da6d44",
   "metadata": {},
   "source": [
    "## Target Variable Transformation\n",
    "Since the `price` distribution is right-skewed, we apply a log transformation to stabilize variance and improve model performance."
   ]
  },
  {
   "cell_type": "code",
   "execution_count": 16,
   "id": "c2a4db4b-ec69-4e19-a965-ad7575c79ea3",
   "metadata": {},
   "outputs": [
    {
     "data": {
      "text/html": [
       "<div>\n",
       "<style scoped>\n",
       "    .dataframe tbody tr th:only-of-type {\n",
       "        vertical-align: middle;\n",
       "    }\n",
       "\n",
       "    .dataframe tbody tr th {\n",
       "        vertical-align: top;\n",
       "    }\n",
       "\n",
       "    .dataframe thead th {\n",
       "        text-align: right;\n",
       "    }\n",
       "</style>\n",
       "<table border=\"1\" class=\"dataframe\">\n",
       "  <thead>\n",
       "    <tr style=\"text-align: right;\">\n",
       "      <th></th>\n",
       "      <th>train_id</th>\n",
       "      <th>name</th>\n",
       "      <th>item_condition_id</th>\n",
       "      <th>category_name</th>\n",
       "      <th>brand_name</th>\n",
       "      <th>price</th>\n",
       "      <th>shipping</th>\n",
       "      <th>item_description</th>\n",
       "      <th>logPrice</th>\n",
       "    </tr>\n",
       "  </thead>\n",
       "  <tbody>\n",
       "    <tr>\n",
       "      <th>0</th>\n",
       "      <td>0</td>\n",
       "      <td>MLB Cincinnati Reds T Shirt Size XL</td>\n",
       "      <td>3</td>\n",
       "      <td>Men/Tops/T-shirts</td>\n",
       "      <td>Not mentioned</td>\n",
       "      <td>10.0</td>\n",
       "      <td>1</td>\n",
       "      <td>No description yet</td>\n",
       "      <td>2.397895</td>\n",
       "    </tr>\n",
       "    <tr>\n",
       "      <th>1</th>\n",
       "      <td>1</td>\n",
       "      <td>Razer BlackWidow Chroma Keyboard</td>\n",
       "      <td>3</td>\n",
       "      <td>Electronics/Computers &amp; Tablets/Components &amp; P...</td>\n",
       "      <td>Razer</td>\n",
       "      <td>52.0</td>\n",
       "      <td>0</td>\n",
       "      <td>This keyboard is in great condition and works ...</td>\n",
       "      <td>3.970292</td>\n",
       "    </tr>\n",
       "    <tr>\n",
       "      <th>2</th>\n",
       "      <td>2</td>\n",
       "      <td>AVA-VIV Blouse</td>\n",
       "      <td>1</td>\n",
       "      <td>Women/Tops &amp; Blouses/Blouse</td>\n",
       "      <td>Target</td>\n",
       "      <td>10.0</td>\n",
       "      <td>1</td>\n",
       "      <td>Adorable top with a hint of lace and a key hol...</td>\n",
       "      <td>2.397895</td>\n",
       "    </tr>\n",
       "    <tr>\n",
       "      <th>3</th>\n",
       "      <td>3</td>\n",
       "      <td>Leather Horse Statues</td>\n",
       "      <td>1</td>\n",
       "      <td>Home/Home Décor/Home Décor Accents</td>\n",
       "      <td>Not mentioned</td>\n",
       "      <td>35.0</td>\n",
       "      <td>1</td>\n",
       "      <td>New with tags. Leather horses. Retail for [rm]...</td>\n",
       "      <td>3.583519</td>\n",
       "    </tr>\n",
       "    <tr>\n",
       "      <th>4</th>\n",
       "      <td>4</td>\n",
       "      <td>24K GOLD plated rose</td>\n",
       "      <td>1</td>\n",
       "      <td>Women/Jewelry/Necklaces</td>\n",
       "      <td>Not mentioned</td>\n",
       "      <td>44.0</td>\n",
       "      <td>0</td>\n",
       "      <td>Complete with certificate of authenticity</td>\n",
       "      <td>3.806662</td>\n",
       "    </tr>\n",
       "  </tbody>\n",
       "</table>\n",
       "</div>"
      ],
      "text/plain": [
       "   train_id                                 name  item_condition_id  \\\n",
       "0         0  MLB Cincinnati Reds T Shirt Size XL                  3   \n",
       "1         1     Razer BlackWidow Chroma Keyboard                  3   \n",
       "2         2                       AVA-VIV Blouse                  1   \n",
       "3         3                Leather Horse Statues                  1   \n",
       "4         4                 24K GOLD plated rose                  1   \n",
       "\n",
       "                                       category_name     brand_name  price  \\\n",
       "0                                  Men/Tops/T-shirts  Not mentioned   10.0   \n",
       "1  Electronics/Computers & Tablets/Components & P...          Razer   52.0   \n",
       "2                        Women/Tops & Blouses/Blouse         Target   10.0   \n",
       "3                 Home/Home Décor/Home Décor Accents  Not mentioned   35.0   \n",
       "4                            Women/Jewelry/Necklaces  Not mentioned   44.0   \n",
       "\n",
       "   shipping                                   item_description  logPrice  \n",
       "0         1                                 No description yet  2.397895  \n",
       "1         0  This keyboard is in great condition and works ...  3.970292  \n",
       "2         1  Adorable top with a hint of lace and a key hol...  2.397895  \n",
       "3         1  New with tags. Leather horses. Retail for [rm]...  3.583519  \n",
       "4         0          Complete with certificate of authenticity  3.806662  "
      ]
     },
     "execution_count": 16,
     "metadata": {},
     "output_type": "execute_result"
    }
   ],
   "source": [
    "train[\"logPrice\"] = np.log(train[\"price\"]+1)\n",
    "train.head()"
   ]
  },
  {
   "cell_type": "code",
   "execution_count": 17,
   "id": "1f361b7d-9750-43f0-989e-d541c5a5a669",
   "metadata": {},
   "outputs": [
    {
     "data": {
      "text/plain": [
       "count    1.482535e+06\n",
       "mean     2.979059e+00\n",
       "std      7.492094e-01\n",
       "min      0.000000e+00\n",
       "25%      2.397895e+00\n",
       "50%      2.890372e+00\n",
       "75%      3.401197e+00\n",
       "max      7.605890e+00\n",
       "Name: logPrice, dtype: float64"
      ]
     },
     "execution_count": 17,
     "metadata": {},
     "output_type": "execute_result"
    }
   ],
   "source": [
    "train.logPrice.describe()"
   ]
  },
  {
   "cell_type": "code",
   "execution_count": 18,
   "id": "f6e5da1a-b2c1-4b8e-b90d-7cf32397b5c3",
   "metadata": {},
   "outputs": [
    {
     "data": {
      "image/png": "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",
      "text/plain": [
       "<Figure size 1200x600 with 1 Axes>"
      ]
     },
     "metadata": {},
     "output_type": "display_data"
    }
   ],
   "source": [
    "fig, ax = plt.subplots(figsize=(12,6))\n",
    "ax.hist(train.logPrice,bins=30,range=[0,8],label=\"Price\")\n",
    "plt.title('Price distribution', fontsize=15)\n",
    "ax.set_xlabel('log(Price+1)',fontsize=15)\n",
    "ax.set_ylabel('No of items',fontsize=15)\n",
    "plt.show()"
   ]
  },
  {
   "cell_type": "markdown",
   "id": "9e969f04-48ea-4c57-a49b-5e4cea2c8770",
   "metadata": {},
   "source": [
    "## Feature Engineering\n",
    "Creating and transforming input features to better represent the data for modeling."
   ]
  },
  {
   "cell_type": "markdown",
   "id": "49dd232a-80dc-4329-92c9-d9eec48207fb",
   "metadata": {},
   "source": [
    "**Numerical Features**"
   ]
  },
  {
   "cell_type": "code",
   "execution_count": 19,
   "id": "ca3a169d-7fb7-4b4c-bb51-804cc11ebcc2",
   "metadata": {},
   "outputs": [],
   "source": [
    "# SHIPPING"
   ]
  },
  {
   "cell_type": "code",
   "execution_count": 20,
   "id": "e3e95f12-7093-4879-9da5-8675db141215",
   "metadata": {},
   "outputs": [
    {
     "name": "stdout",
     "output_type": "stream",
     "text": [
      "0: Shipping paid by the buyer\n",
      "1: Shipping paid by the seller\n",
      "\n",
      "\n",
      "           Count  Percentage\n",
      "shipping                    \n",
      "0         819435   55.272557\n",
      "1         663100   44.727443\n"
     ]
    }
   ],
   "source": [
    "print(\"0: Shipping paid by the buyer\")\n",
    "print(\"1: Shipping paid by the seller\")\n",
    "print(\"\\n\")\n",
    "\n",
    "print(pd.concat([train['shipping'].value_counts(), \n",
    "                 train['shipping'].value_counts(normalize=True) * 100], axis=1, \n",
    "                keys=['Count', 'Percentage']))"
   ]
  },
  {
   "cell_type": "code",
   "execution_count": 21,
   "id": "d26f91ae-a812-4a64-9db3-0a3aa6897d2c",
   "metadata": {},
   "outputs": [],
   "source": [
    "# Separate logPrice values based on who paid for shipping:\n",
    "\n",
    "buyer_paid = train[train['shipping'] == 0]['logPrice'] #Series of logPrices where the buyer paid for shipping\n",
    "seller_paid = train[train['shipping'] == 1]['logPrice'] #Series of logPrices where the seller pid for shipping"
   ]
  },
  {
   "cell_type": "code",
   "execution_count": 22,
   "id": "86d97e79-2c0e-42f2-9d91-6062bed0c502",
   "metadata": {},
   "outputs": [
    {
     "data": {
      "text/plain": [
       "1    3.970292\n",
       "4    3.806662\n",
       "5    4.094345\n",
       "Name: logPrice, dtype: float64"
      ]
     },
     "execution_count": 22,
     "metadata": {},
     "output_type": "execute_result"
    }
   ],
   "source": [
    "buyer_paid.head(3)"
   ]
  },
  {
   "cell_type": "code",
   "execution_count": 23,
   "id": "f3129b29-782c-4bf1-bdb9-6beda2d8ef01",
   "metadata": {},
   "outputs": [
    {
     "data": {
      "text/plain": [
       "0    2.397895\n",
       "2    2.397895\n",
       "3    3.583519\n",
       "Name: logPrice, dtype: float64"
      ]
     },
     "execution_count": 23,
     "metadata": {},
     "output_type": "execute_result"
    }
   ],
   "source": [
    "seller_paid.head(3)"
   ]
  },
  {
   "cell_type": "code",
   "execution_count": 24,
   "id": "e26b7905-401c-4c9b-acb9-7162e9d5dbb2",
   "metadata": {},
   "outputs": [
    {
     "data": {
      "image/png": "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",
      "text/plain": [
       "<Figure size 1200x600 with 1 Axes>"
      ]
     },
     "metadata": {},
     "output_type": "display_data"
    }
   ],
   "source": [
    "fig, ax = plt.subplots(figsize=(12,6))\n",
    "ax.hist(buyer_paid,bins=30,range=[0,8],label=\"Buyer_paid\",color='g',alpha=0.6) #adding transparency to visualize overlap\n",
    "ax.hist(seller_paid,bins=30,range=[0,8],label=\"Seller_paid\",color='y',alpha=0.6) \n",
    "plt.title('Price distribution by Shipping Responsibility', fontsize=15)\n",
    "ax.set_xlabel('log(Price+1)',fontsize=15)\n",
    "ax.set_ylabel('No of items',fontsize=15)\n",
    "plt.legend(loc='upper right')\n",
    "plt.show()"
   ]
  },
  {
   "cell_type": "code",
   "execution_count": 25,
   "id": "6a590fc8-021e-46ee-b50c-7217b8b35d8d",
   "metadata": {},
   "outputs": [],
   "source": [
    "# Seller-paid shipping dominates in lower-priced items. This suggests sellers may cover shipping for cheaper products to attract buyers."
   ]
  },
  {
   "cell_type": "code",
   "execution_count": 26,
   "id": "d3fcb837-f548-4570-9cb8-39ac0786be3a",
   "metadata": {},
   "outputs": [],
   "source": [
    "# ITEM_CONDITION_ID"
   ]
  },
  {
   "cell_type": "code",
   "execution_count": 27,
   "id": "dc307b40-6ae4-497d-84c6-b55515c90984",
   "metadata": {},
   "outputs": [
    {
     "data": {
      "text/plain": [
       "item_condition_id\n",
       "1    640549\n",
       "2    375479\n",
       "3    432161\n",
       "4     31962\n",
       "5      2384\n",
       "Name: count, dtype: int64"
      ]
     },
     "execution_count": 27,
     "metadata": {},
     "output_type": "execute_result"
    }
   ],
   "source": [
    "train['item_condition_id'].value_counts().sort_index()"
   ]
  },
  {
   "cell_type": "code",
   "execution_count": 28,
   "id": "f4f6afdf-7cdd-4c13-a26b-8dc3c9978fb0",
   "metadata": {},
   "outputs": [
    {
     "name": "stdout",
     "output_type": "stream",
     "text": [
      "\n",
      "Condition ID: 1\n",
      "Example Name: AVA-VIV Blouse\n",
      "Example Description: Adorable top with a hint of lace and a key hole in the back! The pale pink is a 1X, and I also have ...\n",
      "\n",
      "Condition ID: 2\n",
      "Example Name: Smashbox primer\n",
      "Example Description: 0.25 oz Full size is 1oz for [rm] in Sephora...\n",
      "\n",
      "Condition ID: 3\n",
      "Example Name: Razer BlackWidow Chroma Keyboard\n",
      "Example Description: This keyboard is in great condition and works like it came out of the box. All of the ports are test...\n",
      "\n",
      "Condition ID: 4\n",
      "Example Name: Under Armour maroon and gray shirt metal\n",
      "Example Description: Has some wear to the back, and few white spots which I believe can be washed out...\n",
      "\n",
      "Condition ID: 5\n",
      "Example Name: ACER Laptop\n",
      "Example Description: Powers on, no screen display, no external damage, may be used for parts...\n"
     ]
    }
   ],
   "source": [
    "# For each unique item_condition_id:\n",
    "#   - filter out rows with 'No description yet'\n",
    "#   - print an example item's name and the first 100 characters of its description\n",
    "\n",
    "\n",
    "for cond in sorted(train['item_condition_id'].unique()):\n",
    "    subset = train[(train['item_condition_id'] == cond) & (train['item_description'] != 'No description yet')]\n",
    "    print(f\"\\nCondition ID: {cond}\")\n",
    "    print(f\"Example Name: {subset['name'].iloc[0]}\")\n",
    "    print(f\"Example Description: {subset['item_description'].iloc[0][:100]}...\")"
   ]
  },
  {
   "cell_type": "code",
   "execution_count": 29,
   "id": "30565fac-2b29-43b9-9af4-c6d3863a9d80",
   "metadata": {},
   "outputs": [],
   "source": [
    "#From the above output, we can roughly assume the following:\n",
    "\n",
    "#item_condition_id    Usage level\n",
    "\n",
    "#1                    Brand New / Unused\n",
    "#2                    Like New / New without tag\n",
    "#3                    Used - Excellent condition\n",
    "#4                    Used - Good / Visible Wear\n",
    "#5                    Used - Damaged / For Parts"
   ]
  },
  {
   "cell_type": "code",
   "execution_count": 30,
   "id": "8c536555-49f9-4532-9be0-341d1c67596d",
   "metadata": {},
   "outputs": [
    {
     "data": {
      "image/png": "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",
      "text/plain": [
       "<Figure size 2000x400 with 5 Axes>"
      ]
     },
     "metadata": {},
     "output_type": "display_data"
    }
   ],
   "source": [
    "# Plot histograms of log-transformed prices for each item_condition_id.\n",
    "# Each subplot shows the price distribution for one condition.\n",
    "\n",
    "colors = ['green', 'orange', 'blue', 'pink', 'purple']\n",
    "\n",
    "fig, axes = plt.subplots(1, 5, figsize=(20, 4), sharey=True)\n",
    "\n",
    "for i, cond in enumerate(sorted(train['item_condition_id'].unique())):\n",
    "    subset = train[train['item_condition_id'] == cond]\n",
    "    axes[i].hist(subset['logPrice'], bins=30, color=colors[i], alpha=0.7)\n",
    "    axes[i].set_title(f'Condition {cond}')\n",
    "    axes[i].set_xlabel('log(Price+1)')\n",
    "    if i == 0:\n",
    "        axes[i].set_ylabel('Count')\n",
    "\n",
    "plt.suptitle('Price Distribution per Item Condition', fontsize=16)\n",
    "plt.tight_layout()\n",
    "plt.show()\n"
   ]
  },
  {
   "cell_type": "code",
   "execution_count": 31,
   "id": "6cf35f8a-8b99-4c76-b18c-ba08c64b03b6",
   "metadata": {},
   "outputs": [],
   "source": [
    "# Items in better condition (1–3) are priced higher and occur more frequently.\n",
    "# Conditions 4 & 5 have fewer listings and generally lower prices."
   ]
  },
  {
   "cell_type": "markdown",
   "id": "80c9d7f0-29c3-4fb8-b469-8422591fbaa0",
   "metadata": {},
   "source": [
    "**Categorical and Text Features**"
   ]
  },
  {
   "cell_type": "code",
   "execution_count": 32,
   "id": "b7834a7d-4a8c-412a-b0ae-7f06d123d272",
   "metadata": {},
   "outputs": [],
   "source": [
    "# ITEM CATEGORY"
   ]
  },
  {
   "cell_type": "code",
   "execution_count": 33,
   "id": "c708213f-f32d-423d-a082-871715cf9845",
   "metadata": {},
   "outputs": [
    {
     "name": "stdout",
     "output_type": "stream",
     "text": [
      "No of unique values in item category is: 1288\n",
      "\n",
      "Top-10 unique category by frequency:\n",
      " category_name\n",
      "Women/Athletic Apparel/Pants, Tights, Leggings                 60177\n",
      "Women/Tops & Blouses/T-Shirts                                  46380\n",
      "Beauty/Makeup/Face                                             34335\n",
      "Beauty/Makeup/Lips                                             29910\n",
      "Electronics/Video Games & Consoles/Games                       26557\n",
      "Beauty/Makeup/Eyes                                             25215\n",
      "Electronics/Cell Phones & Accessories/Cases, Covers & Skins    24676\n",
      "Women/Underwear/Bras                                           21274\n",
      "Women/Tops & Blouses/Tank, Cami                                20284\n",
      "Women/Tops & Blouses/Blouse                                    20284\n",
      "Name: count, dtype: int64\n"
     ]
    }
   ],
   "source": [
    "print(\"No of unique values in item category is:\", train['category_name'].nunique())\n",
    "print(\"\\nTop-10 unique category by frequency:\\n\", train['category_name'].value_counts().head(10))"
   ]
  },
  {
   "cell_type": "code",
   "execution_count": 34,
   "id": "ce2728b3-c291-4dc4-b2ff-bdc69eadac04",
   "metadata": {},
   "outputs": [],
   "source": [
    "# Function to split a category string into 3 hierarchical levels.\n",
    "# If the input does not have exactly 3 parts, it returns (\"Label not given\", \"Label not given\", \"Label not given\").\n",
    "\n",
    "def cat_split(text):\n",
    "    try:\n",
    "        level1, level2, level3 = text.split('/')\n",
    "    except:\n",
    "        return (\"Label not given\", \"Label not given\", \"Label not given\")\n",
    "    return level1, level2, level3"
   ]
  },
  {
   "cell_type": "code",
   "execution_count": 35,
   "id": "07729d4a-e782-43ba-8afa-aa9bfa3a3a84",
   "metadata": {},
   "outputs": [
    {
     "data": {
      "text/html": [
       "<div>\n",
       "<style scoped>\n",
       "    .dataframe tbody tr th:only-of-type {\n",
       "        vertical-align: middle;\n",
       "    }\n",
       "\n",
       "    .dataframe tbody tr th {\n",
       "        vertical-align: top;\n",
       "    }\n",
       "\n",
       "    .dataframe thead th {\n",
       "        text-align: right;\n",
       "    }\n",
       "</style>\n",
       "<table border=\"1\" class=\"dataframe\">\n",
       "  <thead>\n",
       "    <tr style=\"text-align: right;\">\n",
       "      <th></th>\n",
       "      <th>train_id</th>\n",
       "      <th>name</th>\n",
       "      <th>item_condition_id</th>\n",
       "      <th>category_name</th>\n",
       "      <th>brand_name</th>\n",
       "      <th>price</th>\n",
       "      <th>shipping</th>\n",
       "      <th>item_description</th>\n",
       "      <th>logPrice</th>\n",
       "      <th>general_cat</th>\n",
       "      <th>subcat_1</th>\n",
       "      <th>subcat_2</th>\n",
       "    </tr>\n",
       "  </thead>\n",
       "  <tbody>\n",
       "    <tr>\n",
       "      <th>0</th>\n",
       "      <td>0</td>\n",
       "      <td>MLB Cincinnati Reds T Shirt Size XL</td>\n",
       "      <td>3</td>\n",
       "      <td>Men/Tops/T-shirts</td>\n",
       "      <td>Not mentioned</td>\n",
       "      <td>10.0</td>\n",
       "      <td>1</td>\n",
       "      <td>No description yet</td>\n",
       "      <td>2.397895</td>\n",
       "      <td>Men</td>\n",
       "      <td>Tops</td>\n",
       "      <td>T-shirts</td>\n",
       "    </tr>\n",
       "    <tr>\n",
       "      <th>1</th>\n",
       "      <td>1</td>\n",
       "      <td>Razer BlackWidow Chroma Keyboard</td>\n",
       "      <td>3</td>\n",
       "      <td>Electronics/Computers &amp; Tablets/Components &amp; P...</td>\n",
       "      <td>Razer</td>\n",
       "      <td>52.0</td>\n",
       "      <td>0</td>\n",
       "      <td>This keyboard is in great condition and works ...</td>\n",
       "      <td>3.970292</td>\n",
       "      <td>Electronics</td>\n",
       "      <td>Computers &amp; Tablets</td>\n",
       "      <td>Components &amp; Parts</td>\n",
       "    </tr>\n",
       "    <tr>\n",
       "      <th>2</th>\n",
       "      <td>2</td>\n",
       "      <td>AVA-VIV Blouse</td>\n",
       "      <td>1</td>\n",
       "      <td>Women/Tops &amp; Blouses/Blouse</td>\n",
       "      <td>Target</td>\n",
       "      <td>10.0</td>\n",
       "      <td>1</td>\n",
       "      <td>Adorable top with a hint of lace and a key hol...</td>\n",
       "      <td>2.397895</td>\n",
       "      <td>Women</td>\n",
       "      <td>Tops &amp; Blouses</td>\n",
       "      <td>Blouse</td>\n",
       "    </tr>\n",
       "    <tr>\n",
       "      <th>3</th>\n",
       "      <td>3</td>\n",
       "      <td>Leather Horse Statues</td>\n",
       "      <td>1</td>\n",
       "      <td>Home/Home Décor/Home Décor Accents</td>\n",
       "      <td>Not mentioned</td>\n",
       "      <td>35.0</td>\n",
       "      <td>1</td>\n",
       "      <td>New with tags. Leather horses. Retail for [rm]...</td>\n",
       "      <td>3.583519</td>\n",
       "      <td>Home</td>\n",
       "      <td>Home Décor</td>\n",
       "      <td>Home Décor Accents</td>\n",
       "    </tr>\n",
       "    <tr>\n",
       "      <th>4</th>\n",
       "      <td>4</td>\n",
       "      <td>24K GOLD plated rose</td>\n",
       "      <td>1</td>\n",
       "      <td>Women/Jewelry/Necklaces</td>\n",
       "      <td>Not mentioned</td>\n",
       "      <td>44.0</td>\n",
       "      <td>0</td>\n",
       "      <td>Complete with certificate of authenticity</td>\n",
       "      <td>3.806662</td>\n",
       "      <td>Women</td>\n",
       "      <td>Jewelry</td>\n",
       "      <td>Necklaces</td>\n",
       "    </tr>\n",
       "  </tbody>\n",
       "</table>\n",
       "</div>"
      ],
      "text/plain": [
       "   train_id                                 name  item_condition_id  \\\n",
       "0         0  MLB Cincinnati Reds T Shirt Size XL                  3   \n",
       "1         1     Razer BlackWidow Chroma Keyboard                  3   \n",
       "2         2                       AVA-VIV Blouse                  1   \n",
       "3         3                Leather Horse Statues                  1   \n",
       "4         4                 24K GOLD plated rose                  1   \n",
       "\n",
       "                                       category_name     brand_name  price  \\\n",
       "0                                  Men/Tops/T-shirts  Not mentioned   10.0   \n",
       "1  Electronics/Computers & Tablets/Components & P...          Razer   52.0   \n",
       "2                        Women/Tops & Blouses/Blouse         Target   10.0   \n",
       "3                 Home/Home Décor/Home Décor Accents  Not mentioned   35.0   \n",
       "4                            Women/Jewelry/Necklaces  Not mentioned   44.0   \n",
       "\n",
       "   shipping                                   item_description  logPrice  \\\n",
       "0         1                                 No description yet  2.397895   \n",
       "1         0  This keyboard is in great condition and works ...  3.970292   \n",
       "2         1  Adorable top with a hint of lace and a key hol...  2.397895   \n",
       "3         1  New with tags. Leather horses. Retail for [rm]...  3.583519   \n",
       "4         0          Complete with certificate of authenticity  3.806662   \n",
       "\n",
       "   general_cat             subcat_1            subcat_2  \n",
       "0          Men                 Tops            T-shirts  \n",
       "1  Electronics  Computers & Tablets  Components & Parts  \n",
       "2        Women       Tops & Blouses              Blouse  \n",
       "3         Home           Home Décor  Home Décor Accents  \n",
       "4        Women              Jewelry           Necklaces  "
      ]
     },
     "execution_count": 35,
     "metadata": {},
     "output_type": "execute_result"
    }
   ],
   "source": [
    " train['general_cat'], train['subcat_1'], train['subcat_2'] = \\\n",
    " zip(*train['category_name'].apply(lambda x: cat_split(x)))\n",
    " train.head()"
   ]
  },
  {
   "cell_type": "code",
   "execution_count": 36,
   "id": "6de95636-4d24-4c39-982b-dfcb6ab868b1",
   "metadata": {},
   "outputs": [
    {
     "data": {
      "text/html": [
       "<div>\n",
       "<style scoped>\n",
       "    .dataframe tbody tr th:only-of-type {\n",
       "        vertical-align: middle;\n",
       "    }\n",
       "\n",
       "    .dataframe tbody tr th {\n",
       "        vertical-align: top;\n",
       "    }\n",
       "\n",
       "    .dataframe thead th {\n",
       "        text-align: right;\n",
       "    }\n",
       "</style>\n",
       "<table border=\"1\" class=\"dataframe\">\n",
       "  <thead>\n",
       "    <tr style=\"text-align: right;\">\n",
       "      <th></th>\n",
       "      <th>test_id</th>\n",
       "      <th>name</th>\n",
       "      <th>item_condition_id</th>\n",
       "      <th>category_name</th>\n",
       "      <th>brand_name</th>\n",
       "      <th>shipping</th>\n",
       "      <th>item_description</th>\n",
       "      <th>general_cat</th>\n",
       "      <th>subcat_1</th>\n",
       "      <th>subcat_2</th>\n",
       "    </tr>\n",
       "  </thead>\n",
       "  <tbody>\n",
       "    <tr>\n",
       "      <th>0</th>\n",
       "      <td>0</td>\n",
       "      <td>Breast cancer \"I fight like a girl\" ring</td>\n",
       "      <td>1</td>\n",
       "      <td>Women/Jewelry/Rings</td>\n",
       "      <td>Not mentioned</td>\n",
       "      <td>1</td>\n",
       "      <td>Size 7</td>\n",
       "      <td>Women</td>\n",
       "      <td>Jewelry</td>\n",
       "      <td>Rings</td>\n",
       "    </tr>\n",
       "    <tr>\n",
       "      <th>1</th>\n",
       "      <td>1</td>\n",
       "      <td>25 pcs NEW 7.5\"x12\" Kraft Bubble Mailers</td>\n",
       "      <td>1</td>\n",
       "      <td>Other/Office supplies/Shipping Supplies</td>\n",
       "      <td>Not mentioned</td>\n",
       "      <td>1</td>\n",
       "      <td>25 pcs NEW 7.5\"x12\" Kraft Bubble Mailers Lined...</td>\n",
       "      <td>Other</td>\n",
       "      <td>Office supplies</td>\n",
       "      <td>Shipping Supplies</td>\n",
       "    </tr>\n",
       "    <tr>\n",
       "      <th>2</th>\n",
       "      <td>2</td>\n",
       "      <td>Coach bag</td>\n",
       "      <td>1</td>\n",
       "      <td>Vintage &amp; Collectibles/Bags and Purses/Handbag</td>\n",
       "      <td>Coach</td>\n",
       "      <td>1</td>\n",
       "      <td>Brand new coach bag. Bought for [rm] at a Coac...</td>\n",
       "      <td>Vintage &amp; Collectibles</td>\n",
       "      <td>Bags and Purses</td>\n",
       "      <td>Handbag</td>\n",
       "    </tr>\n",
       "    <tr>\n",
       "      <th>3</th>\n",
       "      <td>3</td>\n",
       "      <td>Floral Kimono</td>\n",
       "      <td>2</td>\n",
       "      <td>Women/Sweaters/Cardigan</td>\n",
       "      <td>Not mentioned</td>\n",
       "      <td>0</td>\n",
       "      <td>-floral kimono -never worn -lightweight and pe...</td>\n",
       "      <td>Women</td>\n",
       "      <td>Sweaters</td>\n",
       "      <td>Cardigan</td>\n",
       "    </tr>\n",
       "    <tr>\n",
       "      <th>4</th>\n",
       "      <td>4</td>\n",
       "      <td>Life after Death</td>\n",
       "      <td>3</td>\n",
       "      <td>Other/Books/Religion &amp; Spirituality</td>\n",
       "      <td>Not mentioned</td>\n",
       "      <td>1</td>\n",
       "      <td>Rediscovering life after the loss of a loved o...</td>\n",
       "      <td>Other</td>\n",
       "      <td>Books</td>\n",
       "      <td>Religion &amp; Spirituality</td>\n",
       "    </tr>\n",
       "  </tbody>\n",
       "</table>\n",
       "</div>"
      ],
      "text/plain": [
       "   test_id                                      name  item_condition_id  \\\n",
       "0        0  Breast cancer \"I fight like a girl\" ring                  1   \n",
       "1        1  25 pcs NEW 7.5\"x12\" Kraft Bubble Mailers                  1   \n",
       "2        2                                 Coach bag                  1   \n",
       "3        3                             Floral Kimono                  2   \n",
       "4        4                          Life after Death                  3   \n",
       "\n",
       "                                    category_name     brand_name  shipping  \\\n",
       "0                             Women/Jewelry/Rings  Not mentioned         1   \n",
       "1         Other/Office supplies/Shipping Supplies  Not mentioned         1   \n",
       "2  Vintage & Collectibles/Bags and Purses/Handbag          Coach         1   \n",
       "3                         Women/Sweaters/Cardigan  Not mentioned         0   \n",
       "4             Other/Books/Religion & Spirituality  Not mentioned         1   \n",
       "\n",
       "                                    item_description             general_cat  \\\n",
       "0                                             Size 7                   Women   \n",
       "1  25 pcs NEW 7.5\"x12\" Kraft Bubble Mailers Lined...                   Other   \n",
       "2  Brand new coach bag. Bought for [rm] at a Coac...  Vintage & Collectibles   \n",
       "3  -floral kimono -never worn -lightweight and pe...                   Women   \n",
       "4  Rediscovering life after the loss of a loved o...                   Other   \n",
       "\n",
       "          subcat_1                 subcat_2  \n",
       "0          Jewelry                    Rings  \n",
       "1  Office supplies        Shipping Supplies  \n",
       "2  Bags and Purses                  Handbag  \n",
       "3         Sweaters                 Cardigan  \n",
       "4            Books  Religion & Spirituality  "
      ]
     },
     "execution_count": 36,
     "metadata": {},
     "output_type": "execute_result"
    }
   ],
   "source": [
    "test['general_cat'], test['subcat_1'], test['subcat_2'] = \\\n",
    "zip(*test['category_name'].apply(lambda x: cat_split(x)))\n",
    "test.head()"
   ]
  },
  {
   "cell_type": "code",
   "execution_count": 37,
   "id": "b1d0a53f-9bbf-49f2-a38a-9569dd340463",
   "metadata": {},
   "outputs": [
    {
     "name": "stdout",
     "output_type": "stream",
     "text": [
      "No of unique values in General category:  11\n",
      "No of unique values in Sub-category1:  114\n",
      "No of unique values in Sub-category2:  865\n"
     ]
    }
   ],
   "source": [
    "print(\"No of unique values in General category: \",train['general_cat'].nunique())\n",
    "print(\"No of unique values in Sub-category1: \",train['subcat_1'].nunique())\n",
    "print(\"No of unique values in Sub-category2: \",train['subcat_2'].nunique())"
   ]
  },
  {
   "cell_type": "code",
   "execution_count": 38,
   "id": "900fb825-29f2-4bfc-baa9-5eebc7179a81",
   "metadata": {},
   "outputs": [
    {
     "data": {
      "image/png": "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",
      "text/plain": [
       "<Figure size 1000x400 with 1 Axes>"
      ]
     },
     "metadata": {},
     "output_type": "display_data"
    }
   ],
   "source": [
    "fig, ax = plt.subplots(figsize=(10,4))\n",
    "sns.countplot(x='general_cat', hue='general_cat', data=train, ax=ax, palette='Set2')\n",
    "plt.title('Item count by main_category',fontsize=15)\n",
    "plt.ylabel('No of items',fontsize=15)\n",
    "plt.xlabel('')\n",
    "plt.xticks(rotation=35,fontsize=10)\n",
    "plt.yticks(fontsize=10)\n",
    "plt.show()"
   ]
  },
  {
   "cell_type": "code",
   "execution_count": 39,
   "id": "49ae4e18-1f3b-48bc-9a73-bfff9d0bb942",
   "metadata": {},
   "outputs": [
    {
     "data": {
      "text/plain": [
       "<Axes: title={'center': 'Top_10 subcategory_1'}, xlabel='subcat_1'>"
      ]
     },
     "execution_count": 39,
     "metadata": {},
     "output_type": "execute_result"
    },
    {
     "data": {
      "image/png": "iVBORw0KGgoAAAANSUhEUgAAA1MAAAIfCAYAAACVVYY/AAAAOnRFWHRTb2Z0d2FyZQBNYXRwbG90bGliIHZlcnNpb24zLjEwLjMsIGh0dHBzOi8vbWF0cGxvdGxpYi5vcmcvZiW1igAAAAlwSFlzAAAPYQAAD2EBqD+naQAAeTBJREFUeJzt3Qm8lPP7//Gr5atF0h6JLJH2VfhWlCVFaJPSL/oW9UXJToo2FdmpkLVEpexbIfuWr/aFtKCUSrRIe53/4335z3HWOnOb09wz5/V8POZxzsw9M+c+n3Nm5r7uz/W5rnwpKSkpBgAAAACISv7o7g4AAAAAEIIpAAAAAAiAYAoAAAAAAiCYAgAAAIAACKYAAAAAIACCKQAAAAAIgGAKAAAAAAIgmAIAAACAAAimAAA4AFJSUuK9CwCAGCOYAoAEd+utt1qVKlX2eenSpUvc9m/NmjXWoEEDmzFjRqZtP/30k/33v//17SeffLINGDDAtmzZkuv7pH3RuGS1T7nx+/fo0cNWrVplyW5ff2sASEYF470DAIB/5qqrrrKOHTumXh89erQtWrTIRo4cmXpbsWLF4rJvv/zyi3Xv3t3++OOPTNs2b95sl112mZUpU8buuusu+/333+2ee+6xn3/+2Z566ilLFl988YV9/PHHluz29bcGgGRFMAUACe6oo47yS0SpUqXsoIMOsjp16sRtn/bu3Wuvvvqq3X333dneZ8KECbZx40Z7+eWXfZ+lfPnyPoszc+ZMq1+//gHcY+Tm3xoAkhVpfgCQR3z++ed2ySWXeJCilLobbrjBZxMiFNQo9W3u3LnWpk0bq1Wrlp1//vk2derUqH/W4sWLPWWvdevWNmLEiCzv89lnn/m+RAIpady4sR188MH2ySefZPvcK1as8NRA/Q61a9e2iy++ON3Mj9IezzjjjHSP0WyXfjf9jmktXbrUx6RmzZp29tln23PPPZdu+86dO+3BBx+0M88808ejVatW9sorr6Ru37Nnj40ZM8Zv13YFsJol/Oqrr3y7fl7fvn39ez2H9i1i8uTJdt5551mNGjWsadOm9sgjj/jzpaWfde655/r+XXDBBfbll19atWrV0v0eP/74o11zzTXWqFEj//lK6VQwmvF3f+aZZ6xFixY+Zs8//7zfNmnSpHQ/T/8PVatWtddff91i+bcGgGRFMAUAeYBmDrp162aHH3643X///X6AP3v2bA9Efvvtt3T37dmzpx/4K03wmGOOsWuvvTbqNDX9nPfee89/TuHChbO8z7Jly/z50ypQoIBVrFjRfvjhh2xnQbR/27Zt8wN3pTSWKFHCrrzySl9/Fa3hw4d7APLoo49akyZN7M4777SxY8embr/xxhs9CLnooovs8ccf92BPAdGbb77p2++9917fB43jk08+aUOGDPHZtj59+vg+KkjSvonGUymZoue6/fbb7dRTT7XHHnvMOnfubE888YTflvZvpp9Vr149/xnnnHOOPz5twKVgsG3bth4w9e/f3/cnX758nj759ddfp/tdFaxdccUVPm76+yqoeu2119LdRz+zaNGi1rx585j+rQEgWZHmBwBJTgGIDrIVCNx3332pt+sgXbMeWp908803p96umY2rr77av1eAoVmqUaNG2emnn57jn6kAZ3+0tkazUBnptuyKUCjwW758uQcVkf3RjJACFc0iRatDhw6pv7vGZ+3atR7oaAwUqEybNs1uu+02D05EwY8KSajAgmaj1q1bZ9ddd126Ah+FChWy3r17+4yNArVICqZmfBQo6veOBGAKgCI/W2Om6//5z3/s+OOPt4ceesiaNWvmAV7kb/Gvf/0r3d9Qv7dSOseNG5e6Lk4BnPZNQdOUKVNS79uyZUtr165d6nV9rxmllStX2pFHHpkaTGm2LJqgKCd/awBIVsxMAUCS0yzPr7/+6gfYaekgv27duplmMBQ8RWiWQ+lv8+bNs+3btx+wUuH6uVlRsYrKlSv7DM4tt9xib7zxhgeLmhVRABItBZNp6XeNBGyRVLmMszSa4dEMlCiwUaCl4hnffPONvfTSS6kpctkFd5oR1FgqFXH37t2pl0hqotIxNcu2evVqT8tLS4FOWvrbKeBKW2CkYMGCfr8FCxbYn3/+mXq7grmMz6WgKTI7NWvWLE8ZTPv3BwDsGzNTAJDklHYWCUQy0m2q/JdWuXLl0l0vXbq0Bz6qvhfLNC4FAGkP9iM0K6VCFNkFWU8//bSn5Sm1TDMpmq0566yzbNCgQXbooYdGtQ8Zx0S/q2zatCl13CK3ZWX+/Pn+c/W1SJEiHuhVqFBhn8Fi5HlVaCMrmu1ScJbVz864v9rP7P6u+vlpZ/iUvpdx/BWsKfjr1auXj6XSLhVgAwByhmAKAJJcJA1r/fr1mbZpxqpkyZKZDvbTHqDrcVrLFOt0Lh24q5hEWloPpPU/+1qzo0Br4MCBnqL23XffeYEMrTfS76HbFHBlLOSwdevWLJ9LwUhakTFSEFO8eHH/XoHNYYcdlm6tl8ZIBRwuv/xy//rWW2/Zsccea/nz5/f1ZUoPzE7keZV6efTRR2fannbsM65ny3hdwWN2f1fRmCg4y45S/VTkQjOP2meVNgcA5BxpfgCQ5BS0lC1bNrVoQoTWysyZM8fXTqX1/vvvp36v2Y13333Xq+5pbU4sqfrc//73v9RZmEiFPwU+2pZdity///1vP/hX0KTUNa1ZOuGEEzwtLrLmasOGDbZjx47Ux6WtbpfWRx99lO66giIVVKhUqVJqafYPPvgg3X0UBA0dOtRTARVUXXrppT4jpUBKIpUIlX4okdsjVPhBs2lan6UqfZGL0vNUHETBpII3pWFq9i0t/S3SOumkk+zDDz9MNwOlQFK/h55zf38zPV4Bnfp7aS3XhRdeuM/7AwDSY2YKAJKcDuavv/56X1ekcugqsa1gQ8ULNLOhggdpqXCBAhEFYSrfrZmYtBXuYkUlycePH+8/X2lmCkx0UH/aaadlCvAiVBZcqYYqGqEiD5rFUVPcb7/91oMa0RoilTjv16+ftW/f3r7//nuvyKfZtYx0PwVfel4FIJ9++qn//grUTjzxRE+D0z5pjZMCNwVKCl4ilQ6VKqdqfAqEdNHsTqTog6r5pZ2JUmCk3+24447zGS0VmFAQpBLvCqx0PfJz9VXlzlVNULNtWsulWTgVAkkboGnctE/63ZU2qCBNY6pAWdUFc0KzU1r7pX3LLr0SAJA1gikAyANUPltBgyrVqVKfggBVh1OQpVmrtJRCp/vpgFxBhtYoNWjQIOb7pP5SqkI3bNgwDxq0fwpe0lYWzEiV8rQ/OvjX7JDWcWlmZfDgwf47ima1VJxCgZKCm+rVq3vwo/5PGalSnoIO9ZJSRTvNDKUt8qBASo9VMKkAVIHQww8/7Gu0RFX5FHypFLr2XwGXghmVIFdBChWVULCk2TTts/pEqS+Vys1r3F944QX/+QpqVSlQf49DDjnEn1s9vjRLp2qLKmyhAhsKEHWJrH/SbXqOSLl7BWGqbqhxzenfTFURtW+R8QMA5Fy+lH2VUwIA5BmRBrPTp0/3Et6IL6VlKpjVWqy0aYnqs6UKfJrBigUFd88++6w/d6xTOQEg2TEzBQDIEa0BiqwD2helu+GfU5W9Bx54wGextI5L5dI1K9awYcOYBFIqPKEUSM1sqW9X2kCKvzUA5AzvggCAHNF6HaW87Q8zW7Fx9913e/qdUg1VpEPrw5QGqbVUsaA1WBMnTvT1WN26dUu3jb81AOQMaX4AgBxRkYR9ldmOUKlw0sUSG39rAMgZgikAAAAAOJB9pnbu3GmtWrWyGTNmZNqmXhWqEqXFzBkX06oCknpsqJpU2t4iiunUu+OUU07xfHBVR0qbr60qSiqDq87sqo6kxbdpLVq0yC666CJ/bpV5XbBgQdBfDQAAAAByZ82U+o+oV8mSJUuy3K787ozpAWqwqHKugwYN8oWzKmmrqlEqvyvqAaJgSznau3fvtptuusk70Ee6seu+6vMxadIkmzt3rvXv3997fKgErErHqr+GysjeddddNmHCBK92pJ4ekfKx+6KgTT9TfTtUVhYAAABA3pSSkuLxgYrsZGy8/o+DqaVLl3oglV12oPpqfPXVV5n6lqjvRsuWLa1169Z+XTNPaqyoPibq7aGeGFpUG+mLoZ4jamCoYGrFihXeJDGy0FWd7ufMmeMViBRMvf322957RL1JFAwpaFMTw6lTp+aob4YCqfnz50c7FAAAAACSVM2aNfe7LjTqYOrrr7/2BoTXXXed1alTJ1Pq3+2332533HGHX9LSbJKaGEaozGuFChX8du3kL7/8YieddFLq9vr169uqVat8hkv30f3TVgzS9sislrbremRWSV/r1avnAVdOgqlIxKkBK1CggIXJnj17PNAL476FFWMWDOMWPcYsGMYteoxZMIxb9BizYBi35BqzyL7tb1YqUDB1ySWXZLvtscce8waDjRs3zrRNQVG5cuXS3aY0vjVr1tivv/7q19NuVwlYiWzP6rGqNiTaXrly5Uzbs0tDzIjUPgAAAADRxggx6zOl9D/1q1CTwaxovVPGaTJd12yWtkWup90m2r5t27ZsHyv7255TYU71C/O+hRVjFgzjFj3GLBjGLXqMWTCMW/QYs2AYt7w3ZjEJprR+SgUhtOYpMqOUkdY0ZQxudL1IkSLpAifdL/K9aHt2jy1cuPA+nzuyPafCPM0Yxn0LK8YsGMYteoxZMIxb9BizYBi36DFmwTBuyTVmkX07YMHU6tWrbfbs2bZ48WLv2B6ZLRowYIAXh3jyySetfPnytn79+nSP03UVqtC2SLpeZF1UJPUvsj27x0p22zOmBu6P/pBh+2Mmwr6FFWMWDOMWPcYsGMYteoxZMIxb9BizYBi3vDdmgftMpaVg5t1337VXX3019aJARjNVKoEu6v80c+bM1Meo4IQuul2PVzGKtNv1vW7T86jQhYpRaP1U2u2RAhh6DgVzkQqD+jpr1iy/HQAAAAByQ0xmplSDvVKlSpluUxGIyKxTp06drEuXLh4AaTpPQVbTpk29LHpku5r2HnbYYX79vvvus27duvn3uo+KWqj3lMqea9pNPalUbl1atGjh99dzduzY0dduaWZMpdgBAAAAIDfErADF/tStW9cGDx5sDz/8sG3atMkaNWpkQ4YMSd2uflK//fab9erVy6f62rdvb127dk3drr5UCqQ6dOjg6X3Dhg3zHlNSrFgxL5OutMIXX3zRqlSpYmPGjMlRw14AAAAAOODBlNZIZeeDDz7IdJt6PmXX90kBVN++ff2SFc1yqfR6dhRYvfLKKznabwAAAAAIxZopAAAAAMhrCKYAAAAAIACCKQAAAAAIgGAKAAAAAAIgmEoARYoUifcuAAAAAMiAYCqX7Nn7VwPhf0pVDqtVqxazztCx2i8AAAAgrztgfabymgL581mfibNt6botFhaVyxWzhzrWjfduAAAAAEmBYCoXKZBauHpzvHcDAAAAQC4gzQ8AAAAAAiCYAgAAAIAACKYAAAAAIACCKQAAAAAIgGAKAAAAAAIgmAIAAACAAAimAAAAACAAgikAAAAACIBgCgAAAAACIJgCAAAAgAAIpgAAAAAgAIIpAAAAAAiAYAoAAAAAAiCYAgAAAIAACKYAAAAAIACCKQAAAAAIgGAKAAAAAAIgmEJSKlKkSLx3AQAAAEmOYAqhsWdvSkyep0CBAlatWjX/GrZ9AwAAQPIoGO8dACIK5M9nfSbOtqXrtliYVC5XzB7qWDfeuwEAAICQIZhCqCiQWrh6c7x3AwAAANgv0vwAAAAAIACCKQAAAAAIgGAKAAAAAA5kMLVz505r1aqVzZgxI/W2OXPmWMeOHa1u3bp2zjnn2OTJk9M95osvvvDH1K5d2y699FJbuXJluu3PPvusNWnSxB9/22232bZt21K37dixw29r0KCBNW7c2J5++ul0j9Vzde3a1erUqWPnnnuuffbZZ0F/NQAAAADInWBKgc31119vS5YsSb3t119/tSuuuMIaNmxor7zyil1zzTU2ZMgQ++ijj3z76tWr7eqrr7a2bdvalClTrFSpUnbVVVdZSspfJaenTZtmI0eOtMGDB9vYsWNt7ty5ds8996Q+/4gRI2zBggW+bcCAAX7fqVOn+jY9h567TJky9tJLL9mFF15ovXr18p8JAAAAAKEIppYuXWodOnSwFStWpLv9/fff92BGQdbRRx9t5513nrVu3dreeOMN365Zqho1ali3bt3s+OOPt+HDh9uqVavs66+/9u3jxo2zyy67zJo1a2a1atWyQYMGeWCk2amtW7f64/v162fVq1e3s88+2y6//HJ7/vnn/bFfffWVz0wpEDvuuOOsZ8+ePkOlxwMAAABAKIIpBT8nn3yyTZo0Kd3tSs9TgJTRli1/9QzSTJNS9CKKFCnigZFSA/fs2WPz589Pt13B0K5du+y7777zy+7duz39L6J+/fr+nHv37vWvatJatGjRdNv13AAAAAAQij5Tl1xySZa3V6xY0S8Rv/32m7311lvWu3fv1DTAcuXKpXtM6dKlbc2aNbZ582ZPHUy7vWDBglaiRAnfnj9/fitZsqQddNBBqds1C6bHbNy4cZ/PHQ0FdbFSoEABC6tY/p6xFOYxC/O4xfr3S/bfM5YYs2AYt+gxZsEwbtFjzIJh3JJrzKLZp1xp2rt9+3YPohTwXHzxxX6b0vXSBkOi6ypkoftHrme1XWuistom2r6v546GZsdiQbNumikLq8WLF6cr7hEGYR+zsI5bbojV6yAvYcyCYdyix5gFw7hFjzELhnHLe2MW82Dqzz//9MISP/74o73wwgt+kCyFChXKFNzoevHixX1b5HrG7Xq8osOstknhwoX98Zqhyrhd26JRs2bN0M+OxEKVKlXivQsJKdnHLZJum1deB7HAmAXDuEWPMQuGcYseYxYM45ZcYxbZtwMeTGl9lApDqDiFqu6pEEVE+fLlbf369enur+tVq1b1dD4FRLquAhKiNVIKkMqWLeszUxs2bPDblP4nSu1TsKRgTM+twhgZnztj6t/+6A8Ztj9mbsgLv2NuyCvjlldeB7HEmAXDuEWPMQuGcYseYxYM45b3xixmTXtVCELlyH/++Wd77rnnvGJfWuotNXPmzNTrSpdatGiR3641UYpK025X8QgFTieeeKIHXPo+bUEJ3VeP0WP1HAsXLkxNF4xs1+0AAAAAEOpgSr2j1MD3zjvv9NkizRzpEkm/a9eunc2aNcvGjBnj/an69u3rBStUGTBS2OKpp57yEuvz5s2zgQMHegl2pfnpojLruk3bdB817VXjX1Fvq8MPP9yfU8+tn6H7tW/fPla/HgAAAADkTpqfmu5qdko9ntJSoKOZKgVOjzzyiA0bNsxGjRrlZc71NV++fH4/9aVS36k77rjD1zs1b97cbrrpptTnUaCkYEq9qIoVK+YFLnQf0dTg6NGjvQ+VmgJXqlTJn7tChQqx+vUAAAAAIHbBlKqbRWhWaX9OP/10v2SnR48efsmKZqfuvvtuv2RFAdT48eNztN8AAAAAEJo0PwAAAADISwimAAAAACAAgikAAAAACIBgCgAAAAACIJgCAAAAgAAIpgAAAAAgAIIpAAAAAAiAYAoAAAAAAiCYAgAAAIAACKYAAAAAIACCKQAAAAAIgGAKAAAAAAIgmAIAAACAAAimAAAAACAAgikAAAAACIBgCgAAAAACIJgCAAAAgAAIpgAAAAAgAIIpAAAAAAiAYAoAAAAAAiCYApCqSJEi8d4FAACAhEEwBSS4PXtTYvI8BQoUsGrVqvnXMO0XAABAWBWM9w4A+GcK5M9nfSbOtqXrtlhYVC5XzB7qWDfeuwEAAJCrCKaAJKBAauHqzfHeDQAAgDyFND8AAAAACIBgCgAAAAACIJgCAAAAgAAIpgAAAAAgAIIpAAAAAAiAYAoAAAAAAiCYAgAAAIAACKYAAAAA4EAGUzt37rRWrVrZjBkzUm9buXKlde3a1erUqWPnnnuuffbZZ+ke88UXX/hjateubZdeeqnfP61nn33WmjRpYnXr1rXbbrvNtm3blrptx44dfluDBg2scePG9vTTT6d77P5+NgAAAADEPZhSYHP99dfbkiVLUm9LSUmxq6++2sqUKWMvvfSSXXjhhdarVy9bvXq1b9dXbW/btq1NmTLFSpUqZVdddZU/TqZNm2YjR460wYMH29ixY23u3Ll2zz33pD7/iBEjbMGCBb5twIABft+pU6fm6GcDAAAAQNyDqaVLl1qHDh1sxYoV6W7/6quvfHZIwdBxxx1nPXv29FkiBTcyefJkq1GjhnXr1s2OP/54Gz58uK1atcq+/vpr3z5u3Di77LLLrFmzZlarVi0bNGiQP1azU1u3bvXH9+vXz6pXr25nn322XX755fb888/n6GcDQG4pUqRIvHcBAADEScFoH6Dg5+STT7brrrvOA5YIzSRVq1bNihYtmnpb/fr1bc6cOanblaKX9gBEgZG26/b58+f7bFKEnnvXrl323Xff+czT7t27Pf0v7XM/9thjtnfv3v3+7Jzas2ePxUqBAgUsrGL5e8ZSmMdMGLfkGTPLl98K5M8Xk7HXe08s7dmbYpay15JZ5P8itP8fIcSYBcO4RY8xC4ZxS64xi2afog6mLrnkkixv//XXX61cuXLpbitdurStWbNmv9s3b97sqYNptxcsWNBKlCjh2/Pnz28lS5a0gw46KHW7Uvr0mI0bN+73Z+eUArpYUKAY6wOsWFq8eHG69WhhEPYxE8Ytucasz8TZtnTdFguTyuWK2UMd69qiReEbt9wQq/fcvIQxC4Zxix5jFgzjlvfGLOpgKjv64E8b7Iiuq1DF/rZv37499XpW2zUzldU20fb9/eycqlmzZqjP8sdKlSpV4r0LCYlxS64xUyC1cPVmC6Mwj1uszvjpwzOvvOfGAmMWDOMWPcYsGMYtucYssm8HNJgqVKiQzxKlpWCmcOHCqdszBje6Xrx4cd8WuZ5xu84i6xfKapvo+ff3s3NKf8iw/TFzQ174HXMD4xY9xiyYvDJueeU9N5YYs2AYt+gxZsEwbnlvzGLWZ6p8+fK2fv36dLfpeiT9LrvtZcuW9XQ+BURpt2uNlAIkbddjN2zY4LdFKLVPwZKCsf39bAAAAAAIbTCl3lELFy5MTdmTmTNn+u2R7boeodS8RYsW+e1aE6UpvrTbVTxC66ZOPPFEq1q1qn+ftqCE7qvH6LH7+9kAAAAAENpgqmHDhnb44Ydb3759vf/UmDFjbN68eda+fXvf3q5dO5s1a5bfru26X8WKFb0yYKSwxVNPPWXvv/++P27gwIFegl1pfrq0bt3ab9M23UdNe9X4Nyc/GwAAAABCG0wp13H06NGefqfGvK+//rqNGjXKKlSo4NsVOD3yyCPe+0lBjlL4tD1fvr/KE5933nneH+qOO+7wXlTqNXXTTTelPr8CJZVSVy8q9aDq3bu3NW/ePEc/GwAAAABireA/LXucVqVKlWz8+PHZ3v/000/3S3Z69Ojhl6xoduruu+/2S1b297MBAAAAIJQzUwAAAACQlxBMAQAAAEAABFMAAAAAEADBFAAAAAAEQDAFAAAAAAEQTAEAAABAAARTAAAAABAAwRQAAAAABEAwBQAAAAABEEwBAAAAQAAEUwAAAAAQAMEUAAAAAARAMAUAAAAAARBMAQAAAEAABFMAAAAAEADBFAAAAAAEQDAFAAAAAAEQTAEAAABAAARTAAAAABAAwRQAAAAABEAwBQAAAAABEEwBAAAAQAAEUwAAAAAQAMEUAAAAAARAMAUAAAAAARBMAQAAAEAABFMAAAAAEADBFAAAAAAEQDAFAAAAAAEQTAEAAABAAARTAAAAABDvYOqXX36xnj17Wr169eyMM86wZ599NnXbokWL7KKLLrLatWtbu3btbMGCBeke++abb9pZZ53l26+++mr7/fffU7elpKTYvffea6eccoo1bNjQRowYYXv37k3dvmHDBuvdu7fVrVvXf+5rr70Wy18LAAAAAHI3mLr22mutaNGi9vLLL9ttt91mDz74oL333nu2detW69GjhzVo0MC3KehR0KXbZd68edavXz/r1auXTZo0yTZv3mx9+/ZNfd5nnnnGg62RI0faww8/bG+88YbfFqH7/vHHH/7YK6+80vr37+/PCQAAAAC5pWCsnmjTpk02Z84cGzJkiB199NF+adKkiX355Ze+rVChQnbzzTdbvnz5PHD65JNPbOrUqda2bVsbP368tWzZ0lq3bu3PpZmnZs2a2cqVK+3II4+0cePG2TXXXOPBmNx444320EMPWffu3W3FihX24Ycf2vTp061ixYp2wgkn+H688MILVqtWrVj9egAAAACQOzNThQsXtiJFivjM065du2z58uU2a9Ysq1q1qs2dO9fq16/vgZToq1IBFfSItkcCJTn88MOtQoUKfvvatWs9ffCkk05K3a7nWrVqla1bt87vo/srkEq7ffbs2bH61QAAAAAg92amNPN0xx13+MyUZpL27Nnjs05aJ6VZo8qVK6e7f+nSpW3JkiX+vYKicuXKZdq+Zs0a+/XXX/162u1lypTxr5HtWT1WQVi0tM+xUqBAAQurWP6esRTmMRPGLXqMWXKNW6x/v2T/PWOJMQuGcYseYxYM45ZcYxbNPsUsmJJly5Z5et5//vMfD5QUWJ166qm2bds2O+igg9LdV9d37tzp32/fvj3b7doWuZ52m2j7/p47GvPnz7dY0AxdtWrVLKwWL17s4xYmYR8zYdyix5glz7jlhli95+YljFkwjFv0GLNgGLe8N2YxC6a0NmrKlCn28ccfe8pfzZo1fXbo0Ucf9XVPGYMbXdf9IrNaWW3XQU/awEn3i3wv2p7dYyPPHQ3tc9jPWMdClSpV4r0LCYlxix5jFkyyj5vO+OnDM6+858YCYxYM4xY9xiwYxi25xiyybwc0mFKp80qVKqULYnT297HHHvP1UOvXr093f12PpOeVL18+y+1ly5b1baJ0vsi6qEjqX2R7do+Nlv6QYftj5oa88DvmBsYteoxZMHll3PLKe24sMWbBMG7RY8yCYdzy3pjFrACFAqOffvop3SyRilAoAFLvKBWEUL8o0VcVp9Dtoq8zZ85MfZwKTuii2xUsqRhF2u36XrfpZ9apU8eLUWj9VNrtuh0AAAAAQh9MqVnuv/71L+/x9MMPP9gHH3zgs1JdunSxFi1aeO+ooUOH2tKlS/2r1gOoHLp06tTJG+1OnjzZvvvuOy+h3rRpU08PjGxX094ZM2b45b777rNLL73Ut+k+jRs3tptuuskfq+dQT6rOnTvH6lcDAAAAgNxL8zvkkEPs2Wef9UCpffv2VqpUKW+ge/HFF3sp9Mcff9wGDBhgL774oq8HGDNmjDf4FTXxHTx4sDfkVU+qRo0aefGKCPWT+u2337ypr6YB9fxdu3ZN3a6+VOpd1aFDB0/vGzZsGD2mAAAAAOSqmFbzU/nzZ555JsttCm5eeeWVbB+rMuq6ZEUBVN++ff2SFZVC1ywYAAAAACRcmh8AAAAA5CUEUwAAAAAQAMEUAAAAAARAMAUAAAAAARBMAQAAAEAABFMAAAAAEADBFAAAAAAEQDAFAAAAAAEQTAEAAABAAARTAAAAABAAwRQAAAAABEAwBQAAAAABEEwBAAAAQAAEUwAAAAAQAMEUAAAAAARAMAUAAAAAARBMAQAAAEAABFMAAAAAEADBFAAAAAAEQDAFAAAAAAEQTAEAAABAAARTAAAAABAAwRQAAAAABEAwBQAAAAABEEwBAAAAQAAEUwAAAAAQAMEUAAAAAARAMAUAAAAAARBMAQAAAEAABFMAAAAAEADBFAAAAAAEQDAFAAAAAPEOpnbu3GmDBg2yk046yf7973/b/fffbykpKb5t0aJFdtFFF1nt2rWtXbt2tmDBgnSPffPNN+2ss87y7VdffbX9/vvvqdv0HPfee6+dcsop1rBhQxsxYoTt3bs3dfuGDRusd+/eVrduXTvjjDPstddei+WvBQCIsSJFisR7FwAACFcwdeedd9oXX3xhTz31lN1333324osv2qRJk2zr1q3Wo0cPa9Cggb388sse9PTs2dNvl3nz5lm/fv2sV69efv/Nmzdb3759U5/3mWee8WBr5MiR9vDDD9sbb7zht0Xovn/88Yc/9sorr7T+/fv7cwIAYmfP3r9Ojv1TBQoUsGrVqvnXMO0XAADRKmgxsnHjRnvppZc8yKlVq5bf1q1bN5s7d64VLFjQChUqZDfffLPly5fPA6dPPvnEpk6dam3btrXx48dby5YtrXXr1v44zTw1a9bMVq5caUceeaSNGzfOrrnmGg/G5MYbb7SHHnrIunfvbitWrLAPP/zQpk+fbhUrVrQTTjjB5syZYy+88ELqfgAA/rkC+fNZn4mzbem6LRYWlcsVs4c61o33bgAA8qiYBVMzZ860YsWKeRpehGaj5Pbbb7f69et7ICX6Wq9ePQ96FEwp4LriiitSH3f44YdbhQoV/PaDDjrIfvnlF08djNBzrVq1ytatW+f30f0VSKXd/vjjj0f9O+zZs8diJVZnXHNDLH/PWArzmAnjFj3GLPnGTYHUwtWbLWzCOmax/v2S/feMNcYteoxZMIxbco1ZNPsUs2BKs0hHHHGEvfrqq/bYY4/Zrl27PFBS2t2vv/5qlStXTnf/0qVL25IlS/x7BUXlypXLtH3NmjX+WEm7vUyZMv41sj2rx65duzbq32H+/PkWq7UASmEJq8WLF9u2bdssTMI+ZsK4RY8xC4ZxS44xyw2x+pzKaxi36DFmwTBueW/MYhZMaf3TTz/9ZBMnTrThw4d7kHPHHXf4B7A+4DTDlJauq2CFbN++Pdvt2ha5nnabaPv+njsaNWvWDP0Z61ioUqVKvHchITFu0WPMgmHcopfsY6azpDrgyCufU7HCuEWPMQuGcUuuMYvs2wENprQuasuWLV54QjNUsnr1apswYYJVqlQpU3Cj64ULF/bvtZ4qq+0KxNIGTrpf5HvR9uweG3nuaOgPGbY/Zm7IC79jbmDcoseYBcO4RS+vjFle+ZyKNcYteoxZMIxb3huzmFXzK1u2rAc2kUBKjjnmGF/vVL58eVu/fn26++t6JD0vu+16Tm2TSLpf2u8j27N7LAAAAACEPphSf6gdO3bYDz/8kHrb8uXLPbjSttmzZ6f2nNLXWbNm+e2Rx6qARYQCMF10u4IlFaNIu13f6zYFY3Xq1PFiFFo/lXa7bgcAIFnQmwsAkjiYOvbYY61p06be8+m7776zTz/91MaMGWOdOnWyFi1aeO+ooUOH2tKlS/2r1jqpHLroPmq0O3nyZH+sSqjruVQWPbJdTXtnzJjhF6USXnrppb5N92ncuLHddNNN/lg9h3pSde7cOVa/GgAASdWbS+jPBQD/XMzWTIkCniFDhnjwozNoCmi6dOnipdBVqnzAgAHeyFcLhRVoFS1a1B+nJr6DBw/2hrybNm2yRo0a+fNEqJ/Ub7/95k199UHSvn1769q1a+p29aVS76oOHTp4et+wYcPoMQUAiLsw9uYS+nMBQAiDqUMOOcQDm6wouHnllVeyfazKqOuSFQVQmvHSJSsqha5y7AAAhE1Ye3MBAEKU5gcAAAAAeQnBFAAAAAAEQDAFAAAAAAEQTAEAAABAAARTAAAAABAAwRQAAAAABEAwBQAAkpb6XgJAbiGYAgAAobJnb0pMnkd9KqtVq+Zfw7RfAJJHTJv2AgAA/FMF8uezPhNne8PjsKhcrpg91LFuvHcDQMgQTAEAgNBRILVw9eZ47wYA7BNpfgAAAAAQAMEUAAAAAARAMAUAAAAAARBMAQAAAEAABFMAAAAAEADBFAAAAAAEQDAFAAAAAAEQTAEAAABAAARTAAAAABAAwRQAAAAABEAwBQAAAAABEEwBAAAAQAAEUwAAAEhVpEiReO8CkDAIpgAAABLcnr0pMXmeAgUKWLVq1fxr2PYt7AhC86aC8d4BAAAA/DMF8uezPhNn29J1WyxMKpcrZg91rGthpUBPYxerIDRs+4XcRzAFAACQBBRILVy9Od67kVDCGISGPQBFegRTAAAAyLMIQvFPsGYKAAAAAAIgmAIAAACAAAimAAAAACAAgikAAAAAB1yRJCgnTzAFAAAAIEfoaXaAqvn16NHDSpUqZXfddZdfX7RokQ0YMMC+//57q1y5sg0aNMhq1KiRev8333zTHnzwQfv111+tcePGNmTIEH+8pKSk2H333WdTpkyxvXv3Wvv27e3GG2+0/Pn/igU3bNhgd9xxh3322WdWsmRJ69Onj1144YW59asBAAAAeVIYy8nHs6R8rgRTb731ln388cfWpk0bv75161YPrs4//3wPriZMmGA9e/a09957z4oWLWrz5s2zfv36eYB14okn2tChQ61v3772+OOP++OfeeYZD7ZGjhxpu3fvtptuuslKly5t3bt39+267/bt223SpEk2d+5c69+/vx1zzDFWq1at3Pj1AAAAgDyLcvK5mOa3ceNGGzFihNWsWTP1trffftsKFSpkN998sx133HEeOB188ME2depU3z5+/Hhr2bKltW7d2oMpPV7B2MqVK337uHHj7JprrrEGDRrYKaec4rNSzz//vG9bsWKFffjhh3bnnXfaCSecYBdddJFdcMEF9sILL8T6VwMAAACA3JuZuvvuuz3Fbt26dam3abaofv36li9fPr+ur/Xq1bM5c+ZY27ZtffsVV1yRev/DDz/cKlSo4LcfdNBB9ssvv9hJJ52Uul3PtWrVKv8Zuo/uX7FixXTbI7Na0dizZ4/FSizzP2Mtlr9nLIV5zIRxix5jFgzjFj3GLBjGLXqMWTCMW/QYs/iNWzTPEdNg6ssvv7RvvvnG3njjDRs4cGDq7VoHpXVSaSlNb8mSJf69gqJy5cpl2r5mzRp/rKTdXqZMGf8a2Z7VY9euXRv1/s+fP99iVZlEC+rCavHixbZt2zYLk7CPmTBu0WPMgmHcoseYBcO4RY8xC4Zxix5jlhjjFrNgaseOHV5gQoUgChcunG6bfiHNMKWl6zt37vTvtd4pu+3aFrmedpto+/6eOxpKTQx7tB0LVapUifcuJCTGLXqMWTCMW/QYs2AYt+gxZsEwbtFjzOI3bpqZyukkS8yCKRWHUHW+Jk2aZNqm9VIZgxtdjwRd2W1X9Js2cNL9It+Ltu/vuaOhQCovBFN54XfMDYxb9BizYBi36DFmwTBu0WPMgmHcoseYJca4FYxlBb/169db3bp/lSSMBDjTpk2zVq1a+ba0dD2Snle+fPkst5ctW9a3idL5IuuiIql/ke3ZPRYAAAAAQl/N77nnnvO1Uq+++qpfzjjjDL/o+9q1a9vs2bO9X5To66xZs/x20deZM2emPpcKTuii2xUsqRhF2u36XrcpGKtTp44Xo9D6qbTbdTsAAAAAhH5m6ogjjkh3XaXPpVKlSl4QQk131T+qY8eONnHiRF/rpHLo0qlTJ+vSpYsHQFq3pPs1bdrUjjzyyNTt9957rx122GF+Xc/VrVs3/173UZNf9Z5SyXXlN6onlcqtAwAAAEBCNe3NqFixYl6qXAUqXnzxRV8YNmbMGG/YK0oNHDx4sD388MO2adMma9SokQ0ZMiT18WrO+9tvv1mvXr08D7J9+/bWtWvX1O3qS6VAqkOHDp7eN2zYMBr2AgAAAEjMYOquu+5Kd13BzSuvvJLt/dVvSpesKIDq27evX7Kima/HHnvsH+4xAAAAAMRhzRQAAAAA5CUEUwAAAAAQAMEUAAAAAARAMAUAAAAAARBMAQAAAEAABFMAAAAAEADBFAAAAAAEQDAFAAAAAAEQTAEAAABAAARTAAAAABAAwRQAAAAABEAwBQAAAAABEEwBAAAAQAAEUwAAAAAQAMEUAAAAAARAMAUAAAAAARBMAQAAAEAABFMAAAAAEADBFAAAAAAEQDAFAAAAAAEQTAEAAABAAARTAAAAABAAwRQAAAAABEAwBQAAAAABEEwBAAAAQAAEUwAAAAAQAMEUAAAAAARAMAUAAAAAARBMAQAAAEAABFMAAAAAEADBFAAAAADEO5hau3atXXPNNdawYUNr0qSJDR8+3Hbs2OHbVq5caV27drU6derYueeea5999lm6x37xxRfWqlUrq127tl166aV+/7SeffZZf866devabbfdZtu2bUvdpp+h2xo0aGCNGze2p59+Opa/FgAAAADkXjCVkpLigZSCnOeff94eeOAB+/DDD+3BBx/0bVdffbWVKVPGXnrpJbvwwgutV69etnr1an+svmp727ZtbcqUKVaqVCm76qqr/HEybdo0GzlypA0ePNjGjh1rc+fOtXvuuSf1Z48YMcIWLFjg2wYMGOD3nTp1aqx+NQAAAADIpKDFyPLly23OnDn2+eefe9AkCq7uvvtuO+2003ymaeLEiVa0aFE77rjj7Msvv/TAqnfv3jZ58mSrUaOGdevWzR+nGa1GjRrZ119/bSeffLKNGzfOLrvsMmvWrJlvHzRokHXv3t1uuukmD7j0+CeeeMKqV6/ulyVLlnhA16JFi1j9egAAAACQOzNTZcuWtSeffDI1kIrYsmWLzyRVq1bNA6mI+vXre/Al2q4UvYgiRYp4UKTte/bssfnz56fbrlTBXbt22XfffeeX3bt3e/pf2ufWc+7duzdWvx4AAAAA5M7MVPHixX1NU4QCmfHjx9spp5xiv/76q5UrVy7d/UuXLm1r1qzx7/e1ffPmzb4mKu32ggULWokSJXx7/vz5rWTJknbQQQelbldAp8ds3LjRUwZzSoFbrBQoUMDCKpa/ZyyFecyEcYseYxYM4xY9xiwYxi16jFkwjFv0GLP4jVs0zxGzYCojrWlatGiRr4FS8Yi0wY7o+s6dO/17rbPKbvv27dtTr2e1XWl+WW2TyPPnlGbAYkEza5qJC6vFixenK+ARBmEfM2HcoseYBcO4RY8xC4Zxix5jFgzjFj3GLDHGrWBuBVIqBqEiFCeccIIVKlTIZ4nSUqBTuHBh/17bMwY+uq7ZLm2LXM+4XX9QRY5ZbZPI8+dUzZo1Qx9tx0KVKlXivQsJiXGLHmMWDOMWPcYsGMYteoxZMIxb9Biz+I1bZJlRXIKpIUOG2IQJEzygOuecc/y28uXL29KlS9Pdb/369ampe9qu6xm3V61a1dP5FFDpugpXiNZIKTjTOi3NTG3YsMFvU/pfJG1QgZSCsWgokMoLwVRe+B1zA+MWPcYsGMYteoxZMIxb9BizYBi36DFmiTFuMe0zpZLkqth3//3323nnnZd6u3pHLVy4MDVlT2bOnOm3R7breoSm5pQiqNu1JkozRmm3qzCFAqcTTzzRAy59HylmEXluPUaPBQAAAIDcELNoY9myZTZ69Gi74oorvJqeZociFzXxPfzww61v375etnzMmDE2b948a9++vT+2Xbt2NmvWLL9d23W/ihUrell0ueSSS+ypp56y999/3x83cOBA69Chg6f56dK6dWu/Tdt0HzXtVeNfAAAAAMgtMUvzmz59uucXPvroo37JuBBMgVa/fv28MW+lSpVs1KhRVqFCBd+uwOmRRx6xYcOG+e0qc66v+fLl8+2a5Vq1apXdcccdvh6qefPm3mMqQsGXgin1oipWrJj3rtJ9AAAAACD0wVSPHj38kh0FUCqVnp3TTz/dL0GeX7NTag6sCwAAAAAcCCwqAgAAAIAACKYAAAAAIACCKQAAAAAIgGAKAAAAAAIgmAIAAACAAAimAAAAACAAgikAAAAACIBgCgAAAAACIJgCAAAAgAAIpgAAAAAgAIIpAAAAAAiAYAoAAAAAAiCYAgAAAIAACKYAAAAAIACCKQAAAAAIgGAKAAAAAAIgmAIAAACAAAimAAAAACAAgikAAAAACIBgCgAAAAACIJgCAAAAgAAIpgAAAAAgAIIpAAAAAAiAYAoAAAAAAiCYAgAAAIAACKYAAAAAIACCKQAAAAAIgGAKAAAAAAIgmAIAAACAAAimAAAAACAAgikAAAAACIBgCgAAAADycjC1Y8cOu+2226xBgwbWuHFje/rpp+O9SwAAAACSWEFLEiNGjLAFCxbY2LFjbfXq1XbLLbdYhQoVrEWLFvHeNQAAAABJKCmCqa1bt9rkyZPtiSeesOrVq/tlyZIl9vzzzxNMAQAAAMgVSRFMfffdd7Z7926rW7du6m3169e3xx57zPbu3Wv58+87mzElJcW/7ty50woUKBCTfdLzVD3sYCsUm6eLiWPLHmx79uzxSxiFccyEcYseYxYM4xY9xiwYxi16jFkwjFv0GLP4j1vkOSIxwr7kS8nJvUJu2rRpNnjwYPv8889Tb1u2bJmde+659uWXX1qpUqX2+XgFUfPnzz8AewoAAAAgEdSsWdMOOuig5J+Z2rZtW6ZfNHJdgdL+FCxY0AdLM1j58uXLtf0EAAAAEG6aa1J2m2KE/UmKYKpQoUKZgqbI9cKFC+/38Qqi9hd1AgAAAEDSlUYvX768bdiwwddNRfz6668eSBUvXjyu+wYAAAAgOSVFMFW1alWfhpszZ07qbTNnzkxN3QMAAACAWEuKSKNIkSLWunVrGzhwoM2bN8/ef/99b9p76aWXxnvXAAAAACSppKjmFylCoWDq3XfftWLFiln37t2ta9eu8d4tAAAAAEkqaYIpAAAAADiQkiLNDwAAAAAONIIpAAAAAAiAYAoAAAAAAiCYAgAAAIAACKYApPr999+NmjQAEtmyZcvsjz/+8O8//fRTGzRokE2ePDneuwXg/9u7d69/Xbdunb3zzju2fPlyS2QF470DMBs5cmSO79urV69c3ZdE/wB96aWX/EWZL18+q1KlirVv394qVqwY710LpbVr19pdd91lPXr0sGOPPdbbCajZ9WGHHWaPPvqonXjiifHeRSSJZs2a2XnnnWfnnnuuVatWLd67k/AnPEqWLOnvcchs0qRJNnjwYHvmmWe8TcqVV15pp5xyir333nu2evVq69OnT7x3MXR2797twebpp59uFSpUsIceesjbzOi12q9fPytRokS8dxFJYubMmXbttdfaPffc48cdbdu2tR07dnh7I93WsmVLS0TMTIXAjBkzcnT5+uuv472rofXBBx/YhRdeaPPnz7djjjnGjjzySB+vVq1a2f/+9794714oqS+bDsz0Qfnyyy/b999/bxMnTrQzzjjDhgwZEu/dC/WBx4QJE/zATHTgoUDhpptuso0bN8Z790Lp1ltvtVWrVlnnzp2tRYsW9vDDD/vJD+z/hMd1111n3377rR9w/N///Z81atTIX6PfffddvHcvlJ588km7++67rWHDhn5yrWrVqn7bAw88wOxUNnRSbfTo0bZ582Z7//337YknnvDP019++YXPgjw605Jbhg8f7ifVateubS+++KIVKlTIPv/8c/8/0+dCwlKfKSDRtWjRImXMmDGZbh89enTKhRdeGJd9Crs6deqkLF++3L/v1q1byq233urfr1ixIqVWrVpx3rvwGjJkSErjxo1Tvv3225T33nsvpXr16imPP/54SufOnVOuv/76eO9eqG3bti3l7bffTrn22mtTGjZsmHL++ef72K1cuTLeuxZK//3vf1MuvfTSlNWrV6e88MILKSeddFLKnDlzUgYPHpxyySWXxHv3QqlmzZo+XtKsWbOUxx57LPV9Te95yOzUU09NmT17tn+v97CePXv6999//31KvXr14rx34fbNN9/458GXX36Zsnbt2pRGjRqlNGjQwD8X9F6HzK/PVatW+fdt2rRJueuuu/z7n3/+OaGPO5iZCqGVK1f6mbWrrrrKz3JMmTLFp0aRPZ1BO/PMMzPdrrPgP/zwQ1z2Kex0Rkhnuzdt2uQzn02bNvXbf/75Zzv00EPjvXuh9fbbb9sjjzziaZA6A9m4cWNPlRwwYIB99NFH8d69UCtcuLCdc8451qFDB581/umnn+zZZ5/177t168ZrNYOvvvrKZ5APP/xwnzHQe5zO6Hbt2tUWLFgQ790LJaUOvfHGG/65qdnjs846y3bt2mVPP/00qcvZUIpV6dKlfdb9k08+8bTcyGxLwYKsBsmTMy25pEyZMrZ06VK/LFq0KPV/7YsvvvD3uURFMBUySkm74IILPCVGC2d1sKvp4ssuu8xzmJE15dkqlUMfmmkprUNvdMhMBxnKXdb/loInBVMKFJSuphQPZI0Dj+hpbPRheccdd3jwqf87vbc99thj9tlnn/lF64C0vgV/44RH9G655RZ76qmnrH///nbJJZfYcccd5we8WjOl9T/IrF69er5eRa9Pvb/ps0FppFp7pvVmyJ7S4/UZWqRIEV9u0Lx5czvooIM8zTSSCo6/6UTQ1Vdfbe3atbOaNWv6OOlzQEVidHuiyqfpqXjvBP6mM7YKppQbX7duXXv99dd9/Y/O3upM25tvvhnvXQyl66+/3oNNrf+pUaOG/etf/7LFixf7LJ/OGOnNLWLcuHFx3dewUDAwfvx4D9wvvvhiq1y5sr366qu2ZcsWX9vCAvesqVDHwQcf7Ivb9fr8+OOP7ddff/UzkTrrpjVUSO/kk0+2nTt3ejCg9WWnnXZautekTJ061e69916fgcFfFBB88803PqOn/zEdrE2fPt2GDRtmbdq0sRtuuCHeuxja4F3V/CIB5/r16/17fS4g68wOBU46+L/88svt/PPP9zVmminWzGipUqXivYuhpfWLGiMV7tAMu44vFCDoRK6Cer2vIT3NSOl/TSfW9N42Z84c/5rIM8cEUyFTp04dT1FQAJU2mFJQoIOQefPmxXsXQ4mKiP+MznwfcsghHkARRO0bBx7BXp//+c9/PAhFznHCIxgFUvrs/PHHH322c+7cuT52+iwFYknBk2b18ufPbyeccIIHUZpp0XueZkT1+YDMlixZ4q9PFdT57bffvOpyIr+fEUyFjAImTXUqNS1tMPXcc8/ZCy+84Gs0gFjQS19v+pr11MHHtGnTfFalaNGifkY848wB8E9mpnTQoXYFyDlVo1PakE50ILq0K62/0Pf6zFSlOs0QPP744z5rgPT69u2b5e06uNVsXtmyZf3/UMEC8sZMS26euO3Tp49XW9YxiDKKhg4d6hMGY8aMsSOOOMISEWumQkZrCW6//XYvQLFnzx4/C6kccF3v3bt3vHcv1B8G+7ogs1GjRnmwrrK4kcBJqUNaPDtixIh4716oqSDMNddck1o+WB8Cb731Vrx3K7SOP/54nx1AdHSiQ2duNbuiFG+tZ8G+3XnnndapUydv9xBJ69MMgdZP8b6WNc0Y61hDs+tKhyxevLgf3GoMNWugliMXXXSRffjhh/He1VBSP65KlSr5OvetW7f6mlpOHGX/+tT6MhXXUcApSltWf0ttS1Sslg6Zs88+22eiVHlIByDKj1ffpOeff97X/iDn6TH6MFB/Fq0/Q2avvPKKB1InnXRS6vS6DtwUuOvMkWankJnOpClA1/pGVe/T/5oKT6iXks666aAN6ekATdUOVd1K6RwZZz1Zx5g1pXyrH5dmVzSLrBNtaqyqDAZ9ZfY4Mx34Z3VQ1rFjR/8cRWaqqqmAXSeI0tL/nGZZNKOn9DVlLkQK7iC5Z1pyy6effuqZVgrYI5Qar89UvUYTFcFUyOhD4NJLL+UMWpR05jErqvCnVA9kpjOO5cqVy3S73uR0dg1ZUy681kYpF15NjkVlvZUKo2CBYCozNU7VBdFTNTqt89RFgdVrr73mFTcVwOvkm2YMVI0Nfx+YaYblqKOOSnf7rFmzfMYAWVcRzqrSoVqLKEUycqItkWcODsRMi05wRGZa9BrVtkcffTTeuxg6O3bsyHTb77//ntDVcBN3z5OU0q6U743Y0IeB0tmQmUreqtqQiilEaGH7/fff72tckP1ZXBWKyahWrVq2du3auOxT2FH05Z/R/5XWNOqst2YK9L+mdbWq8KcZBc2SUtnvL1dccYXPqv/3v//1mQId5GoWfuzYsXbdddfFe/dCSdkw+v/q2bNnuttVTj7S+0fFAiiuk3dmWnJLq1atfOZOxx3KiNGJW71GlbmQyG1sCKZCWINf/2T6qlKb6jOSlm5DzuhFqiZ66l+DzDS7ooNcnXHUmSI1idYiWv2PcTYte6oKpg/QjDNQOmDTNvwlmrWK2c0s53VaM6WDXK030+J/pfepclja5pZHH320f2YQTP1FB7CacdeJIq3JUJaHUuXVuiCRD9Zyk9Zl6/1f/d7UWkTUFFr/d5ptV7q8AlHNwCNvzLTklptvvtlP2LZt29b7gmrdcYECBXyGXdsSFdX8QiZj9ZfIWhb9mfS93tSQ9bhlVVZTwaim2nU2BFn78ssvvTG01v7ooEMViVTmFVlT3x+d9f73v//tfX/0YaDZKh18KAg99dRT472LoUAw9c+dc845HkDponS/rKifnv731AQTCEprfLQuSmnxOrjViSGV49fJNZWxXrFihZ155pnx3s3Q0fHFwoUL/YSGxmvChAm2YcMGn2nRiUo1QkZm27dv9/85FVrTzGiit80gmAoZ9RPZFxYzZk2LP7Mq6aoPBDVXRdY2b97sAacu6nivM5PVq1cnINgPpVepVYHWsOjDQEGoZqqYOUZuUBU/BexqRqu1QLynZV7HqGbaWruyv56DpJxGR7MHNDvOnpqRa6ZFxU00VhKZaVFRokjFury+Jq9u3bo+U6fv90UFsRIRwVQCvWA1K0VFv33Tmh+dQVMQpTHjoCN777//vt14442+wFhBuqbdVZ5UqX5KGaIK4r5xgBt9OXmtW9GYqUqYKtXp/06zLsiaDs6U1qfAXTPHogMSFT8ZNGgQ1fz+vy5duvjaWK1b0ffZ0Uk2Kkdmtn79eq/Yt3TpUj85JDo01P+fThjt7wAYyTfTEuvMoc8//9wLwOyr91YiZ1+R0BkyqjikD0m9qekgLS2d7VA6BzJT4KRpdvXFEK0zUIlvHfDqrJFKMyO9Bx980EvhKl3t3nvv9XUY6mWjXiJaX0Awtf8D3MiBh16bHOBmj3Lyweg97OOPP/b0UZ3Z1WfC7NmzPbXogQce8LUuMC8AEKFUK6VXsVY252677TY/CanGvGrL8p///MevqwCFXqPYt08++cQzOtTOZsqUKX7Mod5TWofG54F51kuEjs3UkyvZsDAiZPQhqbO1OnOrlIVHHnnEKxOVKFGCcun7oLFRAKoiAJGiHWpyrNxlyrlmTR+WLVu29O/Vz0xllkUfCFo8i+wPcBVw6gBXZ2xnzJjhZ8W1lkoHuMi+nLwO/hV4ihazq4TwM888E+/dCy2d3ND7V5MmTXzmUzMvKr+skx2a2UNmOqGxcePGeO9GQtH7mNYtXn/99d5stmnTpt5T6tprr/VAAdnTe7/6TP3888++3EBrpHRiUoEoa0Ez04mzZJwUIJgKGS30VIqVPjx1pkO5yp07d/bFjKpOhOzPfKtPRtqu4/peBx18GGRN63sUCKgAhfqynHHGGX67DtJUIQxZ4wA3epSTD0apVln1RlLp5T///DMu+xR2auug16GyFZDz/7Py5cv790qRX7RokX+vk21qgozsqWKwTnprCYZ6wGnNjwL6u+66y95+++14717olClTxntcJhvS/EJGs1GRM7fHHnusV2rSgZoOOnTAi6zpwEJjl5HSYiKpWEhPKX4qRarx0ZnImjVr+qyLGtHubxF3XsYBbvQoJx9ssbZ6wSkFV5fImjwVjaEXXPZ0oKZ1oMru0GsyY3sRzcIjPaWkKRBQzzI119b6Fq0902wL9k1pyjpW0+eCUpjV50z0euXYI7NI+qOON5SFlTENMlFn8wimQkYfnvfdd5+n9ukDVX1GtM5AJZjTNoVDeppVUYqVgoEILQbVDEKkKznSU88V/b9pZkAfoKIKRKqKpbNHyBoHuNHTeimVk1dzRq0504Fu2nLy+Null17qVTUVsGsti65rFlQVI0Un1bTAnXHLmj4vdUHOKRtGr0+dkFSrhyeffNLXgKoY0QUXXBDv3Qs1FVRQ1pCWYig9Xuny+kzV50FWs/GwpPyfoppfyOhFeNNNN/kLUs0HtRBUazE0W6U1BzrYRWZ//PGHH3jorKNmoxR46jb1TNJ6KhYjZ6YPyn2hzHf2r1Ed4K5bty7LA1zaF2RfMUzlgyknn/PKV6LgU6nK6gWnWRaNmwos0Atu36i2GX0lXFWk04k0vcep2qsCBKX68b+27+IKWguqtjYKSC+//HIbOnSoVy/VujN9LiD5EUyFnP48Kqyg4CCS04zsaTZKB2uRBrRqdBlpeIycNTqOSNQSpQcCB7jR0UHFaaed5usKGKP9vy6/+OILT1HDP6+2qfd/ysnnjE4K6fNTa7WVukYgEIzW6/F/lj0F6pr91Odn5MSaqge3bt3aEhXBVAjpzeyll17yfzQd7KqQgmakOOOdPZVEV5+kjObOnesfoJGS6ci+QbTe1FThT4tpldNMeiRimUYUSfFTQ2ilrenCCaKsgylVA8tJ0Mn6n8yU2q1y8qqqlrGc/FlnnUU5+Sz88ssvvn5W6/XURkSHhcrsUPq8Zlk0Q4Ws6XNTRSj0ealZdp04UkEsrQ1SUSzGLj2tydZyDAVPkdenWgJNmDDBs4sSNfuKYCpktDZKhQH0T1ajRg1/oWpdgarrPPHEEwnbHTq3abxUnrRr165+XSXRtaZFQdQ555zjPZWQM/PmzfNUU/WDQNZpHUq51dcdO3Zk2s6MXvY0ZqoeqYsO3CpWrOgzVvp/w9/BlA4qDjnkkP3et02bNgdknxJtTaMOaDOuX1QwryblWo+G9LROVscaCpwiJ21//PFH/z9U2t/DDz8c710MLQXp+qzU8ZkKdqicvI7hlLmgk0VaA4+/6YRGr169Ms1CqRiR1tIm6nEHBShCRukJCgoiFWEitBZDb3Svvvpq3PYtzFSoQ/nK6i9y2GGHeTEKvZGNHTvWGjZsGO/dSyiaDaVc9b6LKejsrT4kc3LAi79pll1nIpV2pYv6dekAhGAq/evvvPPOy7JiJPaPapvR04kNnXhMm/2i9hia3dPabWRP5c9VPVInQRRQaZ12jx49rFmzZoxdNtU2syrMoRPimiFNVARTIaN/pjPPPDPT7S1atPCoHVnTWgxNE2vxpwor6IyaFrezPiN7WZU/18HG1KlTff0Psk/DVR+bZOzinpv/a0rlUNqt1hLUq1fPGjRo4CdAlA6Dv5Es8s9QbTN6Wlv8/fffZ2pToDXILC/Yf6ETBe9ap63ZKM1+SuSkEdJT5WBNCmgGL5naZPCXDhlVztHCPK3z0SLQiMmTJ3spa/wtq1m6iy++2FMS1Ik8bfWmRF7YmFvUsDfjGXH9z6k0rqpIIms6+Nd6RoKpnNN7mlIildLXrl07D6QosJB96l7G3kjIuezKySullBOSWX9+KgDV+h4tJ1D/H1UPVo9LZXzwWbBvOjGkjCIdbyiwUhqb0pnVxF3jivSUhaDlGDr+0ElwmTNnjo9ZIr8+WTMVMtdff70vXtSiRa2Z0sGt3tR0hkj/eGkrxIwbN87yMi2OzQkFCSzURqwOPHQGVwViOnXq5NWuIk22IwjcM9NZ2/nz53s6kVo9qCCAzubWr1/fAyvW/iCWqLa5f3x+xi6baPDgwZ4Ro8wYVY3UMgMF8Fpby0mjrLM7NEGgr5HXpzKJVHgnURFMJUDqVXa0iA/4J3QmUg0H05Yo7dy5M+vMMuDAI7Z0FlKlq5XaoUCLoh2IJaX16SBNF/2vqehE9erVvZIkgPDYvn27n6DUsUcir0EmmAoxVaTTmTQtdsf+qfu4zgYpV1n0r61+DwoYtCAU6b333nt23XXXWfPmzX3xp4IpTberB4SqHypdAZkbz2rWOJILv3DhQq8SplkWjWPRokXjvYuhpF55SutQ+q1mppTyp/Urmi1QOhb9bBArev/SuhUVBdB6H7XMUFEizRyoRL9KMuOvohM5RRXhfVODXhW7UpNopappTa3+91RIBpk/C5SKe+utt/oaKS3N0HFbkSJFvNBaoqZGsmYqZBQIaM2PpkAVHEi5cuV8toCAIHvq86Cpdp3l1uxA5ByBvq9VqxZjlwWVD9ZBR6ScfITy5NVrimDqb1u3bvUDsY8++sjefPNNX7CtWRWtM9CBms6Aa8w020LvpMwuuOACnxlQ8NSlSxcP3jOmRwKxoBNBKk3973//24tQKHVIr1lVjtQ6FoKpv+h1mFbkc1MHtVpeoNk9vUaLFy/urQyQNS3LUIXXDh06+OeDjkF0sk3BwqZNmzx9DX9TPQCdPFO1yClTpng/M80cK3Ve/af0uZqQNDOF8LjzzjtTTjvttJSXXnopZfHixSnffvttyosvvpjSuHHjlEceeSTeuxdazZo18/HZsWNHSqNGjVJWr16dsmTJkpQ2bdqkPPHEE/HevVCqVatWyo8//pjpdt1Ws2bNuOxTWA0fPjylVatWKd98803K3r17U/7888+UevXqpVx88cUpO3fu9PvccccdKTfccEO8dzWUNmzYkPr9xo0bU/bs2ePjCMSa3rv0/i8tWrRIefDBB/37lStXptSuXTvOexdOkydP9veypUuXpt6m8brsssv4/NyP888/P+X111/37+vUqZOyYsUK/163nXXWWXHeu3Aed6z4/2PUqVOnlIEDB/r3P//8s29LVKzGDJnXXnvNK8MoNeGEE07w3gXqCK2IXWe9kbV169b5wn8V6NAZcKWraQpZ08ma5UNmml3RIu2MPv74Y8rhZnH2UbNQKpigM7g6k6Yy8jq7G6m6qdcsDUGzplRlpXAotU/rVlatWuVVndTHRqm4QKxUqFDBU0o1m6L0och6R6Ve6Ww4MlPPPBVL0GdChKof6vNzzJgxcd23sFNqX1Z9k5QRQ7/GzLQuSunyKtyh47SmTZv67Vo3m8i99QimQqZw4cLpSqJHaKpdB3HImirmRNIijz322NQF7Uq54g0ta7179/YgXal+zz33nF+UyjZixAjfhr/9+uuvdtRRR6Ve/+KLLzwFRg0aI8qUKeOlcZHZqFGj7PXXX7e77rortSKpKvh9/vnn/v8GxIpS/Pr372/dunXzAzWV+tb7nIICmkNH16j9xx9/pEz/fuik7aeffprp9kTvm5Rb2rZta1deeaWvlVLArs9Q9QjVa1MtDRIVBShCRrndOvC4+eabfV2Bcm9VjWjo0KHeg6pVq1bpzsDhL8OHD/dZFo2TqsNo/G6//XbPk1dgpRk/ZKazt5rxTFuiVGuodFYNf9P6Mf1vaWZFb5k62621GGlni/XaVTVONT1GempErkBKC9n1vqbASnnzKkbRp08fD6qAWNGJNQUHahAqqlaqE5I64YHM9L6lk2nqKaVsGL3HqZWB2q/oxNpll10W710MLb2Hqfm41uh98MEH3qdRs1ULFizw2XgqSGZd/ErZCTqe1WtS2TCqF9CsWTNLVBSgCJlI92xF7pGZqEi8q6BA/Qt0XdsoJ5x+3DR9rAqIOnBTY9ABAwZ45bVhw4bFe/dCS2/0vNnvnz4gFUzpwF/V+5SioFm8CJ3wuP/++73QAjL77bffvJBORjrAVXEPIJb0OaCz3qJZAx3kqtm2UuaRdZuVsmXLekr8448/7rcdf/zxnobLe9q+qU+eTqA9//zzfn3jxo2e9qcZd054Z+3ss8/24EnVqrVEQ58BVapUsUTGzFTIKFrPKda1IFqqOhTNbB/+ogpNWsuo5r06kaF0hKuuusq3KYXomWee8ZQiVUgkLSYznblVMKWKm5GZqZIlS6aePFI5YSAWJk2a5P9nek0WK1bMq6yp3LJOeCiY0gkRIFb0OaATa2nXm2HfZeSvvfZa/zzVkgyl/alVhlLkdZsysBIRwVQCULqC0tR0IPf222/He3dCgwbH0SOYir3Fixd7jy6d+UbW1qxZY1dffbV/1ayBDjx04kgnhJQKE5lFAGJx1lsBk1KIVAp93rx5PuOivkrqq0eRmOxTvpXat2vXrtRsmAg+P7OnQF0BfKVKleK9Kwmhffv2XshJAdVTTz3la8veeecde+utt3xdo75PRKT5hZQidVUQUwCltCKdDY9UJcLfwZSmiZUXf/DBB2f6AIigcMffCJBiL9HTEw4E9eJSHxEdsGn9ioJPrc9T3ym9hoFYnnzUwZpozawWukf+B1WBE5lpPaPWR2m9lD5L0+Lzc9/UR0pBeseOHT2tL2NmAg2P0/v++++9l6r6mSn9Vs3uVZSoYcOGXlEyURFMhXAxoyL1adOm2ZYtW/yNTAUBtDA0qzUHeZnWRKnbvcpr6g1La6V0UWU/7P8NTVR+XxSwq6KO8pg1zX7uuefGeQ+R6HTyJ7sDMRXWUZqfXrtqqE1qJGJFqUMqg67PgdWrV3vxGM22PP300x4sIDOd6FBAxfqo6I0ePdq/an1ZRqxtz0wFJ5YuXerrpBYtWuTNjSMVclXUKVERTIXAypUrPY1PQZRSX5QCoy7tSldQvreKKRBIZdapUye/KOhUNRhViFHOrQIEfYBq/FhXlt6KFSs8x1tvZqKDC6VwaMpdlepEJUo1pvrfA4LaV3l9zSKr872qISr1T8U9gFi45ZZb/P1s06ZNPmugz1OtodLnA2vzsqY2D1RwDUYZRJHgQGv0VLiD447saXJAKd/KSFDbAs1I6XWpTKNEzpxhzVQI6IBW+bYKDFQaMm3urRrQKtCiX0HOqAGoUommT5/uKR46C6LASi9emHXv3t0rHGrtlHqa6U1MZ2x18KEZAlFVookTJ/rZXSA3qSiAThxpRh6IFc2wK1hXs2hRk1B9n1UPR5g98sgj3lNKa8yKFi0a791JCDrO0MH/kiVL/HqkyrLUqFHDg3pV+kNmmpHSrLF6TOk4RBkK+prIM8ckq4dA69atvXSwFt+pE7nWSemsGqKn3NsmTZrY+eefb+edd57PxDzxxBPx3q3QmD17ts9MKcjUWTQ1uJTTTjst9T5KlVSfDCC3qRiFPkSBWNLaKPV904ynek6psIJmQJG1r7/+2pcWKF1enwWRlPnIBempiMnll1/uB//qz6XAauHChZ4u/+yzz/p6UC3N0OctMlOxJk0aqG2BZvRKly6d8GuPSfMLAeUqa0blo48+8oomWoSnDu4qIayzHUq5wv4/PCP9RNS8V1SqWmeOdPYDf9EbV+RsbST41HqVtIuOtZ5FawyA3KKz4HrfmzFjhh90ALFcD6oms1p/oe/VxkCpWNdff733UFJaEdJTeWpdkDOjRo3ydDWlxKelz1aly+ui71WpVCfJ8TdNFKjapgJ4Hd/qtamTHlruorFK1BRJgqmQ0EGtqproogNe5XerDLrySpUGo4BAPTI4S/Q3nWlUOp8CKJW9LV++vC96V6UYVXNSHjgyozoT4k2zojp7q3V5VClFLN15552eMq9Zd52QFJ1UU0EKNVKdMmVKvHcxdNq0aZPtNk6sZZ2erJTIfdHxWrdu3Q7YPiXS67NIkSI+i3f66af7bcOGDfPAVNsUgCYigqkQUs7yhRde6Bd109b0u1IW9OGgqWT8RevLNIui1ATlJ0cq08msWbPS3ZfypH9Tb4e0efH6sFRZ3MiMlYJ5IDcpzVSvWSDWlNKng7KMVLpa60GRmdaUadZOhRTUtkA0a6DPhmXLlvnJSvxt+/bt6TI8sqJqpUoxRXrKIFJqZPHixVNv04kOrePWazRREUyFnIoFqE+GLuvWrYv37oRK5M1eJTV1yQ7lSdMHlTrYSEtnb3WmLS0WzgJIRDow++GHH+yoo45Kd7tOsGltBjK77bbbfH2xMmNUkEipt7quDJlI6WqkP/bYX388HXdQ3y37PqoZKfDUyfFElbh7ngdRHj29jAEA9k9nhAAgWV1xxRW+5vi///2vH8wqnUhtR1QYQOumkJlmnhRE6cTa559/7uuNlSqvNSxag6x1Z0jvnXfe8XTl7KiaJDJr1aqVr5FSuwIFnMqE0WtUfUMTub8lpdEBAEDS0DpapTMrRU1pa1qfp4IBiXywlpvq1Knja7QrVKjg6bcq7d2lSxcvCtC+fXsvFIO/RbPOU/+L+JuKrd1///2ecqvMIgVUmuXTGjPNgiZqdVeCqRBSmfTNmzf7B4DoTU7pWWXLlo33rgEAEGq7d+/29cZamycqUa2ejSr0hMzU3FgtRa688kqfwdNMgXoQquS3ehASTCE31p2tXLnST3YoJTfR+5vRZypk9OZ19tlnp2uYquIAOqM2c+bMuO4bAABhpvWxqnqrtLWIG2+80Vq0aJHaYBXp3XDDDT5eCqRU+GrBggXeq7FXr17M5iGmNm7c6KXRn3zySTv++OO9V1fLli3tuuuuS+jUSGamQtjAV29ePXr0SHe7Ku2oHv9LL70Ut30DACDMVBZds1BKV/vXv/7lt+3du9fLLy9evJh1o9lQP0vNFmg2b+3atfb+++97ASwd6O6v2AKQUwqklH01aNAgO+6441JPgOj1qTTTu+++2xIRwVQIc5dff/31TJWIVFlHZ4rmzp0bt31D8lIDPf3vKQ1m7NixntYxevToeO8WAERF72PK7DjyyCMzfYZq1kUpfwDio0GDBjZp0qTUQCpCs8adO3f2Y5FERDW/kDn22GO9SkzPnj0zLWLMGGABsaBqOmouqMpEeqP78MMP/awRACSaww8/3NPlMwZTKo0eWUOFv4oo5LSB+/Tp03N9f5A3FC5c2NasWZMpmKI0OmJKiz2vuuoqL0+qVAVRasI333xjjzzySLx3Dwlu06ZNPuOks7RKJ9VspxZ+Tp482cvfKrWjWrVqdsEFF8R7VwEgaiqJ3q9fP5+BUlW6SBsNZXyo/DL+0rt373TXlaQ0cOBAu+aaa+jHhVzTtm1b72umNVKRY1y9Ph966CGfOU5UpPmFkKY7tTZKjQcVqVeqVMnzwDOeaQOCHGio+bN6iEydOtW6d+/u/1/qPq4zujrYUP+Hk08+2dccAECi+fTTT+3FF19M9xmqUt80I9839ZlS0MmxBnLLnj177MEHH/QTuCpGISVLlvTXp2oFJOrsFMEUkIfUq1fPXn75ZTv66KM9aG/Tpo2/uanHgxpdas2UqkbqrOUXX3wR790FgKjRXiQYgikcKDt27LA///zTi8Soip+KTySyxAwBk4zSq0aOHGnFixf36Hxfecwqkw4EpTKkKoF72mmneXd7nUtR7rLWSEX+7w4++GDbtm1bvHcVAKKm9VJXX321N+lVylrkc1Oz7uqdpFl5APHx888/+3IWZb/cdNNNflvz5s29JoBS/Q477DBLRNS7DIGGDRumlnDVP5iuZ3cB/onhw4fb999/753GdZZWVa9UNlhpflpPtXz5cg+sGjduHO9dBYCoqbSy0pkjgZRMnDjRLr/8ci+/DCB+Bg4caEcccYQXvYrQzHH58uUTuvAVaX4h8+qrr3phgIyd2lVxbcqUKT6LBcSSupCr8/2yZcv8us7c6gwRi5ABJBrai+T8WCMjzd6pD1CpUqUy9b8EYpVK+tprr2V6fWp9Y7t27bzqZiIizS8EVBJSzfJEMwTqCq0FeWmp2sm9995LMIWYU368Dj40Y1WkSBFfrA0AiYj2Ijnz8MMPZ7pNJ9DGjx+f7jalfxNMIVZKlixpixYtyvRaVFaM2rMkKoKpEFCTMuWQRtastG/f3r9q0lC3RSYPKVeN3KIO91pPBQCJjPYiOaPgEjjQunTpYrfffrtnwqQtjf7ss8+mS/1LNKT5hcTq1at97cpZZ53lJSPTTrMroNKMQcbZKgAAkB7tRYDwmjhxYpatC+gzhVyhggCHHHKIB1M57VQOAADS01qpV155xRfAAwiXnTt32vvvv+81AxIRwVTI6M+h8q2a8lTt/WnTpnkxgKJFi6b2AQIAAPu2Zs0aX+yuYgs6C64KpmroCyAcZs+e7Sc5pk6d6se83377rSUiSqOHzKhRo7wYwF133ZUaOKmxqvK/R4wYEe/dQ5L55JNPvMGlqFqkOpCrO7nOEgFAolExJwVQ//nPf+yMM87w97MyZcr41w8//DDeuwfkeb/88os9+uijds4559gll1zipdFbtWrlx76JipmpkDnzzDM9kFK39rTdyLV4ViVLFVQBsQrcn3zySZ8FVTdyNbm86KKL/H9NPc1UJhcAEqWQk85wv/vuu950XCXSzz77bK+Cq+CqcuXK8d7FUFNBgHLlyvnSAs3eqUBFtWrV/DMB+Ke2bdvmmVZ6jf7vf//z3qr//ve/7eOPP7aXX3454QtgUc0vZDRLoDe0jIoXL+69poBY0QJQVbeqXbu29evXzwN4Nc2bP3++N7gkmAKQCDQDtXnzZm96r4bkzZo189koUTCFfZs0aZINHjzYnnnmGS9Prb6Dp5xyir333nteHEsncoGgbrnlFv9fUgDVpEkTu+++++z000/35Suq6KciFImONL+Q0RvYU089le62LVu22P333+8fFEAsC5yoJ4smpz/66CM/ABF9mO7ZsyfeuwcAOVaoUCE/KNMsO2nK0VGGwt133+0ZCaqCWLVqVb/tgQce8OrCwD/x2muv+XrFXr16+VKCli1beiCVTBI/HEwyqjSkf7hGjRr5h4L6ZejMUIUKFTzHFIgVTasrcC9RooQ3jlZKzNq1az1wV4oMACQCpaTNmTPH3nzzTS/gNHToUKtSpYq3GhGq4e6b3vfr16/v32td2cUXX+zfH3bYYfbnn3/Gee+Q6N5//31fF6XAfNiwYX48q9emlrUky2uTNVMh9eWXX3pH6N27d9sxxxxjjRs39saqQKyoUZ6m31etWmU9e/a0K664wg9CZs6c6RUk6ckCINHokOarr77ywEoHcZqBP+6443ztjxrfp+3hiL+0bt3aS1JrbFQ1+K233rKjjjrKD3z1OTFhwoR47yKSxNKlS/21+c4779hPP/2UWmRNfaa0Ri9REUwBSKX0GMrvA0gGu3bt8mIKCg40e6WTk1oTiswnb6+99loPPFVd7Y477vA1VCrmoZm+GjVqxHsXkYTmzZvnr02VRdfsqNJLVaAiERFMhSTdKqdTnYlagx/h9MUXX/jiY82C6n9QqTGdO3cmzQ9A0pVMV0CVqE1Bc9vevXu9z8+hhx7q19evX+/fq2gAkJtSUlK8wp8CKxXBSkQEUyEp6ZpTWiAKxILyl/XGpf4OOvOoohMLFizw8qWqgNW8efN47yIAIBf07dvXT6CpMICWEijVD0AwFKAIAQIkxIMKmiiYateuXbrbVSJdpUsJpgAgOf38888eTKn/T4ECBeK9O0BCI5gKYWdozQpo0aeq+WWcOJw+fXrc9g3JZePGjd5jKqMGDRrY8OHD47JPAIDc99xzz8V7F4CkQTAVMjfffLMvAlVpUnUiB3KL1kapt8iIESOsZMmSfpvOUmrBsRYhA0Cip9Br/aeK6owdO9ZmzJhho0ePjvduhbJQx6uvvurFOVSkI+NJXE6uIZaWLVtm5cqV82NcFYjRWkZV8lPFzURFMBUyc+fO9aZ5xx9/fLx3BUlOJdBVTadp06ZeBlcLjVWqVH1F1AdCFXYimBEFkEi2bt1q3bp18ybkmm1X/6REXdye2/r16+eV+5o0aeLjBeSWSZMmeaXIZ555xv/XrrzySjvllFPsvffe856qffr0sUREMBUylSpV8pkpILfpLFAinwkCANFnpmacVqxY4dX6zj//fCtatKgX2bn00ku935TOfKvPFDLTgeyoUaOsUaNG8d4VJLknn3zSM2JUK2DIkCFeDl23qZrfddddRzCF4PRPFNGyZUtP9VO0rqapGReGqjgAEAtqlBdJ7dOMlErjaoaKM5MAEomaj69bt87q16/vacu//fabn5hUxbqKFSvagAED/Gz4Aw884PdFekq3Kl++fLx3A3nA2rVr/XUqmi3WkhY57LDDPCsmUVEaPSR9pnJClXfoM4VY5snfc8899sILL3hZdL0VFCxY0M/qKh2G5r0AEkG9evXs5ZdftqOPPtqWLFniJ4r0nqaZ9/79+/t7mdKae/fu7b31kN6ECRM8zU9jpSBUnwNAbmjdurXPHpcqVcr/39RbSidxhw0b5oXX9L+YiHjFhID+gYADTVPtH3/8sZdIr1u3rs9MzZ492+68807O4AJIqBOSTz/9tJ122mk2ZswYPzF03HHH+UkhnYSUgw8+2GfhkdkTTzzhM3vqOZgVTuIiVm655Ra79tprPTVXha70OtWssVJNVfwqUTEzFTJnnnmmF6AoUaJEpqlRRfRffvll3PYNyUWLPh966CE7+eST093+1Vdf2Y033mifffZZ3PYNAHJKaco6SFu6dKm/n91www3Wq1cvq1Wrlqf6Ke1PRRbKlCljjzzySLx3N5RVD/eFXpiIpb1799off/xhhx56qF9fv369f68iWImKmakQUNU0zRDIqlWrPEovVKhQpgZ7NNZDLOk8SunSpTPdrun3RM5dBpC3KDVt4sSJ6W57/PHHUyuFidZpDBw4ME57GG6RYGnLli1exKNy5cq2c+dO1s8iJvr27eszxGXLlrVjjjnGJwYigZToJEeiI5gKyRtZJJiSrCYLq1SpkrBVThBOOshQg2hdIh+amzdvtvvvvz/TbBUAJBIVcHr99dft+++/tyJFinjAhawpcNJJXK07k2nTpnkauNIi9XmQ9sAXiNbPP//swZT+n5J1UoA0v5AZOXKk98ZQWdfIm5wWhr7yyiuefrVw4cJ47yISvHKk1kdpgbFSR1U2WLnyOlskP/zwgx+EaB3VEUccEe/dBQDkMq2TXbBgga8x69ixoweh6tOlGQWtaVGhIgDZI5gKKVUeUkdypQBq6l1vaJ06dbLOnTvHe9eQwNTTQWuhIul9quj3ySef2PLlyz21VEGVeo3kz58/3rsKADgAVLhDfaZq1qzpJ9sUTOmkmk7e6uTujBkz4r2LSBK7du3yY9v58+fb7t27M2ViDR8+3BIRaX4hovVS+id77bXXbOXKlVa8eHEPpO677z4vJQn8UxnfuLTgU0VPdAEA5D1aI6tUyKwKBajEPBAr/fr182yrJk2aJNWaPIKpEFD1PgVR33zzjZUrV87OOOMMa968uTforV27tp1wwgnx3kUkkUipYAAAdMyhdhhaJxWhE7pK/zv99NPjum9ILu+9957PgioDJpkQTIUkUtfiWL2RXXDBBfHeHSS5du3a5SiNb/r06QdkfwAglpS6XL16dU9nnjJlip8Jr1atml111VU0I8/CHXfcYbfddpsXw9JslD4jVLq6cePGdvvtt8d795BEDjnkECtfvrwlG9ZMhYAq6KgLtApMKLWvadOmdtZZZ/kbmTq7K+1PpUqBWDS31Iem3tD2p02bNgdknwAgVnTW+8knn7Rnn33WduzYYV27drWLLrrIMz8ULAwYMCDeuxhamo1atmyZr2XR+lmt1QZiacKECX5yo3///j6JoGJYyYBgKkR+//13e+edd+ztt9+2WbNmWeHChW379u3+T9ehQ4eEbmiGcBagAIBkorS0oUOH+slIZX2oLPPYsWN9wfvll19OMYVsbNiwwXtMqYJwRlpyAMQqpXTdunXZrsX79ttvLRElR0iYJNQsVdX6dFmzZo29+eabHlgNGTLEu7ZfeOGFXqoUCIpzJwCS2aZNm+zYY4/197qPPvrIrrjiCr9di90pppC15557zpcZaEYqqzW2iXqAi/C56667LBkxM5UAfvzxx9TAShcgKAXjOlubTFV0ACBCfZK0XqpEiRI2evRoe//99z2VSMUU1DRUKYBI79RTT7UuXbpY9+7dvUUGkNu2bNniM6FawqLZ0EQ/JiGYAgAASeG7776zW265xVuN9OzZ02emlPan3o0PPfSQ909CeqqsptkpzegBuWnnzp02ePBgrxUg06ZN81lRnei4//777dBDD7VERDAFAACS+gCOKn7Ze/75530trdZnH3HEEfHeHSSxO++80xYsWGCDBg3yWWQ1iN66datnzajgyT333GOJiDVTAAAgqarSvfDCC/bTTz/ZwIEDvVS6qtPVr18/3rsWSkcffbQ9+OCDXkU4K6yZQqy8++67XnGzSpUqqbfpe9UG6NatmyUqgikAAJAU/ve//1mPHj2sSZMm9umnn3p59OXLl3tQpTSi5s2bx3sXQ9lnStUP1Q5DVYSB3PLnn39akSJFMt2u/maJXCCGYAoAACQFpQndcMMN9n//939Wt25dv+3mm2+2cuXK2cMPP0wwlU1bluuvv571ZDggpdEfeOABXyeVdiZZ6X9qa5Co8sd7BwAAAGLh+++/z/Kg7Mwzz/TqYcisXbt29uqrr8Z7N5BHZkHz58/vDbRVdEL/ezrBUbx4cbv99tstUTEzBQAAkoIKKKhBb8ZZFvWcorhC1v744w+bNGmSTZkyxSpWrGgFChRIt33cuHFx2zckl0MOOcT7pmo2atmyZd7bTOsZVXwikRFMAQCApHDttdfarbfe6gGV1mBoxuXnn3+2t956y0aMGBHv3QslBZ4qIw8cCBs2bPDU0oMPPtiv63td5KSTTrJERGl0AACQVL2mnn76aT/zrYBKZ767du1qtWvXjveuJUQzVY1Zovb7Qbg999xzvl5KM1IZ5cuXL2ErRxJMAQAA5GFjx461J5980tavX+/XS5UqZZ06dbJevXrFe9eQRE499VTr0qWLde/e3QoVKmTJgjQ/AACQFHbt2uWpfUrz09nvjOeLhw8fHrd9Cyv1/Rk/frz16dPHKyCqTPWsWbNs5MiR3uxYpeaBWMifP7+1aNEiqQIpoZofAABICv369bOhQ4f6ugwSb3LmxRdf9DHr2LGjN1CtWrWqde7c2RupTpgwId67hyRy1VVXefuCVatWWTJhZgoAACSF9957z2daGjVqFO9dSah1UkcffXSm27XWLFIYAIiFo48+2h588EE766yzstyeqGumCKYAAEDSlF4uX758vHcjoSi1TwU7Bg8e7GlYoiIUuq1WrVrx3j0kWZ+pxo0bW5s2baxw4cKWLChAAQAAkoLS0t59913r37+/VapUyQoW5Jzx/qjqodL6ihYtatWrV/fbFi5caDt37vSiFCeeeGK8dxFJFLi//vrrmfrAJTqCKQAAkBTOOOMMW7dunc+sJFMaUW7TGrM33njDli9f7sUBlOJ3/vnnp/YCAmLhzjvv9LL7vXv3tmRCMAUAAJLC119/vc/tDRs2PGD7EmZKs9JYqEmqLvSVwoFwyy232Ntvv+2l9ytWrGgFChRIt33cuHGWiJj/BgAASSESLP3444+evqYy35plqVy5crx3LVTOPvtsmzt3rpeR/+OPP+z444/3oCoSYJUsWTLeu4gkdOSRR1rPnj0t2TAzBQAAksLmzZutb9++Nn36dJ9tUbrfn3/+6QGCqvypQAXS++GHHzywmjNnjl+WLl3qAWgkuFJfICA3qkju2bMnKWZFCaYAAEBSuPnmm31GSr1sjj32WL9NwcGtt95qJ5xwgg0bNizeuxhqKjrxzTff2EsvvWQffPCBbd++nXVmiKmxY8d6YZP169f7daX8derUyXr16mWJijQ/AACQFBQAPPPMM6mBlCjFTyWZr7jiirjuW1iDp5kzZ9qMGTP8oip+mr2rX7++3XjjjawxQ0yNGjXKxo8fb3369PHKfkrDnTVrlo0cOdIOOugg69GjhyUigikAAJAUVIku0isprXz58mVb4S8v0sGrgiel9xUrVswaNGhgrVq18l5TWj8F5IYXX3zRhg4d6lU3I6pWreq94XQ7wRQAAEAc6SBt0KBBdu+999pRRx2VWoxCJZlPP/30eO9eqIIpHcDecMMN1qFDBytSpEi8dwl5ZJ3U0Ucfnel2rdH7/fffLVGxZgoAACRNAYqrr77a1/0UL1489bYmTZrYiBEjrESJEvHexVB48803vYy8ZqdWr15tNWrUsJNPPtkv9erV8xk+INYuv/xyO+yww3wGNDKDrBljpeGuWLHCnnvuOUtEBFMAACCpfPfdd+ka0KZdQ4X01qxZk7pmShc1Pa5Vq5avl9Ll1FNPjfcuIkksW7bMOnfubEWLFrXq1av7bVqnp7V7Kkpx4oknWiIimAIAAElFKUM7duywjIc4FSpUiNs+JYoFCxbYpEmTfPaKan6ItQ0bNtgbb7yR7mTH+eefbwcffLAlKoIpAACQFL788ksvjx4puxyhQx0VoSAwSG/btm0+MzBv3rzUi2amVBRARSl0OfPMM+O9m0hgbdq0SW0GrUsy9JXKiGAKAAAkBTWY1fofrc3IqkHvEUccEZf9Cpt+/fp54KTZgYIFC3panw50FTypZDUFKRAro0ePTm0K/ccff3i1yEhDaH0tWbKkJTqCKQAAkBQUFLz11lt25JFHxntXQq1nz57eS0rBU82aNe1f//pXvHcJecAPP/yQGljpoobaSvOLBFc6GZKICKYAAEBSUGPe8847z1q3bh3vXQGwDyo6oaqbL730kjfbTuT1eQRTAAAgoXsmRaxdu9Zee+01a968ufeZytjAt1evXnHYQwA7d+60mTNnplaN1Fo9peJqhlQl+TUzlagNowmmAABAwurSpUuO7qcCFOPGjcv1/QGQ/mSHgiel9xUrVsxTSxM9eMqIYAoAAABAzJ144olWvnx569atm3Xo0CEpi5sQTAEAgISm1L733nvPCymcddZZvm4KQPy9+eab9vXXX/vs1OrVq73apmamdKlXr573mkp0BFMAACBhjR071kaMGGGnnnqql/n+7LPP/Cz49ddfH+9dA5DGmjVrUtdM6aKeZqrAqZQ/XfQaTkQEUwAAIGG1bNnSS31HKvi9++671rdvX68UpnVSAMJpwYIFNmnSJJ+9SuRqfgXjvQMAAABBrVy5Mt0Z7TPOOMO2bdvmZ721VgNA/G3bts0r+KlZdOSi12jVqlWtY8eOXpgiURFMAQCAhLV7925P74vQ91qHoVLMAOKrX79+HjgtX77cX5tK61OTXhWjqFu3blIUpCCYAgAAABBz69evt/PPP99nnmrWrOlFYpINwRQAAEho77zzjvewidi7d69X9ytVqlS6+0XWVQE4MB5//HFLdhSgAAAACUtrpHJCxSimT5+e6/sDIG8hmAIAAACAAPIHeRAAAAAA5HUEUwAAAAAQAMEUAAAAAARAMAUAAAAAAVAaHQAAJKzVq1fn+L4VKlTI1X0BkPdQzQ8AACSsE0880cue74sOdXSfb7/99oDtF4C8gWAKAAAkrFWrVuX4vkcccUSu7guAvIdgCgAAAAACYM0UAABI6jS/CNL8AMQawRQAAEhY48aNi/cuAMjDSPMDAABJZcuWLbZixQqrXLmy7dy504oVKxbvXQKQpOgzBQAAkoICp/79+1vDhg2tffv2tnbtWrv11lute/futmnTpnjvHoAkRDAFAACSwogRI2zp0qX2yiuvWKFChfy23r1724YNG+zOO++M9+4BSEIEUwAAICm8++671q9fP6tSpUrqbfp+yJAh9sknn8R13wAkJ4IpAACQFP78808rUqRIptv37t1re/bsics+AUhuBFMAACApnHHGGfbAAw94AYqIlStXeorf6aefHtd9A5CcqOYHAACSwh9//GG33XabTZ8+3Wejihcv7rc1btzY7rnnHitRokS8dxFAkiGYAgAASUWzUcuWLbPdu3fbMcccY8cdd1y8dwlAkiLNDwAAJLyffvrJdu3a5d8feeSR1rRpUzv44IPjvVsAkhzBFAAASFhKsNGaqJYtW9rs2bPTbXvuueesVatWdtddd/n9ACDWCKYAAEDCGjdunL399ts2atQob9ab1ujRo/129Z2aMGFC3PYRQPJizRQAAEhY5513nvXq1ctnprIzefJkD7reeOONA7pvAJIfM1MAACBhrVq1ymrVqrXP+5xyyilelAIAYo1gCgAAJKzSpUt7QLUva9asoSw6gFxBMAUAABLW2WefbY888khqJb+MVB595MiR3msKAGKNNVMAACBhbd682dq3b2+FChWyLl26WI0aNeyQQw6xTZs22cKFC238+PH2559/egGK8uXLx3t3ASQZgikAAJDQNm7caPfee69X9du2bZvfpsMbBVXnnnuu9e7d28qUKRPv3QSQhAimAABAUti5c6cXmtBsldZIHXXUUVagQIF47xaAJEYwBQAAAAABUIACAAAAAAIgmAIAAACAAAimAAAAACAAgikAAAAACIBgCgCQlNTIVX2HcsO3335rs2bNivpx33zzjZ155pm5sk8AgAOPYAoAgChdffXV9uOPP0b1mMWLF1ufPn28/xEAIDkQTAEAkMsmTpxoHTt2tNKlS8d7VwAAMUQwBQAIvXHjxlmzZs2sZs2a1rZtW0+XmzFjhlWpUiXd/W699Va/ROzatcv69etntWvXtrPOOsvefvvt1G27d++2+++/3xo3bmz169e3a665xjZs2ODb1q5d69dPOukkq1GjhrVp08Zmzpzp25Q6uGrVKuvbt2+6n7Uvn3zyid19993WtWvXGI0IACAMCKYAAKG2aNEiGzFihA0YMMDeeecda9CggV177bW2d+/e/T529uzZ/vXll1+2Tp062Y033mg//fST3/bQQw/ZK6+8YsOGDbNJkybZb7/95j9DdL89e/b4jNKrr75q5cuXt4EDB6auxTrssMPstttu80AtJ0aPHm3Nmzf/B6MAAAijgvHeAQAA9kWzQPny5bMKFSpYxYoVPZDSLFVO1h6VK1fOg6B//etfdtxxx9lHH31kkydPthtuuMFefPFFu+WWW+y0007z+w4aNMiDNT2vZrHOOeccD5qkc+fO1qNHD/++RIkSVqBAATvkkEP8AgDIuwimAAChpjS8E044wc4//3yrVq2aV8O76KKLclQAomrVqh5IRVSvXt2WLVvm6XwbN2706xGVK1e23r17+/eaxVJKoCr2/fDDD7ZgwYIczYQBAPIW0vwAAKFWpEgRn00aO3asNWzY0FP2tG5Ks1UZaR1UWvnzp/+YU0Ck4KpgwezPJeo+3bp1s6efftpnw7p37+5phgAAZEQwBQAINa17evzxx+2UU07xog9Tp061HTt22Ndff+3bt2zZknrfn3/+Od1jlyxZku76vHnz7Nhjj7XixYtbyZIl7bvvvkvXO0opf3rM//73P3v22Wftv//9rzVt2tTWrVvn96GsOQAgLYIpAECoFS5c2EaNGuWzUwqW3nrrLdu6dauva9K2xx57zFauXGlPPvmkF6tIa/Xq1TZkyBBP7dNzaLtS+CJV+VSE4quvvvIAaujQoVanTh079NBDfUZLP0frtRS8qeiE7Ny5078WLVrUli9f7qmCAIC8i2AKABBqWvekQEfBUsuWLT14uueee+zEE0/0QElBT6tWrXyWSYUi0jr99NM94FFp8zfffNMeffRRr8wnKiihCnsqaKEAS8Um9Hz6qqIVTzzxhD/vmDFjrH///p4aGAnWdP/nn3/ebwcA5F35UshZAAAAAICoMTMFAAAAAAFQGh0AgICmTZtmt956a7bb69ev7+mJAIDkRJofAAAB/fnnn7Z+/fpst6tARmSNFgAg+RBMAQAAAEAArJkCAAAAgAAIpgAAAAAgAIIpAAAAAAiAYAoAAAAAAiCYAgAAAIAACKYAAAAAIACCKQAAAACw6P0/YeC2OVuIi8MAAAAASUVORK5CYII=",
      "text/plain": [
       "<Figure size 1000x400 with 1 Axes>"
      ]
     },
     "metadata": {},
     "output_type": "display_data"
    }
   ],
   "source": [
    " train.subcat_1.value_counts()[:10].plot(kind = 'bar',figsize = (10,4), title=\"Top_10 subcategory_1\",fontsize=10)"
   ]
  },
  {
   "cell_type": "code",
   "execution_count": 40,
   "id": "2c2def24-1d1f-4a4b-9ff3-12e53ffc0dde",
   "metadata": {},
   "outputs": [
    {
     "data": {
      "text/plain": [
       "<Axes: title={'center': 'Top_10 subcategory_2'}, xlabel='subcat_2'>"
      ]
     },
     "execution_count": 40,
     "metadata": {},
     "output_type": "execute_result"
    },
    {
     "data": {
      "image/png": "iVBORw0KGgoAAAANSUhEUgAAA0sAAAIKCAYAAADyN9QLAAAAOnRFWHRTb2Z0d2FyZQBNYXRwbG90bGliIHZlcnNpb24zLjEwLjMsIGh0dHBzOi8vbWF0cGxvdGxpYi5vcmcvZiW1igAAAAlwSFlzAAAPYQAAD2EBqD+naQAAZWlJREFUeJzt3QmcjeX///GPJVvILiIV2bJmq2ghylaJ0vZLorRY6tsmS5aUIkm2pFREKZWlkoqktNh38bUUIvuenfk/3tf3f05nZu7RnOM4y8zr+XgcM+e+zznuuWbmzP2+r+v6XBkSEhISDAAAAACQSMbEdwEAAAAAQlgCAAAAAA+EJQAAAADwQFgCAAAAAA+EJQAAAADwQFgCAAAAAA+EJQAAAADwQFgCAAAAAA+EJQAAwoA13gEg7SEsAUCMe/bZZ61MmTKnvd17771RO76tW7da9erVbc6cOcn2bdiwwR5++GG3v1atWtazZ087ePDgWT8mHYvaxeuYzsbX365dO9u8ebOlRadOnbIPP/zQbrrpJqtatapdf/311rdv34h8HwEg2jJH+wAAAKf36KOP2p133um/P3z4cFu5cqUNHTrUvy1nzpxROba//vrL2rZtawcOHEi2b//+/XbfffdZgQIF7OWXX7bdu3fbK6+8Yn/++aeNGjXK0oqff/7ZZs2aZWnV22+/bYMGDXLf5yuvvNJ+//13Gzx4sK1Zs8beeecdy5AhQ7QPEQDOGsISAMS4Cy+80N188uXLZ1myZLEqVapEtbdh0qRJ1q9fvxQfo96IvXv32meffeaOWQoXLux6YRYsWGDVqlWL4BEj1O/zW2+9ZXfccYc9+eSTbttVV11lefPmtf/85z+2fPlyq1ixYrQPEwDOGobhAUAa8dNPP9ndd9/tQoiGvOnkVj0/PgotGpq2ZMkSu/XWW61SpUpuaNW0adOC/r9Wr17thtQ1a9bM+vfv7/mY2bNnu2PxBSWpU6eOnXvuufbDDz+k+NobN250Q/f0NVSuXNmdqAf23GhYYr169RI9R71V+tr0NQZau3ataxOd0Ddo0MDef//9RPuPHTvmek00tEzt0bRpU5s4caJ//8mTJ23kyJFuu/YroKqX79dff3X79f916dLFfa7X0LH5TJgwwZo0aWIVKlSw6667zoYMGeJeL5D+r8aNG7vju/nmm+2XX36x8uXLJ/o6/vjjD+vUqZPVrl3b/f8acqmwmfRrf/fdd61hw4auzcaNG+e2ffTRR4n+P/08lCtXzqZMmWKpoaF2t9xyi/v6A11yySXu46ZNm1L1OgAQrwhLAJAGqJenTZs2VqRIERs4cKA7gV+0aJELGrt27Ur02Iceesid2GsY38UXX2yPP/540MPI9P98++237v/Jli2b52PWrVvnXj9QpkyZrFixYm4oV0o9GTq+w4cPuxCmIYd58uSxRx55xM1/CtZLL73kAsYbb7xhV199tb3wwgs2evRo//6nnnrKhYzbb7/d3nzzTRfmFHi++OILt3/AgAHuGNSOGo7Wp08f11v22GOPuWNUCNKxidpTQyZFr/Xcc8+5YWsjRoywe+65x/XQaFvg90z/1+WXX+7+jxtvvNE9PzBQKew1b97cBaLu3bu749GwNw1vnDt3bqKvVWHswQcfdO2m769C0+TJkxM9Rv9njhw57IYbbkhV++XOndv9v0l7AadPn+4+lipVKtXfCwCIRwzDA4A4p4Chk2id6L/66qv+7ToJV6+F5gc988wz/u3qmWjfvr37XAFCvUzDhg2za6+9NtX/pwLMv9E8JvUiJaVtKRUHULBbv369Cw2+41GPjoKIeoGC1bJlS//XrvbZtm2bCzJqAwWRr7/+2rp27erChyjcqFCDCkOoN2X79u1uuFlgAY2sWbNax44dXe+agphviKR6bBQE9XX7ApaChu//Vpvp/v3332+XXnqpvf7661a3bl0X4Hzfi3POOSfR91Bft4Zcjhkzxj8vTQFNx6ZQ9Mknn/gf26hRI2vRooX/vj5X7596f4oXL+4PS+rtSingpoZ6JtXbpmMvXbp0yK8DAPGAniUAiHPqpdmxY0eyoVI6iVf1sqQ9EApHPuql0PC0pUuX2pEjRyJWSjulogAqBqHeCvXAdO7c2T7//HMXBtWDpYARLIXFQPpafYHMN5QtaS+LemjUgyQKLgpSKk4xf/58+/TTT/1D2FIKb+rRU1tqqOCJEyf8N9/QQQ2XVC/Zli1b3LC5QAoygfS9UygJLOCROXNm9zjNF/r777/92xXWkr6WQpGvd2nhwoVuSF/g9z9YarMHHnjAhUL12gFAWkfPEgDEOQ0L8wWNpLRNlfMCFSpUKNH9/Pnzu2Cj6nVn0uOQlE7wA0/mfdSrpEIPKYUoVVjTsDkN81NPiHpb6tevb71797bzzjsvqGNI2ib6WmXfvn3+dvNt87Js2TL3/+pj9uzZXZArWrToacOg73VVyMKLeqsUvrz+76THq+NM6fuq/z+wh07D65K2v8KYwl2HDh1cW2pYpAJ0KKZOneqGDV500UVuSKKKPABAWkdYAoA45xsSt3PnzmT71OOU9KRWJ/OBJ+B6nuYSpWZoXTB0Yq5iDYE0H0fzb043Z0ZBqlevXm4I2apVq1wBCs330dehbQpUSQslHDp0yPO1FDYC+dpIIUXzcUTB5fzzz08010ptpAIJ6kXRxy+//NIVNciYMaOb36Xheynxva6GRipYJBXY9knnkyW9r3CY0vdV1CYKXynRUDwVkVDPoY5Z5b9DoaGcKvtes2ZNN2QzV65cIb0OAMQbhuEBQJxTKClYsKC/KIGP5qosXrzYzV3ympwv6p345ptv3AR+zY0JJ1Vvmzdvnr8XxVchT8FG+1IawqbS1Dq5VyjS0DLNGdLcGA1b88152rNnjx09etT/vMDqcIG+//77RPcVelScokSJEv6iBd99912ixyjkvPjii26onkJTq1atXI+SgpL4KvlpeKD4tvuosIJ6wzQ/SlXufDcNn1PxDYVFhTMNk1TvWSB9LwLVqFHDZs6cmagHSUFRX4de89++Z3q+ApuCjuZSqbJdsMaPH+/mR2lOlHqUCEoA0hN6lgAgzulk/YknnnDzelQuXCWoFSZUHEA9EyooEEgnvgoaClkqb62elMAKceGikt1jx451/7+GgSl46KT9mmuuSRbgfFQ2W0MBVZRBRRTUC6NFX3/77TcXWkRzeFQCvFu3bnbbbbfZf//7X1fRTr1jSelxCld6XQWMH3/80X39CmJly5Z1w9R0TJpjpGCmIKRw4qsUqKFsqmanoKObemd8RRVUDS+wJ0nBR19byZIlXY+UCjgo5KgEuoKT7vv+X31UOXBV41NvmeZSqRdNvTaBAUztpmPS165hfQphalMFYQWX1FDvkuZe6dhSGv6YEvVgaW7SBRdc4Cr6JR3SqcAXWBoeANKcBABAXOncuXNC3bp1k22fNm1awq233ppw2WWXJdSqVSvhqaeeStiyZYt//6effppQunTphMmTJyc0btw4oWLFigl33HFHwq+//npGx6Pn63W9Xmf16tUJ9913X0KlSpUSrrzyyoTnnnsu4cCBA6d9vd9//z2hQ4cO7vH6Wpo0aZIwfvz4RI8ZNWpUwnXXXZdQoUIF9zUsX77cfa6vMfCYvvrqq4QWLVq412nYsGHCF198keh1jh49mvDqq68mXHPNNa49mjVrlvD1118n+tqaN2/uP/42bdokzJ8/P6Fq1aoJ/fr1c485ePBgQuvWrd3/8eCDD/qfO3bsWNfO2n7VVVclPPnkkwmbN29O9P/r62rQoIF7jP7vCRMmuOMOPIaVK1cmPPDAAwlVqlRx/6/ac968ef79mzZtcs/xfe1JrVq1yu2fOnVqQrB8x5PSLaX/EwDSigz6J9qBDQBw9vkWUJ0xY4arZobo0rBJ9Xj5Fnj1DRvUOlOqYKceqHBQme/33nvPvXa4h1oCQFrHMDwAgH8Ojm8ezuloOBrOnKrUvfbaa25RYM2jUjnxwYMHuyIK4QhKKuygIYoffPCBW7cqMCjxvQaA1OFdEADgaL6M5ur8G3qmwqNfv35uLpHmTKkIhuZnaQ6V5jKFg+ZAqTiD5kO1adMm0T6+1wCQOgzDAwA4KkJwujLUPiqlzXCu+Mb3GgBSh7AEAAAAAB5YZwkAAAAAPBCWAAAAACC9FnhQxZ8TJ064Rf60ECAAAACA9CkhIcHlA1X89C0Cnq7DkoLSsmXLon0YAAAAAGJExYoV/7WITboIS77EqAbJlCmTxZKTJ0+6IBeLxxbLaLfg0Wahod2CR5uFhnYLHm0WGtoteLRZ2mo333H9W69SuglLvqF3+ibF0jcqUCwfWyyj3YJHm4WGdgsebRYa2i14tFloaLfg0WZpq91SMz2HAg8AAAAA4IGwBAAAAAAeCEsAAAAA4IGwBAAAAAAeCEsAAAAA4IGwBAAAAAAeCEsAAAAAEI6wdOzYMevdu7fVqFHDrrrqKhs4cKAlJCS4fStXrrTbb7/dKleubC1atLDly5cneu4XX3xh9evXd/vbt29vu3fv9u/TawwYMMCuuOIKq1mzpvXv399OnTrl379nzx7r2LGjVa1a1erVq2eTJ08O9tABAAAA4OyFpRdeeMF+/vlnGzVqlL366qv28ccf20cffWSHDh2ydu3aWfXq1e2zzz5zoeahhx5y22Xp0qXWrVs369Chg3v8/v37rUuXLv7Xfffdd12YGjp0qA0ePNg+//xzt81Hjz1w4IB77iOPPGLdu3d3rwkAAAAAZ0PmYB68d+9e+/TTT12IqVSpktvWpk0bW7JkiWXOnNmyZs1qzzzzjFsNV8Hohx9+sGnTplnz5s1t7Nix1qhRI2vWrJl7nnqO6tata5s2bbLixYvbmDFjrFOnTi5syVNPPWWvv/66tW3b1jZu3GgzZ860GTNmWLFixax06dK2ePFi++CDD/zHAQAAAABR61lasGCB5cyZ0w2T81Fv0ksvveQCU7Vq1VxQEn28/PLLXagR7fcFISlSpIgVLVrUbd+2bZv99ddfbmifj15r8+bNtn37dvcYPV5BKXD/okWLzuyrBwAAAIBw9CypF+iCCy6wSZMm2YgRI+z48eOu10jD4nbs2GGlSpVK9Pj8+fPbmjVr3OcKPYUKFUq2f+vWre65Eri/QIEC7qNvv9dzFbKCcfLkSYs1mpeVPXv2RPOzkPrvZSx+T2MVbRYa2i14tFloaLfg0Wahod2CR5ulrXYL5niCCkuaf7RhwwYbP368601SiOnRo4c72T98+LBlyZIl0eN1XwUh5MiRIynu1z7f/cB9ov3/9tqptWzZMguHc845x8qVv8zOyZzpjF8rU6ZMVr58eQun4ydO2m8rV7gwm9aF63uantBmoaHdgkebhYZ2Cx5tFhraLXi0Wfprt6DCkuYlHTx40BV2UA+TbNmyxT788EMrUaJEsvCi+9myZXOfaz6T134FrcBgpMf5PhftT+m5vtdOrYoVK7pwEg56ncfGL7K12w9aLClVKKe9fmdVu+yyyywt0xUB/eKF83ua1tFmoaHdgkebhYZ2Cx5tFhraLXi0WdpqN99xhT0sFSxY0AUXX1CSiy++2M030jymnTt3Jnq87vuGzxUuXNhzv15T+0Q9Vb55Sb6heb79KT03GPomhfMbpaC0Yst+i0Wx9AN5NoX7e5oe0Gahod2CR5uFhnYLHm0WGtoteLRZ+mu3oAo8aH2ko0eP2u+//+7ftn79eheetE8FF3xrLunjwoUL3Xbfc1UgwkcBSzdtVxhSsYfA/fpc2xS2qlSp4oo9aP5S4H5tBwAAAICoh6VLLrnErrvuOrfm0apVq+zHH3+0kSNH2l133WUNGzZ0aye9+OKLtnbtWvdRc41ULlz0GC0kO2HCBPdclRjXa6lsuG+/FqWdM2eOu2moX6tWrdw+PaZOnTr29NNPu+fqNbQm0z333HM22gQAAAAAghuGJwo0ffr0ceFG84kUWO69915XKvzNN9+0nj17uoVqy5Qp44JUjhw53PO0SO3zzz/vFpzdt2+f1a5d272Oj9ZT2rVrl1u0Vt10t912m7Vu3dq/X+syae2mli1buuF3ffv2ZY0lAAAAALETlnLlyuWCixeFl4kTJ6b4XJUZ182LApJ6rHTzolLhKlcOAAAAADE3DA8AAAAA0gvCEgAAAAB4ICwBAAAAgAfCEgAAAAB4ICwBAAAAgAfCEgAAAAB4ICwBAAAAgAfCEgAAAAB4ICwBAAAAgAfCEgAAAAB4ICwBAAAAgAfCEgAAAAB4ICwBAAAAgAfCEgAAAAB4ICwBAAAAgAfCEgAAAAB4ICwBAAAAgAfCEgAAAAB4ICwBAAAAgAfCEgAAAAB4ICwBAAAAgAfCEgAAAAB4ICwBAAAAgAfCEgAAAAB4ICwBAAAAgAfCEgAAAAB4ICwBAAAAgAfCEgAAAAB4ICwBAAAAgAfCEgAAAAB4ICwBAAAAgAfCEgAAAAB4ICwBAAAAgAfCEgAAAAB4ICwBAAAAgAfCEgAAAAB4ICwBAAAAQDjC0rfffmtlypRJdOvUqZPbt3LlSrv99tutcuXK1qJFC1u+fHmi537xxRdWv359t799+/a2e/du/76EhAQbMGCAXXHFFVazZk3r37+/nTp1yr9/z5491rFjR6tatarVq1fPJk+eHOyhAwAAAMDZC0tr1661unXr2uzZs/23F154wQ4dOmTt2rWz6tWr22effeZCzUMPPeS2y9KlS61bt27WoUMH++ijj2z//v3WpUsX/+u+++67LkwNHTrUBg8ebJ9//rnb5qPHHjhwwD33kUcese7du7vXBAAAAICYCEvr1q2z0qVLW8GCBf233Llz29SpUy1r1qz2zDPPWMmSJV0wOvfcc23atGnueWPHjrVGjRpZs2bNrGzZsq7naNasWbZp0ya3f8yYMa6HSmFLvUtPPfWUjRs3zu3buHGjzZw504Uy/d/qvbr55pvtgw8+CHd7AAAAAEDoYemiiy5Ktn3JkiVWrVo1y5Ahg7uvj5dffrktXrzYv19ByKdIkSJWtGhRt33btm32119/WY0aNfz79VqbN2+27du3u8fo8cWKFUu0f9GiRcEePtKQ7NmzR/sQ4g5tBgAAkHqZg3ism1f0+++/u6F3b775pp08edIaNmzoeoR27NhhpUqVSvT4/Pnz25o1a9znCj2FChVKtn/r1q3uuRK4v0CBAu6jb7/XcxWygqHjDZdMmTJZLAvn1xo2GTJapoz/C9PhaP/y5ctbuJw8lWCW8M8cubTYbuFus5hvtzD/LsXk71SMos1CQ7sFjzYLDe0WPNosbbVbMMcTVFjasmWLHT582LJkyWKDBg2yP//80w2NO3LkiH97IN0/duyY+1yPSWm/9vnuB+4T7f+3106tZcuWWbiuzof7pDPcVq9e7dotVvja7LHxi2zt9oMWS0oVymmv31nVVq6MrTYT2i12hOv9Iz2hzUJDuwWPNgsN7RY82iz9tVtQYemCCy6wOXPm2HnnneeG2ZUrV85VrHv66addBbuk4UX3s2XL5j7XfCav/ToZDAxGepzvc9H+lJ7re+3UqlixYsz3CIWLqhTGIp3wr9iy32JRrLaZ0G7RvfqkN/n09P5xpmiz0NBuwaPNQkO7BY82S1vt5juusIclyZMnT6L7KuZw9OhRV+hh586difbpvm/4XOHChT3363naJxpu55uX5Bua59uf0nODoW9SLH2jzqb08nWGE20WmvTSbunp/SNcaLPQ0G7Bo81CQ7sFjzZLf+0WVIGHH3/80WrVqpVoyM1vv/3mApSv4ILmNYk+Lly40K2pJPq4YMEC//NU0EE3bVcYUrGHwP36XNsUtqpUqeKKPWj+UuB+bQcAAACAqIclrZ2kIXFa42j9+vWu9LdKgD/wwAOu0IPWTnrxxRfdWkz6qFClcuFy1113uYVkJ0yYYKtWrXIlxq+77jorXry4f78WpdUwP91effVVa9Wqldunx9SpU8cN99Nz9Rpak+mee+45G20CAAAAAMENw8uZM6eNGjXK+vbtay1atHDrKN15550uLGkOkyrk9ezZ0z7++GM3j2HkyJGWI0cOf9B6/vnn3YKz+/bts9q1a1ufPn38r922bVvbtWuXW7RW3XS33XabtW7d2r9foUxrN7Vs2dINv9MxVKpUKZxtAQAAAAChz1m69NJL7d133/Xcp/AyceLEFJ/bvHlzd/OigNSlSxd386JS4SNGjAj2cAEAAAAgMovSAgAAAEB6QFgCAAAAAA+EJQAAAADwQFgCAAAAAA+EJQAAAADwQFgCAAAAAA+EJQAAAADwQFgCAAAAAA+EJQAAAADwQFgCAAAAAA+EJQD4F9mzZ4/2IQAAgCggLAFIc06eSgjba2XKlMnKly/vPsbasQEAgLMr81l+fQCIuEwZM9hj4xfZ2u0HLZaUKpTTXr+zarQPAwAApBJhCUCapKC0Ysv+aB8GAACIYwzDAwAAAAAPhCUAAAAA8EBYAgAAAAAPhCUAAAAA8EBYAgAAAAAPhCUAAAAA8EBYAgAAAAAPhCUAAAAA8EBYAgAAAAAPhCUAAAAA8EBYAgAAAAAPhCUAAAAA8EBYAgAAAAAPhCUAAAAA8EBYAgAAAAAPhCUAAAAA8EBYAgAAAAAPhCUAAAAA8EBYAgAAAAAPhCUAAAAA8EBYAgAAAAAPhCUAAAAA8EBYAgAAAIBwhqV27drZs88+67+/cuVKu/32261y5crWokULW758eaLHf/HFF1a/fn23v3379rZ7927/voSEBBswYIBdccUVVrNmTevfv7+dOnXKv3/Pnj3WsWNHq1q1qtWrV88mT54c6mEDAAAAwNkLS19++aXNmjXLf//QoUMuPFWvXt0+++wzF2oeeught12WLl1q3bp1sw4dOthHH31k+/fvty5duvif/+6777owNXToUBs8eLB9/vnnbpuPHnvgwAH33EceecS6d+/uXhMAAAAAYiYs7d271/X8VKxY0b9t6tSpljVrVnvmmWesZMmSLhide+65Nm3aNLd/7Nix1qhRI2vWrJmVLVvWPV9ha9OmTW7/mDFjrFOnTi5sqXfpqaeesnHjxrl9GzdutJkzZ9oLL7xgpUuXdr1XN998s33wwQfhawUAAAAAONOw1K9fP7vlllusVKlS/m1LliyxatWqWYYMGdx9fbz88stt8eLF/v0KQj5FihSxokWLuu3btm2zv/76y2rUqOHfr9favHmzbd++3T1Gjy9WrFii/YsWLQr20AEAAAAg1TKn/qFmv/zyi82fP98Nk+vVq5d/+44dOxKFJ8mfP7+tWbPGfa7QU6hQoWT7t27d6p4rgfsLFCjgPvr2ez1XIStYJ0+etHDJlCmTxbJwfq3hQpuFhnYLHm0WG19fWv86w412Cx5tFhraLXi0Wdpqt2COJ9Vh6ejRo9azZ0/r0aOHZcuWLdG+w4cPW5YsWRJt0/1jx465z48cOZLifu3z3Q/cJ9r/b68djGXLllk4ZM+e3cqXL2+xbPXq1a7tYgVtFhraLXi0WewI13tuekO7BY82Cw3tFjzaLP21W6rDkoovVKhQwa6++upk+zRfKWl40X1fqEppv05qAoORHuf7XLT/3147GJpnFetXnMOlTJky0T6EuEObhYZ2C15abzNdsdMfxvT0nhsOtFvwaLPQ0G7Bo83SVrv5jiusYUkV8Hbu3Okq3YkvwHz99dfWtGlTty+Q7vuGzxUuXNhzf8GCBd0+0XA737wk39A83/6UnhssfZNi6Rt1NqWXrzOcaLPQ0G7BSy9tlp7ec8OJdgsebRYa2i14tFn6a7dUF3h4//333VylSZMmuZvWO9JNn2vtJBVc0HpJoo8LFy5020UfFyxY4H8tFXTQTdsVhlTsIXC/Ptc2ha0qVaq4Yg+avxS4X9sBAAAA4GxJdc/SBRdckOi+SoNLiRIlXMGFV1991V588UW78847bfz48W48vsqFy1133WX33nuvCzjqhtPjrrvuOitevLh/vxalPf/88919vVabNm3c53pMnTp17Omnn3YlydVlpjWZVI4cAAAAAGKiGl5KcubMaW+++aYrAPHxxx+78fgjR460HDlyuP0auvf888+7BWf37dtntWvXtj59+vif37ZtW9u1a5dbtFZddLfddpu1bt3av1/rMikotWzZ0g2/69u3r1WqVCkchw4AAAAA4Q1LL7/8cqL7Ci8TJ05M8fHNmzd3Ny8KSF26dHE3L+q5GjFiRKiHCgAAAABnf1FaAAAAAEgPCEsAAAAA4IGwBAAAAAAeCEsAAAAA4IGwBAAAAAAeCEsAAAAA4IGwBAAAAAAeCEsAAAAA4IGwBAAAAAAeCEsAAAAA4IGwBAAAAAAeCEsAAAAA4IGwBAAAAAAeCEsAAAAA4IGwBAAAAAAeCEsAAAAA4IGwBAAAAAAeCEsAAAAA4IGwBAAAAAAeCEsAAAAA4IGwBAAAAAAeCEsAAAAA4IGwBAAAAAAeCEsAAAAA4IGwBAAAAAAeCEsAAAAA4IGwBAAAAAAeCEsAAAAA4IGwBAAAAAAeCEsAAAAA4IGwBAAIu+zZs0f7EAAAOGOEJQCAc/JUQlheJ1OmTFa+fHn3MdaODQCAYGQO6tEAgDQrU8YM9tj4RbZ2+0GLJaUK5bTX76wa7cMAAKRDhCUAgJ+C0oot+6N9GAAAxASG4QEAAACAB8ISAAAAAHggLAEAECOoIhg82gxATIWlDRs2WNu2ba1q1ap23XXX2dtvv+3ft2nTJmvdurVVqVLFGjdubLNnz0703J9//tmaNm1qlStXtlatWrnHB3rvvffs6quvdq/dtWtXO3z4sH/f0aNH3bbq1atbnTp17J133gntKwYAIAar9IW7imAsVxCk8iKANFng4dSpU9auXTurWLGiTZw40QWnJ554wgoXLuxCUPv27a106dL26aef2vTp061Dhw42depUK1q0qG3ZssXt79ixowtEw4YNs0cffdSmTJliGTJksK+//tqGDh1qr7zyiuXPn9+6dOniPu/Ro4f7v/v372/Lly+30aNHu9fq3Lmze92GDRuerbYBAOC0qCAYGtoNQJoMSzt37rRy5cpZr169LGfOnHbRRRfZlVdeaQsWLLACBQq4nqLx48dbjhw5rGTJkvbLL7+44KSANGHCBKtQoYK1adPGvdZLL71ktWvXtrlz51qtWrVszJgxdt9991ndunXd/t69e7serKefftoSEhLc89966y277LLL3G3NmjU2btw4whIAIKqoIBga2g1AmhuGV6hQIRs0aJALSgowCknz5s2zmjVr2pIlS1xXuIKST7Vq1Wzx4sXuc+3XELrAMcYKPdp/8uRJW7ZsWaL9Gsp3/PhxW7VqlbudOHHCDc8LfG29pnq7AAAAACBm1lmqV6+eGw6nnqAbb7zR+vbt68JUIA2n27p1q/t8x44dKe7fv3+/m5MUuD9z5syWJ08etz9jxoyWN29ey5Ili3+/erL0nL1791q+fPlSdcwKZeESzvHRZ0M4v9Zwoc1CQ7sFjzYLDe0WPNosNLRbbHx9af3rDCfaLG21WzDHE3JYGjx4sBuWpyF5GlKnYgyBYUZ0/9ixY+7z0+0/cuSI/77XfvViee0T3+unhnqvwkG9YupFi2WrV69OVCAj2miz0NBuwaPNQkO7BY82Cw3tFjvCdV6UntBm6a/dQg5LKvIg6t156qmnrEWLFsneWBRksmXL5j7PmjVrsmCj+7lz53b7fPeT7tebqtKf1z7xvX5qjznWr2aFS5kyZaJ9CHGHNgsN7RY82iw0tFvwaLPQpPV2801/SE/nRWeKNktb7eY7rrNS4EFzjOrXr+/fVqpUKTe3qGDBgrZ+/fpkj/cNrVPFPN33Khih4XYKTLqvwhCiOUoaYqfXVc/Snj173DYNz/MN61NQUthKLX2TYukbdTall68znGiz0NBuwaPNQkO7BY82C016abf0dF4ULrRZ+mu3oAo8/Pnnn64c+LZt2/zbVM5bc4ZUcGHFihX+IXWiAhBaU0n0Ufd91Au1cuVKt11zkpQ4A/crlCkYlS1b1gUqfe4rFuF7bT1HzwUAAACAcAsqaSicqIKdFoddu3atzZo1y62F9PDDD7uKeEWKFHHrI6ms98iRI23p0qV22223uedqmN7ChQvddu3X44oVK+bKhsvdd99to0aNcusz6XmaC9WyZUs3DE+3Zs2auW3ap8doUVotbAsAAAAAZ0NQw/DUfTZ8+HDr06eP3XHHHS7E3HvvvS60aGFZ7evWrZs1b97cSpQo4Rae1cKxomA0ZMgQVzVP21UGXB/1PGnSpIlt3rzZLUKr+Ug33HCDW2PJR+FKYUlrMal0udZu0mMAAAAAICYKPGju0dChQz33KSCNHTs2xedee+217paSdu3auZsXBbN+/fq5GwAAAACcbUz4AQAAAAAPhCUAAAAA8EBYAgAAAAAPhCUAAAAA8EBYAgAAAAAPhCUAAAAA8EBYAgAASGe0JAuAf0dYAgAAiHEnTyWE7bUyZcpk5cuXdx9j7diAuF+UFgAAAJGVKWMGe2z8Ilu7/aDFklKFctrrd1aN9mEAZw1hCQAAIA4oKK3Ysj/ahwGkKwzDAwAAAAAPhCUAAADgX1AUI30iLAEAACBNClfxiXAXxRAKY8QH5iwBAAAgTaIwBs4UYQkAAABpFoUxcCYYhgcAAAAAHghLAAAAAOCBsAQAAAAAHghLAAAAAM6K7HFecp2wBAAAACDsJc0zhbnkejTKrVMNDwAAAIBDufXECEsAAAAA/Ci3/g+G4QEAAACAB8ISAAAAAHggLAEAAACAB8ISAAAAAHggLAEAAACAB8ISAAAAAHggLAEAAACAB8ISAAAAAHggLAEAAACAB8ISAAAAAHggLAEAAACAB8ISAAAAAHggLAEAAACAB8ISAAAAAJxpWNq2bZt16tTJatasaVdffbW99NJLdvToUbdv06ZN1rp1a6tSpYo1btzYZs+enei5P//8szVt2tQqV65srVq1co8P9N5777nXrFq1qnXt2tUOHz7s36f/Q9uqV69uderUsXfeeSeYwwYAAACAsxeWEhISXFBSiBk3bpy99tprNnPmTBs0aJDb1759eytQoIB9+umndsstt1iHDh1sy5Yt7rn6qP3Nmze3Tz75xPLly2ePPvqoe558/fXXNnToUHv++edt9OjRtmTJEnvllVf8/3f//v1t+fLlbl/Pnj3dY6dNmxb8VwsAAAAAqZQ5tQ9cv369LV682H766ScXikThqV+/fnbNNde4nqLx48dbjhw5rGTJkvbLL7+44NSxY0ebMGGCVahQwdq0aeOepx6p2rVr29y5c61WrVo2ZswYu++++6xu3bpuf+/eva1t27b29NNPu0Cl57/11lt22WWXuduaNWtcYGvYsGFqDx8AAAAAzk7PUsGCBe3tt9/2ByWfgwcPup6g8uXLu6DkU61aNReuRPs1hM4ne/bsLvRo/8mTJ23ZsmWJ9mso3/Hjx23VqlXuduLECTc8L/C19ZqnTp0K7qsFAAAAgHD3LOXOndvNKfJRUBk7dqxdccUVtmPHDitUqFCix+fPn9+2bt3qPj/d/v3797s5SYH7M2fObHny5HH7M2bMaHnz5rUsWbL49yuw6Tl79+51Q/pSS8EsXDJlymSxLJxfa7jQZqGh3YJHm4WGdgsebRYa2i14tFloaLfgpYc2OxnEa6Q6LCWlOUUrV650c5BUnCEwzIjuHzt2zH2ueU4p7T9y5Ij/vtd+DcPz2ie+108t9WCFg3rG1JMWy1avXp2oSEa00Wahod2CR5uFhnYLHm0WGtoteLRZaGi34NFmYQpLCkoqtqAiD6VLl7asWbO6Xp5ACjLZsmVzn2t/0mCj++qt0j7f/aT79Q1T8vPaJ77XT62KFSvGfFoOlzJlykT7EOIObRYa2i14tFloaLfg0Wahod2CR5uFhnaLTpv5pgGdlbDUp08f+/DDD11guvHGG922woUL29q1axM9bufOnf6hddqv+0n3lytXzg23U2DSfRWGEM1RUvjSPCn1LO3Zs8dt0/A837A+BSWFrWAoKKWXsJRevs5wos1CQ7sFjzYLDe0WPNosNLRb8Giz0NBusd9mQa2zpJLdqng3cOBAa9KkiX+71k5asWKFf0idLFiwwG337dd9H3WdaQiftmtOknp8Aver8IOCUdmyZV2g0ue+YhG+19Zz9FwAAAAAOBtSnTbWrVtnw4cPtwcffNBVo1Pvju+mRWqLFCliXbp0cWW9R44caUuXLrXbbrvNPbdFixa2cOFCt1379bhixYq5suFy991326hRo2z69Onueb169bKWLVu6YXi6NWvWzG3TPj1Gi9JqYVsAAAAAOFtSPQxvxowZbnzfG2+84W5JJ1opSHXr1s0tPFuiRAkbNmyYFS1a1O1XMBoyZIj17dvXbVcZcH3MkCGD269eqs2bN1uPHj3cfKQbbrjBrbHko3ClsKS1mHLmzOnWbtJjAAAAACDqYaldu3bulhIFJJUST8m1117rbqG8vnqXtPitbgAAAAAQCUz6AQAAAAAPhCUAAAAA8EBYAgAAAAAPhCUAAAAA8EBYAgAAAAAPhCUAAAAA8EBYAgAAAAAPhCUAAAAA8EBYAgAAAAAPhCUAAAAA8EBYAgAAAAAPhCUAAAAA8EBYAgAAAAAPhCUAAAAA8EBYAgAAAAAPhCUAAAAA8EBYAgAAAAAPhCUAAAAA8EBYAgAAAAAPhCUAAAAA8EBYAgAAAAAPhCUAAAAA8EBYAgAAAAAPhCUAAAAA8EBYAgAAAAAPhCUAAAAA8EBYAgAAAAAPhCUAAAAA8EBYAgAAAAAPhCUAAAAA8EBYAgAAAAAPhCUAAAAA8EBYAgAAAAAPhCUAAAAA8EBYAgAAAAAPhCUAAAAA8EBYAgAAAIBwhqVjx45Z06ZNbc6cOf5tmzZtstatW1uVKlWscePGNnv27ETP+fnnn91zKleubK1atXKPD/Tee+/Z1VdfbVWrVrWuXbva4cOH/fuOHj3qtlWvXt3q1Klj77zzTqiHDgAAAABnJywpuDzxxBO2Zs0a/7aEhARr3769FShQwD799FO75ZZbrEOHDrZlyxa3Xx+1v3nz5vbJJ59Yvnz57NFHH3XPk6+//tqGDh1qzz//vI0ePdqWLFlir7zyiv/1+/fvb8uXL3f7evbs6R47bdq0UA4fAAAAAMIfltauXWstW7a0jRs3Jtr+66+/up4ihZ2SJUvaQw895HqYFJxkwoQJVqFCBWvTpo1deuml9tJLL9nmzZtt7ty5bv+YMWPsvvvus7p161qlSpWsd+/e7rnqXTp06JB7frdu3eyyyy6zBg0a2AMPPGDjxo0L9vABAAAA4OyEJYWbWrVq2UcffZRou3qCypcvbzly5PBvq1atmi1evNi/X0PofLJnz+6Cj/afPHnSli1blmi/gtbx48dt1apV7nbixAk3PC/wtfWap06dCvZLAAAAAIB/ldmCdPfdd3tu37FjhxUqVCjRtvz589vWrVv/df/+/fvd0L7A/ZkzZ7Y8efK4/RkzZrS8efNalixZ/Ps13E/P2bt3rxvSlxoKZeGSKVMmi2Xh/FrDhTYLDe0WPNosNLRb8Giz0NBuwaPNQkO7BS89tNnJIF4j6LCUEg2XCwwzovsqBPFv+48cOeK/77Vf85q89onv9VNDvVfhoF4x9aLFstWrVycqkBFttFloaLfg0Wahod2CR5uFhnYLHm0WGtoteLTZWQxLWbNmdb08gRRksmXL5t+fNNjofu7cud0+3/2k+/VNU/rz2ie+10+NihUrxnxaDpcyZcpE+xDiDm0WGtoteLRZaGi34NFmoaHdgkebhYZ2i06b+aYARTQsFS5c2BV/CLRz507/0Drt1/2k+8uVK+eG2ykw6b6KQ4jmKCl8FSxY0PUs7dmzx23T8DzfsD4FJYWt1FJQSi9hKb18neFEm4WGdgsebRYa2i14tFloaLfg0Wahod1iv83Ctiit1k5asWKFf0idLFiwwG337dd9H3WfrVy50m3XnCT1+gTuV+EHBaOyZcu6QKXPfcUifK+t5+i5AAAAABBuYUsaNWvWtCJFiliXLl3c+ksjR460pUuX2m233eb2t2jRwhYuXOi2a78eV6xYMVdZz1c4YtSoUTZ9+nT3vF69erkS5RqGp1uzZs3cNu3TY7QorRa2BQAAAICzIXM4u8SGDx/u1kLSwrMlSpSwYcOGWdGiRd1+BaMhQ4ZY37593XaVAdfHDBkyuP1NmjRx6y716NHDzUe64YYb7Omnn/a/vsKVwpLWYsqZM6d17NjRPQYAAAAAYi4sqRpFIAWksWPHpvj4a6+91t1S0q5dO3fzot6lfv36uRsAAAAAnG1M+AEAAAAAD4QlAAAAAPBAWAIAAAAAD4QlAAAAAPBAWAIAAAAAD4QlAAAAAPBAWAIAAAAAD4QlAAAAAPBAWAIAAAAAD4QlAAAAAPBAWAIAAAAAD4QlAAAAAPBAWAIAAAAAD4QlAAAAAPBAWAIAAAAAD4QlAAAAAPBAWAIAAAAAD4QlAAAAAPBAWAIAAAAAD4QlAAAAAPBAWAIAAAAAD4QlAAAAAPBAWAIAAAAAD4QlAAAAAPBAWAIAAAAAD4QlAAAAAPBAWAIAAAAAD4QlAAAAAPBAWAIAAAAAD4QlAAAAAPBAWAIAAAAAD4QlAAAAAPBAWAIAAAAAD4QlAAAAAPBAWAIAAAAAD4QlAAAAAPBAWAIAAACAeA9LR48eta5du1r16tWtTp069s4770T7kAAAAACkUZktjvTv39+WL19uo0ePti1btljnzp2taNGi1rBhw2gfGgAAAIA0Jm7C0qFDh2zChAn21ltv2WWXXeZua9assXHjxhGWAAAAAKTfYXirVq2yEydOWNWqVf3bqlWrZkuWLLFTp05F9dgAAAAApD1x07O0Y8cOy5s3r2XJksW/rUCBAm4e0969ey1fvnwpPjchIcF9PHbsmGXKlCksx6PXKXf+uZY1PC8XNpcUPNdOnjzpbrGGNgsN7RY82iw0tFvwaLPQ0G7Bo81CQ7sFLz202cn//xq+jHA6GRJS86gYMGnSJHv99ddt5syZ/m2bNm2y+vXr26xZs+z8889P8bkKScuWLYvQkQIAAACIdRUrVkzUERPXPUtZs2Z1oSeQ7362bNlO+9zMmTO7xsiYMaNlyJDhrB4nAAAAgNilviJN41FG+DdxE5YKFy5se/bscfOWfF+YhuYpKOXOnfu0z1VI+rfUCAAAAABxWeChXLlyLiQtXrzYv23BggX+HiMAAAAACKe4SRnZs2e3Zs2aWa9evWzp0qU2ffp0tyhtq1aton1oAAAAANKguCnwIIcPH3Zh6ZtvvrGcOXNa27ZtrXXr1tE+LAAAAABpUFyFJQAAAACIlLgZhgcAAAAAkURYAgAAAAAPhCUAAAAA8EBYAgAAAAAPhKUYsHv3breSMAAAwNmwa9cu+/333/33p06dajt27IjqMSFtWrdunR04cMB9/uOPP1rv3r1twoQJFq8ISxG2bds2+89//mO//fabHT161P7v//7PateubfXq1bNVq1ZF+/Bi1qOPPup++YBIOXXqlPu4fft2++qrr2z9+vXRPiSkA1w8S50ffvjBnfzLJ598Yu3atbNBgwbZsWPHon1oMemXX36xBg0a2Oeff+7fNmbMGGvcuLEtWLAgqseGtOWjjz6ym2++2Z3nrly50h555BHbtGmTvf766+4WjwhLEaZ1ovTHME+ePPbZZ5/Zf//7Xxs/frwLS3369In24cWshQsXWubMmaN9GHFt3759LgBwInZ6OnG4+uqrbe7cuS4oNW/e3Hr06OHe/BWa4O3EiRP24Ycf2pYtW9x9/VFs0qSJPf3007Z3795oH15M4uJZaIYNG2aPPfaY/fnnn+73VL+fRYoUsW+//dZeeumlaB9eTOrXr589/PDD1qlTJ/82nXs88MAD1rdv36geWzzg4lnqvf322+7nrWbNmvbpp59auXLl3LbXXnstbnuXCEsR9uuvv7rApDf26dOn2/XXX2+VK1d2i+suX7482ocXs+6++253UvHxxx/b7Nmzbd68eYlu8KZg9MYbb1itWrXsyiuvtM2bN7uTV51ccAXWm062dLVVv5f6ecuaNav99NNP7mLG4MGDo314Mevll1+24cOH2/79+91721tvvWW33HKL/fXXX1wISgEXz0Kj38shQ4a439HJkydbjRo13DAf/QxqaBmS++OPP6xhw4bJtjdq1MjWrl0blWOKB1w8C54uAlWrVs19PnPmTKtfv777/Pzzz7e///7b4hFhKcJ04qUriLrKP2fOHLvuuuvcdl0hO++886J9eDFLJ2HqztWblK6E3Xvvvf5bq1aton14MX0FdsqUKe4kIkuWLG7brbfe6k7++/fvH+3Di0k6Yb3vvvsse/bs9t1339kNN9zg2k5XyXy9JkhOJ6k6gS1btqw7iahTp44bGtWzZ0/7/vvvo314MYmLZ6HR389LLrnEXQzSz1bdunXd9pw5c9rJkyejfXgxSe3ldXKv97gLL7wwKscUD7h4Fjz9rGm4p4bH6m+mwtLx48ftnXfecX8f4hHjmiJMPzSPP/64ZcuWzYUjhSWdZKgbXCex8MaQlNBMnDjRBSVdec2QIYPbpmE+6iLXMJbu3btH+xBjToECBdyV1kOHDrmA/uyzz7rtP//8szuphbfDhw9b/vz53XA8zSd56qmn/MNXGEKbuotnr776qtvOxbPT0wnXqFGjXI+ceuY0F0dXswcOHGhVqlSJ9uHFJJ13aO6vTvQvu+wyt2316tU2f/58d5EDKV88UyjyunimCx1IrnPnzu7nTe9rGhVUsmRJe/75590w2REjRlg84i9YhOmXa+zYsW441B133OH+WGo4lMYS33PPPdE+vJimK4aqqqLhBOoKV1UfXcHIlStXtA8tZmkCdKFChZJtz507twsDSE5X9du3b28ZM2a0ihUruj+KeoMfOnQo8yFO4/LLL7dXXnnFXd1XcNKFIV3k0BXYK664ItqHF5O4eBb631GdkOnv6BNPPGEXXHCBvfjii+5+vE4gP9uuueYad/FMc0g030YXMBQ6NXyxePHi0T68mMXFs+BpyL8Kiqganu+ij4J6ly5d7JxzzrF4lCGB2d6IA5r30KZNG3elQrdp06a5YWSLFi1yEwfjtWv3bFMIV1jSVZ2qVau6IXl58+b1X/WP16s8Z5sm3OvES0PJdCK7ePFi95Gfs9P/jurnTMMuNFT2pptuchN6dVFDJ7f58uWL9iHGHPXCBV48K1WqlE2aNMkOHjzoLp75eoPx73TR0TfUGAgXVQzURSBdPCtdurQrUBB48Uzvc0hO72EKmXqPSxozNNIl3hCWIkwTd73+AGqbEnfBggXdhMu77rorKscXq1R6Uld4dNJVvXp1d9KvyYLdunVzJ2nvv/9+tA8xJm3dutU6dOjg2mjPnj2uO1wnZroSq8IPxYoVi/YhxhzNgdMfQvW+BdJwH4UATcQHwk0XgdRLrr8FhKR/pyv7KlGsXhK1V5kyZVzAZBie93uZ5vee7udKoQDe1KOki0BcPEsdFV3RuZpGGCSln0FdjIw3DMOLMJWG1ZuXPupNXVlVE3l1st+iRQvXC6CTWKXyBx98MNqHGzM0rlqTKzNlyuTfpnCprl2Gq6RMgVKTLNUlrpMKXeW5+OKL3Zu+rpThfzTHZunSpe5zVVfUlcMcOXIkesyGDRtc0MTpK0eNHj3atZXaUJN8FcxVQhzJ6f1f7fTee++5IStff/21G0amnz3NJ6SnxJuu7mv4WNOmTV2PnIZo6++owsGAAQPcvBKYG0LsG/akiqgITfny5V07ahqA5vxqbiYXGlOmEQW33367K1OvYdlpAWEpwjTEQmP4A08eVAFJV8X0R1P7VZNefygJS//QVRzNv9GJfiAN8Ukrv4xny7hx49y4Yd+cOM3H0Uk/vZf/0M+VhnPq5FU3resVOLZaV8N0Aqt5EfD2zTffuDHpLVu2dBXKFMw1L0Jj/H0TfZG8WuWXX37pirBoaQTRxR9V/dQwYwqweNMFRYUlXWBMOrxHRTIIS/+jUQU+OrlXVbekAVxzcXRBDd703qViSCodrr8Nep/T3wEtsjpy5Eh3MQiJaV09XbhIU+dmGoaHyKlcuXLC2rVrk23XtooVK7rPN2/enFCpUqUoHF3sGjp0aEKjRo0SZs6cmVClSpWEWbNmJXzyyScJtWvXThg0aFC0Dy9mDRw40LXRjBkz/NtGjx6dUKdOHdemSO7JJ59MOHDgQLQPI+7cdNNNCVOmTHGf63d048aN7nNtq1+/fpSPLjbVq1cvYe7cucnabN68eQlXXXVVlI8udlWtWjVhzZo1ybavW7fOtSP+Z9euXe58QreyZcsmLF++3H/fd9PfBt+5B5J76qmnEh5++OGEffv2+X9H1a5t2rRx25Hc448/njBq1KiEtISepQjT0DuV6VS1I98wH13Z0RXGSpUqufuzZs2yEiVKRPlIY4t6QzTu2jcOVuu3qCtclcvatm0b7cOLWap8NGjQIDfPy0dXfNSTqcVp1a5ITEMWVXGxQoUK0T6UuKKhd17zRfS+prLOSI5qlaFRL7mWP1DvmwrWiP4uaHQGPZj/UG+Iqi365irddttt7qN6SLTNN2VdC6zCm4beaZpE4BxWFatRL/qdd94Z1WOLVYULF3ZD8bSul85lk1bAi8eqsoSlCNMQPFUo04rQF110kXuz0kmGSlAqRM2ePdsFKcqfJudbhFYnERqjTsnwf6cTCK+ucJ1gaI4EklMhEZ3EIjiq5KYTi6QnqypXrH1ITiXVtV6Qqgj6aL6q1gtijsnp58ZpjqFKrWtBVZ2M6e/o33//bUWLFnXVUn1mzJhh6VXDhg3d2kBa60xl6jXXK7AqpQKT1g/yBU5401poSangD+vHpTx0UfMJ0xKq4UWBTvR19VqLnalgwaWXXurq0uuNS7+AQpnd5FSgQIvoeb1xNWvWLCrHFOt0VVEn/roKq5MI0VX+rl27up5NFiNMTlcMVW1RayxpPHrSMf7xeFUsUkVYdCHoqquucidot9xyizuB1cR7zTHRexz+vVqlqm7pd5VqlSlTAE8tCgAlR+XF1HvhhRdsxYoV7oKGiol8+OGH7ne1Z8+ertiD5hci7SMsIS6oWpQmQasrPGlPid7s0/PVw9NR+FbFwCVLlvgXh9MfSl3R1hAWlapH8rB0OoSllO3YscM++OADW7dunbsopMIZ6mnyBXV4o1olzjYqL4a+fpd6elUo6fjx4+58Qxe5NaRRxWtUfArmqjxrSoR6KvV5aguPxAvCUhTq9etKxbJly9wfxqTisf58JOgKjqoDao4Sgrdq1So3D0fDBjT8k2FROJtDP9WjpKE/GiKVpioinSU7d+50J2VJETL/wZpBZ0Ztp8qLzzzzjKu8qLL+GzdudD0jdevWpfLivzhy5IirgKeLQMWLF7dzzz032ocUU+6991439973+5kS/d7G4+8nAy4jTMOf1P2tKzqcRAT3RqUS6wieQrnGpPsmqOr6iEquK5irlCzS/lWxSNBVV610r54lnVCIrsBqhXuVeebKdXKaW6PhPPv370+03TcBn4tn/2DNoDMfuqjRGSqv7guaugipIdoqjU1Y8qYgqaVedNOyLvCmIhhenycVr8V+CEsRpqEWuqJDtbvgaP6DTsI6d+4c7UOJK9OnT7fnnnvOrXuQlIbgEZb+Z86cOe7KtcKSPk8J4/tTppMuVfLUXJuqVau6nqVFixa5nnRVRuJ313tIp34HtUg5w3ks1RcpUrpgoYtqGgqK5Ki8GBoNtdNFDQ0nVpU3/b4qOGl+IVLuFFChskC6gPbOO++4vw9axzDeMAwvwjRB8KGHHrJ69epF+1BiXuBQC1211onX+eef7yY9Jx3PH4/dupHQqFEjdyVRwxe1CK0W0VNwUlVGzWVq3rx5tA8RaYTmwanHPOlV/19//dWeeuopV+kTiel38+OPP0622DZCo2qMWlaCHrnkVHxFYUmFCnQxQ0VsNOJAv5ui+UxImYL4zJkz3aK0P//8swtOqvim8EQhluRVGFW4THO91BusOZk651Bg79Spkyv9H2/oWYow9ZCou1snqV7156nq9o+kJ10aMoDgaIz1m2++6eaOaN0gXXVVCVmFTRV4ICx5o/Ji8HTdTWufJaXKnirpjOR0tfrdd99lgj3OOq1RqB45/R3V+5oulgVWXsTpqef3xhtvtDx58rj3tE8++cQVyxg+fLhdfvnlbgQHFz3+R6OAHnnkEXvggQfc3wQVE2nZsqWrzusrNBVvCEsR9vbbb7tfuqlTpybbp14UTsTMc6jFpEmT3BWcpCcUGj6gNy140xALTbgXvZGr0IPC0iWXXGJ//vlntA8vLisv8juacs/SgAED3M3XbpqLw5pBp78Ce99997n3N63vlXSYJ1U+ES4alaG/lVReDI6GE6t3XEPxNKxdw8kaNGjgeuL0vqZzEM07VDgIXN8rPcuXL5+NHj3aFRJRm2gtuXhfOoJheIjpstfq+hYVd9AbfdLF83Tyr6sVWqAQ3mWwVZlMQy9U1EG9SYMGDXJXenw3JEblxdBo4q7mfW3fvt1/hVU/c6ocpSvXWrMKiWkYj6606qPXnCXWCAoOw/AQbgpEqlSpBZA1V+maa65JdtFWgUAXiRSm0qsuHktuKFh+9dVXrvdSvW/xvPwGPUsRMG/ePDdGWGWb9XlKdFWxevXqET22WDZ37lwXhNQuyvQtWrTwfNzNN98c8WOLF926dbMXX3zRLQyqIaAKR1ofQmtrqHIZkqPyYmg0hv+LL76wH374wV25zpo1qwtNCp9cufam3l0FSQVKnN7p/nb6aOgs/lG2bNlUF6UhYHqfs2mIrP4e6G9mII3YUO+J5oKph1g3JKZqqLoQlBbQsxShN6yffvrJjd3U5ymhVGxyGlOtbnANHdNEaH2uK7G6sqP2UvWypL1N6Z0mT+oEzFcq3BcAfFeuDx486E5kk86Xw/+oF07tQ/U2nG0apqLhiyr8g9M73d/OQPwdTXzBMZjS7PgflQhXQZrAOZhaAkEFkooUKeJfG+3qq6/mZy2doGcpAjRUzOtz/Dt132qyoP5QBp5QlClTxk0Y1ARpJLZgwQJXPTDQVVddZZMnT3ZXsFnfK3WVFzV8gMqLqaf3Nk0i10evwhicVCSnoYnq+dWcJf1u6kpsoHgcrnK28LczeASg0Hj1IagXWPO8kDLN3/r+++/t2muv9S/aq943zZPTRW0N047XtaoISzEylEAnarrSr7VvWLX9n/GumjQ5f/58V7VNY9HVq6Q5EcuWLUu0rgvDfE6PDuTTo/JieMas6/fz1VdfdQtv49+plK7mQQBn219//eXm1fguZiT9m0AxEZyJjRs3uvXiVPlUF38UllQuXBe7tYSJRgNp/1tvvZVo/lK8ICxFYQ6JrlD4hpPpDUsVoxSWfHNzKlWqZEOGDPFcQC490RWJtWvX2pdffunv+g6c+KxJ+KokpSv9TMbHmUhpkUuk3rp161hwO0j0HCFSnnnmGdu3b58bocHFDITbwIEDrXLlyu5imYKRLmqPHz/eXQxSSBfNYdVafDq3izeEpQjTSb66KVWa2FcxSmvhaMVjLVSrSfgayqJV7wcPHmzp2cSJE+3pp59OFpR8tF371U6EJYRjfpyCuU4mNN9LV1/1xu8bQtCmTRtXEQneypcv7wo7EJZSTxfHdEV/zZo1rifdR9W3Vq5c6ZaaAMJhyZIl9umnn7rFQoFw++WXX9yyG75KgRr1o06BwIqeGrERr+e1hKUIU6LWD1Tg4mUaq64eJ53w33///fbYY4/ZnXfeaemdunXVy3Y6WmhVYROJab5N4NwkvWl9++23bv2DQKwZ9D8rVqxw46k1DFbVexSWVOBBpWD1O6krsbqvngBd1MD/aLiFj4ZWPPvss3bXXXd5zr/hZy05DVPRkggKmlr+QBW49L6nyeNqRyBcdBFDPUsIz9/QAwcORPHoYs/hw4cT9VgqPKmoVI0aNfzbVF0wXsXvkcexPXv2eG4LvLKY2nKfaZl+8bR2y+nWZ1FvQNIAkN5pzts777yTaJuq+owdOzbRNhZY/YfWnlJI6t27t7uvAK61M1RA5Mknn3Tb9HP25ptvEpYCJL1KqHHqU6ZMSfY4fta8aXFyDVG54YYbXOlhjSrQhTSFzqRFWoAzmSOteSMaiqd5wF4XMwJPatO71P4NTWnUS3pUqlQpd8FHRZFU6EFLSGjB48A1qXTxsWTJkhaPCEsRpjVudIVaJWPVK6JhGLqqrXGc6q5UaNL6N1SxMatbt64NGzbMDUXxCo9qu+HDh3PymsR3330X7UOIO6p+F1gqXEMI9DPXuHFj/7Zq1aq54bFI/rOmnpA8efL4rxzqPU2r3usEQ0Eg6RolMH8Zf/0dkNKlS7uTDQ2Teuihh6xt27bRPjykgSqfST333HPJtlFuPTH+hgavTZs21qNHDzfcUzf1ND3wwANuny56a41Hnc/pMfGIsBRhukqtq6+vvfaamwAnKuSgKiH64/jzzz+7E454/YEKp06dOtntt9/uhkepEp5OKlQUY8eOHe5kTEFJwwpYXBVnSiVhtbaSj34P1bMZWLVHV/pZmyoxXUHUe5rmYWpBWl011FxDDSs+//zzXZuqWI0qImnRWiSmK/yam6Qr2QpJCktafFsXghjmgzNFuXVEStOmTd2wOy1RonNa9cyp4INofSoV/9E5nSobxyMWpY0i9SIpGFGZJmVbt251i4TOnDkz0XaVCtdCtTopS+9VA3HmND9ExVU0V3D37t2uV/PGG2+0/v37+x+jYg+LFy+2999/P6rHGktUqEYLbmv4mIKlriZqoUad+KudFC579uzpysn6KiLhHxMmTLC+ffu6tZa0dpxOJDT6QD2dGvZJgQeEy/XXX+8KPKgHOJCu+muIrOaYAGfrolq2bNnieokXepYibOjQoaddZ0kn/jrZCFw5Oj3T1Wn1IGk9EvUmqSdJvUvqZWKuEsJZOrx9+/Zu1fbVq1e7N3UNhRLd/+yzz9x49ZR+f9Orb775xp3sa4iiqP0UjDT8x9cLpwDga0skpp7ziy66yI02UK+chql8/PHHVrFiRcrZ44xp3qWGFMvmzZvdhcfAHnTRUiZJ5y8B4ZQjDQzDJixF2O+//+4m9SoE+OYsaaywChVUqVLFDb3QvAhdUdR9/I/C4zXXXBPtw0AapZKmCkMaSqahUbq675uIqopvuuqqniX1OOEfGhJ74YUXJhq+qBMvTez1KVCggOtxwj904vruu++6CfeaWK8hLL420t8EbVNlRuBMaO6zLyyJ10Ai9WiqAi+AlBGWokAnYhq24ruao5KUGoahrkqVJh4xYoQb3qIFvQBEhi5e+CbbBwos/IDENA9JlQM150YnYjox0zh19f76aEgZVaP+oYW2NdxTyyJoQXKFSYUn9WzqopCGHqsHU8NAKV6DM6HRF76Fj1VVVpPwfVf5tZaXeoY1x1CLu2vkBgBvhKUoVFnRkJ7Abm8N+VGBBw1X0RubVjxWYAIQXZqHowmr6m1CcprnpQs9ujKt6nd//fWXv9S6b4K5Vna/+eabo3qcsVZuvUGDBv6TWN8wbIUj38+ZRhp8+OGHhCWEjW9Y54IFC1xvuYboqRqjetC7du0a7cMDYhphKcJ0FXH+/PmJFqX1vYH5Jl6qDG/gYmgAooP6N6enNVt0wqWTLZ3wq9qRhpRJv3793FCz6667zj0O/zN37txka7gk/TnTXKYHH3wwwkeGtEo9lwpIuvCjnmAtuq3fWw0tDlweATgb73dVqlRx6y2NHj3a5syZ4+ahxxvCUoR17NjRVXBTONIkXt86S19++aUrF645TRr2o94lAJFbvLFq1apxvcJ4NKi9unTp4m5JqcLWTTfdZOXLl4/KscUqzU3Kmzdvom06eQis6qnhUxomBZwJVb9TSNIFWv18qadS655pTpyGy2ptL+BsOXTokBv6qYv/1atXd1WNfQu/xxvODCJMw1E0vl9DLDQnScPxtPLxmDFjXPrWOhsaknfPPfdE+1CBdENreamSW9IqlHqDT1o9CqmjieNITu//qrAYOI/ryiuvTPQYXUArUaJEFI4OaYkuzOrnSL28DIXF2bRv3z530Wfjxo2ut1IXyjQ/Tssj6O/r9OnT3YWzeP05ZJ0lAOle2bJl3XpBlOzH2TZo0CD76quv3FV/r+HWKr2uAhDqmdNC5UCoND9ao1Y0n1BD7zQkVusTqlqlbz6mLtYCZ+rhhx+27du3u2UkNB9O710K6hp1oAtDWm9Ppetr1aoVl0WTCEtRMGXKFHvvvfdcAlclGi3eqLlM7dq1i/ahAek2LKnsNWt3IRLD8BSGtCi5hqjopFXzVVUZT5UDNa5ffw9Uyp5hoQgHLbStgK5lSxYuXOgWCD1y5Ih1797dWrZs6V8TDQjV5Zdf7sK51o1bs2aN3XrrrXby5Ek3/1I/Z5qzpOknmoqiv7XxhrAUYR988IHrqlQKf+WVV9y6Lnrz0sKOWsiRhQiB6IQlXf1KzQrjM2bMiMgxIW2P5Vd5cM0n0YmsimPoT7FCU4sWLdwJhU5ogXBTaXqddyg4rVy50v3Mqaql17xDILXuvvtu10up9TBHjhzphhKrkNnnn3/u3t981VHvuusud1Eo3hCWIqxRo0auC1Ld4ZpQrl4mlYvV+iQq8BC4gByAyIUlVXTLlSvXvz5WV8yAcNCfX40wUC+Thklp2ErgshLA2fTHH3/4g5NuQKg2bNjgzm21jpyG2mkJCV3813pyCuK7du1yc+jUaz5kyBCLN4SlCFMFGr05KSAFhqX169e7k7AlS5ZE+xCBdKdcuXKeBR4AAEDwVKZey0asW7fO3dd8ptdffz0u/84yIDoKYUlDLzTMwkd5VetuKIEDiDyuGQEAED7Fixd3HQL//e9/LXv27HFd4ZOwFGGa6KZCDt9//71bR0M159UVrkm/b7/9drQPD0iX1KtLiXAAAMInY8aMbph7vGMYXhQcPXrUTXpT16SqhWgSnGrPn3vuudE+NAAAAAD/H2EpRmzbts1+/PFHu+2226J9KAAAAADUQxbtA8D/aEznc889F+3DAAAAAPD/EZYAAAAAhMUPP/zgyoXLJ5984ubqDxo0yM3Vj0eEJQAAAABnbNiwYfbYY4/Zn3/+aXPnznVriGrR92+//dZeeukli0eEJQAAAABn7OOPP3YLz2qpnMmTJ1uNGjVc5eeXX345bhc/pnR4BAwdOjRVqx8DAAAA8Wrfvn12ySWXuPULtUzOgw8+6LbnzJnTVYCOR4SlCJgzZ06qHle9evWzfiwAAADA2VC2bFkbNWqU5cmTx3bv3m0NGjRwFZ8HDhxoVapUsXhE6XAAAAAAZ2zVqlXWuXNn27x5sz388MP2wAMP2IsvvmgLFiyw119/3YoXL27xhrAEAAAA4Ix98cUXVrt2bcubN69/m6rgZcmSxeIVBR4AAAAAnLHevXvb3r17E22L56AkhCUAAAAAZ6xWrVr2+eefx+2aSl4YhgcAAADgjN111122aNEiy5gxo+XLl8+yZs2aaP+MGTMs3hCWYsSpU6ds69at7ocqf/780T4cAAAAICgTJ0487f5bb73V4g1hKUbs3LnT6tSp436IVGrxjTfecKkcAAAAiMc1l3LlymUZMmRwt3hFWIoRx48fd92WNWvWtE2bNsVlaUUAAACkXwkJCTZixAh777337MCBA/b111+7kuE5cuSw7t27x2WxB7ouYsQ555zjgpIQlAAAABBvhg0bZlOmTLGXX37ZH4w0auqnn36y/v37WzwiLEXYwYMHbcCAAbZ+/Xo3T+mZZ55xKxrffffdbgEvAAAAIF7nLD3//PNWt25d/9A7rbvUr18/++qrryweEZaiUH9+1qxZ7gdIpRW/+eYb69u3rxUoUMDtAwAAAOLRrl27rFChQsm2586d2w4dOmTxiLAUYQpKr7zyil188cVuHKeSd+PGje2JJ56wefPmRfvwAAAAgJBcccUVNmrUqGSjqgYOHOjWYIpHhKUoTHzT/KQjR47YL7/8Ytdee62/YogmvwEAAADxqFevXrZy5Uo39O7o0aP26KOPunNdTTVRgYd4RDW8COvYsaProlQwUvU79TQtW7bM+vTpY9WqVXMfAQAAgHj1yy+/uPn5J06ccKOptDxOvC6JQ1iKMJVRVAnFLVu2WKtWrVx3pcorbtu2zR5//PFkKx0DAAAA8eC5556zJk2auCF38by2UiDCUoRNmjTJGjVqlCwUadLbJ5984gIUAAAAEG+efPJJ+/777y179ux24403unn5GjkVzwhLEbB79243R0muv/56F4ry5s2b6DGrVq1yPUtLly6N0lECAAAAZ+bYsWM2e/Zs+/bbb+27775zwUkdBQpOFStWtHhDWIqAadOmuSAU2B2pZvfd930Lbr755rhdsAsAAABIGpw03WTEiBF2+PBh++233yzeEJYiRHOUtAht/fr1bcKECZYvXz7/PoUmpe6kvU0AAABAPDl58qTNmTPHrSU6ffp0d/7boEEDN5epZs2aFm8ISwAAAADO2LPPPmszZ870dxBo6N1VV11lmTJlsniVOdoHkB6r4b311ltujpLqzyfNqmPGjInasQEAAABnMuzuxRdftGuuucayZMliaQE9SxH2yCOP2IoVK9xEt1y5ciXb36FDh6gcFwAAABAOP/30k61bt871MGmdJfUunXPOORaPCEsRVqVKFdd7VKlSpWgfCgAAABA227Ztcx0Dv//+uwtJmr+0YcMGK1q0qL377rtWuHBhizfxuZRuHCtYsGBcj9sEAAAAvPTq1cvy58/v1lr67LPPbPLkyW4Ok8KShufFI3qWIlQJz0eVQfSD88wzz1ixYsWSBSf9MAEAAADxpmrVqvbRRx9Z6dKlE23XXP177rnHFixYYPGGAg8RUK9evWRrKt1///3uY+B2fR6P9ecBAACA8847z/bt25ds+/79++N2zhJhKQJmzJgR7UMAAAAAzqomTZpY9+7d3XC8ihUrum1Lliyx559/3pURj0cMw4vikLxA6lVS4tbCtMxpAgAAQDyWDu/Ro4dNmTLFP5pK57W33367de7c2bJly2bxhrAUYZdddpkroyi+pvcNxZPMmTO7Rbz69OljOXPmjNpxAgAAAKHQsLs//vjDrbV04YUXWo4cOSxeUQ0vwnr37m0lSpRwC9POnz/f3d555x0rVaqU/ec//7Fx48bZzp077eWXX472oQIAAACp8ssvv9jhw4fd57lz53bL5Kxfvz4uizoEIixF2JAhQ6xv375Wp04d13Ok25VXXul6khSU9IPVpUsXmz59erQPFQAAADito0eP2sMPP2xt27a1lStXJluc9qGHHrJOnTq5IXrxiLAUYX///bcbapdUxowZ7cCBA+5zBajjx49H4egAAACA1Bs5cqTrQZo4caJVq1Yt0T6traT1lpYtW2ajRo2yeERYirAbb7zRunbtanPnzrVDhw658KTPVTlEc5XUfakfOvUwAQAAALHs888/t27dulmZMmU895ctW9atL6p1RuMRpcMjTBVCNOROXZUnTpxw29TT1Lx5c1clRN2VK1assAEDBkT7UAEAAIDT2rZtm5t7fzoVKlSwrVu3WjyiGl6UqFdJXZYKSvFeJQQAAADpU8OGDd2oqWuuuSbFx/zwww9uraV4nJNPz1IEzJs3z6pWreqCkT5PSj1JPjVq1Ijw0QEAAAChadq0qQ0cONCd6+bKlSvZ/oMHD9prr71m119/vcUjepYiQGM1Nbwuf/787vOUaL2l3377LaLHBgAAAITq2LFjdu+999rmzZutRYsWbsidipVprSV1CKjAQ8GCBW306NGupHi8ISxFgKqDNGnSxC3MBQAAAKQlx48ft7ffftsmTZpkGzZs8G+/9NJL7aabbrL77rvPsmbNavGIsBQB5cqVs9mzZ7ueJQAAACCtOnLkiOtVypMnT5roKGDOUgSQRwEAAJAeZMuWzd3SCtZZihDNRwIAAAAQPxiGFwEq6pDasESBBwAAACA2MAwvQgYPHmznnXdetA8DAAAAQCoRliJAvUqXX345BR4AAACAOMKcpQhgpCMAAADSq507d7ppKW3btrXu3btbPKFnKQI6dOhgOXLkiPZhAAAAABGXK1cue+mll+zWW2+1+fPn26lTpyxjxvjos6HAAwAAAAB4iI9IBwAAACCmnThxwj788EPbsmWLu//6669bkyZN7Omnn7a9e/daPCIsAQAAADhjL7/8sg0fPtz2799v06dPt7feestuueUW++uvv6xPnz4WjxiGBwAAAOCMXXXVVS4sValSxZ588kn7+++/bcSIEbZmzRq78847bcGCBRZv6FmKEcePH7d58+bZ0qVL3ecAAABAPDl8+LBbKkfD8X744QerW7eu266CDpkzx2ddOcJSjNi3b5/de++9NmvWLGvdurWdPHky2ocEAAAApJrWFX3llVesR48eLjjVr1/fVq1aZc8//7xdccUVFo8YhhcjlLg1nvOCCy6wgwcPWs6cOaN9SAAAAECq6VxWwUgFHh544AG76aab7LXXXrPff//devXqZfny5bN4Q1iKAbt377a8efNahgwZon0oAAAAAP4/huFF2LZt2+w///mP/fbbb3b06FH7v//7P6tdu7bVq1fPdVMCAAAA8WrBggXWqVMnfxW8kSNH2pdffmnxirAUYeqCVE9Snjx57LPPPrP//ve/Nn78eBeW4rWkIgAAAPDNN99Yu3bt3LQSDb1ToQcVdnj22Wftgw8+sHgUn2Up4tivv/7qQlKRIkVc/fnrr7/eKleu7MZwNm3aNNqHBwAAAIRk6NChrmNAc5XUGSBt2rSxggUL2uDBg+3uu++2eEPPUoRlzZrVDb9T9bs5c+bYdddd57b/+eefdt5550X78AAAAICQbNiwwa2xlFSlSpXcVJR4RFiKMJVQfPzxx+2+++5z4UhhaerUqfb000+7sZ0AAABAPCpVqpT9+OOPybZPnDjR7YtHVMOLMI3dHDt2rG3evNnuuOMO94MzadIkVy5cxR4AAACAeDR//nx7+OGH7aqrrrLvvvvOdQSot2n58uX2xhtv2JVXXmnxhrAUhbGcbdu2tezZsyfarrCkfZoABwAAAMSjHTt2uGIO69ats5MnT9rFF1/s5ioVLVrU4hFhKQLWr19vu3btcp+3atXKhgwZkmx+kqriacXjxYsXR+koAQAAgPA5cuSIO8dVYMqVK5fFI6rhRcD27dutdevW/vsdOnRI9hj1NGkeEwAAABCP1q5da127dnUjpTTVRFNOVEJc57kahnfFFVdYvCEsRYB+MHwLzmo9pU8++cSVCgcAAADSit69e1vx4sXtoosucue7Bw4csNmzZ9unn35q/fr1c4Ue4g3V8CJMk90ISgAAAEhrli5d6qo+61xX64k2aNDAChQo4NYS1bSUeETPUoSpCt6gQYNs2bJlrjJe0iljM2bMiNqxAQAAAKHKlSuX7dy50zJnzuzm4T/00ENu+2+//Wb58+e3eERYirBnnnnG9uzZY/fcc4/lzJkz2ocDAAAAhEXz5s3tkUcesSxZslixYsWsTp069uGHH1r//v3tscces3hENbwIq1ixYlwvzAUAAACk5Ntvv3UjqTT0TkPwZs2aZadOnbK6detaPKJnKcI04W337t3RPgwAAAAg7Bo0aJDo/rXXXuuvDl2oUCGLN/QsRdiUKVPc4rP333+/lShRws4555xE+2vUqBG1YwMAAABCtX79ehswYIArIa4FaUVR49ixY66zYOXKlRZvCEsRVrZs2RT3ZciQwU2AAwAAAOLNPffc40LSrbfean379nVz9TUk74MPPrCePXu67fGGYXgR5ltvCQAAAEhLli1bZh999JGVK1fOJk2aZJdccokLUBdffLFbdykewxLrLEWBSoZv27bNtmzZ4m5K3FrdeOrUqdE+NAAAACAkmTNnduXDRUHJN2LqqquustWrV1s8omcpwrRA13PPPWd79+5Ntq9gwYLWuHHjqBwXAAAAcCaqVq1qo0aNss6dO1uFChXsyy+/dPP0ly9fblmzZrV4RM9ShL366quuSoh+eHLnzm3jx4+3ESNG2AUXXOBWPAYAAADiUZcuXWz27NlujtItt9xiu3btspo1a9oTTzxhd999t8UjCjxEmFK2httdeOGF1rZtW7vrrrusfv369uOPP7oFuz7//PNoHyIAAAAQEkWLI0eOWPbs2e3QoUM2d+5cy5Mnj1WpUsXiET1LEabepMOHD7vPNdnNV/BB4zr//PPPKB8dAAAAELwNGzbY8ePHXXVnBSVZsmSJFS9ePG6DkhCWIkwLc/Xu3dvVn69Vq5ZNnjzZVqxY4SqHxONCXQAAAEjfPUkvvPCCNWrUyBYtWpRo3/vvv29Nmza1l19+2T0uHhGWIqxbt25uMVpNdNPwu8qVK9ttt91m48aNc5PhAAAAgHgxZswYN8Vk2LBhbn5SoOHDh7vtEydOtA8//NDiEXOWYsDBgwddhZBzzjkn2ocCAAAApFqTJk2sQ4cOrmcpJRMmTHChKh7n5tOzFCEabqcfpP/85z+uEl6gnDlzEpQAAAAQdzZv3myVKlU67WOuuOIK27Rpk8UjwlIEjB492rp27eoqg6i4g4bbDRw4MNqHBQAAAJyR/Pnzu8B0Olu3bnUV8eIRYSkCtJbSiy++aG+//bZbU0lBSXOUGAEJAACAeNagQQMbMmSIq4Tn5cSJEzZ06FCrU6eOxSPmLEVobaUZM2ZY4cKF/T806q6cOXOmfxsAAAAQb/bv3++KlWn+/b333uvOe3PlymX79u1zFZ/Hjh1rf//9tyvwEI/nvZmjfQDpgcJR5sz/NLU+1w/UsWPHonpcAAAAwJmuIfrxxx/bgAEDXIlw33qi6o9RaGrcuLF17NjRChQoYPGIsAQAAAAgZHny5HFrLfXo0cMVclBvk7ZdeOGFlilTJotnhKUI+eqrr1zVO59Tp07Zt99+a/ny5Uv0uGbNmkXh6AAAAIAzkyVLFitZsqSlJcxZioB69eql6nEZMmRwc5sAAAAARB9hCQAAAAA8UDocAAAAADwQlgAAAADAA2EJAAAAADwQlgAAAADAA2EJABCXhgwZ4laLPxt+++03W7hwYaof//3339stt9xiVatWtZtuuonKpgCQRhCWAABIon379vbHH3+k6rGrVq2yDh06WIsWLWzSpEl255132mOPPea2AwDiG4vSAgBwBr744gu74oorrFWrVu5+iRIl7LvvvnOLkZctWzbahwcAOAP0LAEAom7MmDFWt25dq1ixojVv3tzmz59vc+bMsTJlyiR63LPPPutuPsePH7du3bpZ5cqVrX79+jZ16lT/vhMnTtjAgQOtTp06Vq1aNevUqZPt2bPH7du2bZu7X6NGDatQoYLdeuuttmDBArdPQ/s2b95sXbp0SfR/pUTPfeqpp5JtP3DgwBm1CQAg+ghLAICoWrlypfXv39969uzpemOqV69ujz/+uJ06depfn7to0SL38bPPPrO77rrLhZYNGza4ba+//rpNnDjR+vbtax999JHt2rXL/R+ix508edLGjx/vhs4VLlzYevXq5Z8Ldf7551vXrl1dEPs3JUuWTNSDtGbNGvvll1/syiuvDLlNAACxgWF4AICoUi9OhgwZrGjRolasWDEXlNTLlJCQ8K/PLVSokAs555xzjgstKrQwYcIEe/LJJ+3jjz+2zp072zXXXOMe27t3bxfG9LrqhbrxxhtdKJJ77rnH2rVr5z7PkyePZcqUyXLlyuVuwdi9e7d17NjRLr/8crv++utDag8AQOwgLAEAokrD5EqXLu2qyJUvX96FjNtvvz1VBRbKlSvngpLPZZddZuvWrXPD7fbu3evu+5QqVcoFGVEvlIbsqeLd77//bsuXL09VT9bp7Ny50+6//34XxgYPHmwZMzJ4AwDiHe/kAICoyp49u+sNGj16tNWsWdMNqdO8JfU2JaV5SIGSBhIFHoWnzJlTvhaox7Rp08beeecd15vVtm1bNwzwTGgOlHqnjh075uZf5cuX74xeDwAQGwhLAICo0ryjN99801WUU1GFadOm2dGjR23u3Llu/8GDB/2P/fPPPxM9V/ODAi1dutQuueQSy507t+XNmzdR+W6tnaQheXrOvHnz7L333rOHH37YrrvuOtu+fbt7TGqG/iV16NAhe+CBB1xwGzt2rJv/BABIGwhLAICoypYtmw0bNsz1LikMffnlly6AaF6R9o0YMcI2bdpkb7/9tisGEWjLli3Wp08fN/ROr6H9GmLnq2qnIg+//vqrC0gvvviiValSxc477zwXbPT/aL6UwpmKOoh6hiRHjhy2fv16N5Tv3yjobdy40fr16+fu79ixw92ohgcA8S9DQiiX0QAACKPJkyfb8OHDXfjR0DiV9W7SpIlNmTLFXnvtNVc4oUGDBlawYEE3H+nll192AWfFihV27rnn2rfffmsXXHCBde/e3WrXru0vK/7qq6+6ancavqcepOeee86FJVXHU7hSoLn44ovdsDwVg1DPUNWqVW3cuHE2YMAA91pDhw497bE3bNjQzXvyKimu4wQAxC/CEgAAAAB4YBgeAAAAAHigdDgAACn4+uuv7dlnn01xf7Vq1dxcKgBA2sQwPAAAUvD333+79ZNSogIUVL8DgLSLsAQAAAAAHpizBAAAAAAeCEsAAAAA4IGwBAAAAAAeCEsAAAAA4IGwBAAAAAAeCEsAAAAA4IGwBAAAAAAeCEsAAAAAYMn9P14B519xjY9ZAAAAAElFTkSuQmCC",
      "text/plain": [
       "<Figure size 1000x400 with 1 Axes>"
      ]
     },
     "metadata": {},
     "output_type": "display_data"
    }
   ],
   "source": [
    " train.subcat_2.value_counts()[:10].plot(kind = 'bar',figsize = (10,4), title=\"Top_10 subcategory_2\",fontsize=10)"
   ]
  },
  {
   "cell_type": "code",
   "execution_count": 41,
   "id": "7039339e-1975-4173-bc98-2844fe4661ea",
   "metadata": {},
   "outputs": [],
   "source": [
    "# BRAND NAME"
   ]
  },
  {
   "cell_type": "code",
   "execution_count": 42,
   "id": "8266ea20-59be-4a91-a348-c607962dbf91",
   "metadata": {},
   "outputs": [
    {
     "name": "stdout",
     "output_type": "stream",
     "text": [
      "Unique brands: 4810\n"
     ]
    }
   ],
   "source": [
    "print(\"Unique brands:\", train['brand_name'].nunique())"
   ]
  },
  {
   "cell_type": "code",
   "execution_count": 43,
   "id": "0d4add50-eee5-464e-b1fe-f93596e4397d",
   "metadata": {},
   "outputs": [
    {
     "name": "stdout",
     "output_type": "stream",
     "text": [
      "Top 10 brands:\n",
      " brand_name\n",
      "Not mentioned        632682\n",
      "PINK                  54088\n",
      "Nike                  54043\n",
      "Victoria's Secret     48036\n",
      "LuLaRoe               31024\n",
      "Apple                 17322\n",
      "FOREVER 21            15186\n",
      "Nintendo              15007\n",
      "Lululemon             14558\n",
      "Michael Kors          13928\n",
      "Name: count, dtype: int64\n"
     ]
    }
   ],
   "source": [
    "print(\"Top 10 brands:\\n\", train['brand_name'].value_counts().head(10))"
   ]
  },
  {
   "cell_type": "code",
   "execution_count": 44,
   "id": "dc8baf11-c6a5-4a1d-bc01-5a0fed7b34be",
   "metadata": {},
   "outputs": [
    {
     "name": "stdout",
     "output_type": "stream",
     "text": [
      "Max price - Branded: 2009.0\n",
      "Min price - Branded: 0.0\n",
      "Mean price - Branded: 30.909519646338836\n",
      "\n",
      "\n",
      "Max price - Not mentioned: 2000.0\n",
      "Min price - Not mentioned: 0.0\n",
      "Mean price - Not mentioned: 21.13345329881362\n"
     ]
    }
   ],
   "source": [
    "branded = train[train['brand_name'] != 'Not mentioned']\n",
    "unbranded = train[train['brand_name'] == 'Not mentioned']\n",
    "\n",
    "print(\"Max price - Branded:\", branded['price'].max())\n",
    "print(\"Min price - Branded:\", branded['price'].min())\n",
    "print(\"Mean price - Branded:\", branded['price'].mean())\n",
    "print(\"\\n\")\n",
    "\n",
    "print(\"Max price - Not mentioned:\", unbranded['price'].max())\n",
    "print(\"Min price - Not mentioned:\", unbranded['price'].min())\n",
    "print(\"Mean price - Not mentioned:\", unbranded['price'].mean())"
   ]
  },
  {
   "cell_type": "code",
   "execution_count": 45,
   "id": "549a5aae-afe8-41fd-b357-3b45f6113725",
   "metadata": {},
   "outputs": [
    {
     "data": {
      "image/png": "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",
      "text/plain": [
       "<Figure size 1000x400 with 1 Axes>"
      ]
     },
     "metadata": {},
     "output_type": "display_data"
    }
   ],
   "source": [
    "# Select the top 10 most frequent brands and create a subset of the data\n",
    "# Plot a boxplot to visualize the price distribution for these top brands\n",
    "\n",
    "top_brands=train['brand_name'].value_counts().head(10)\n",
    "top_brand_names = top_brands.index.tolist()\n",
    "subset = train[train['brand_name'].isin(top_brand_names)]\n",
    "\n",
    "plt.figure(figsize=(10,4))\n",
    "sns.boxplot(x='brand_name', y='price', data=subset)\n",
    "plt.xticks(rotation=45)\n",
    "plt.title(\"Price Distribution for Top 10 Brands\")\n",
    "plt.show()"
   ]
  },
  {
   "cell_type": "code",
   "execution_count": 46,
   "id": "5cfa7715-6cc8-4321-971d-e2ad029abf32",
   "metadata": {},
   "outputs": [],
   "source": [
    "# ITEM DESCRIPTION"
   ]
  },
  {
   "cell_type": "code",
   "execution_count": 47,
   "id": "b146b9a8-6803-42e2-991f-34088522b60a",
   "metadata": {},
   "outputs": [
    {
     "name": "stdout",
     "output_type": "stream",
     "text": [
      "Min words: 1\n",
      "Max words: 245\n",
      "Avg words: 25.68858812776764\n"
     ]
    }
   ],
   "source": [
    "# Create a new feature 'desc_len' that stores the word count of each item description\n",
    "\n",
    "train['desc_len'] = train['item_description'].astype(str).apply(lambda x: len(x.split()))\n",
    "\n",
    "print(\"Min words:\", train['desc_len'].min())\n",
    "print(\"Max words:\", train['desc_len'].max())\n",
    "print(\"Avg words:\", train['desc_len'].mean())\n"
   ]
  },
  {
   "cell_type": "code",
   "execution_count": 48,
   "id": "19a9799d-ab92-4bcd-9d31-a53f3a1c6658",
   "metadata": {},
   "outputs": [
    {
     "name": "stdout",
     "output_type": "stream",
     "text": [
      "[('and', 804169), ('the', 535906), ('a', 526975), ('for', 496628), ('to', 443334), ('in', 435936), ('with', 431449), ('is', 399950), ('of', 334075), ('I', 269918), ('on', 248102), ('new', 217416), ('size', 200968), ('or', 193236), ('No', 192121), ('you', 191891), ('are', 191403), ('Size', 182099), ('Brand', 170193), ('[rm]', 169715)]\n"
     ]
    }
   ],
   "source": [
    "from collections import Counter\n",
    "\n",
    "all_words = ' '.join(train['item_description'].astype(str)).split()\n",
    "word_freq = Counter(all_words)\n",
    "print(word_freq.most_common(20))"
   ]
  },
  {
   "cell_type": "code",
   "execution_count": 49,
   "id": "8f754b74-81cc-4a44-a6d5-fe01125d5550",
   "metadata": {},
   "outputs": [],
   "source": [
    "import re\n",
    "import string\n",
    "from sklearn.feature_extraction.text import ENGLISH_STOP_WORDS\n",
    "\n",
    "# Decontraction function\n",
    "def decontracted(phrase):\n",
    "    phrase = re.sub(r\"won't\", \"will not\", phrase)\n",
    "    phrase = re.sub(r\"can't\", \"can not\", phrase)\n",
    "    phrase = re.sub(r\"n't\", \" not\", phrase)\n",
    "    phrase = re.sub(r\"'re\", \" are\", phrase)\n",
    "    phrase = re.sub(r\"'s\", \" is\", phrase)\n",
    "    phrase = re.sub(r\"'d\", \" would\", phrase)\n",
    "    phrase = re.sub(r\"'ll\", \" will\", phrase)\n",
    "    phrase = re.sub(r\"'t\", \" not\", phrase)\n",
    "    phrase = re.sub(r\"'ve\", \" have\", phrase)\n",
    "    phrase = re.sub(r\"'m\", \" am\", phrase)\n",
    "    return phrase\n"
   ]
  },
  {
   "cell_type": "code",
   "execution_count": 50,
   "id": "b10e80f2-cb79-4a7b-a705-9624d829c3e8",
   "metadata": {},
   "outputs": [
    {
     "name": "stdout",
     "output_type": "stream",
     "text": [
      "We have seen this movie before, have not we?\n"
     ]
    }
   ],
   "source": [
    "# Test the decontracted function\n",
    "\n",
    "print(decontracted(\"We've seen this movie before, haven't we?\"))"
   ]
  },
  {
   "cell_type": "code",
   "execution_count": 51,
   "id": "604110c6-2606-4f40-9a7b-866db35bbac5",
   "metadata": {},
   "outputs": [
    {
     "name": "stderr",
     "output_type": "stream",
     "text": [
      "100%|█████████████████████████████████████████████████████████████████████| 1482535/1482535 [01:31<00:00, 16160.88it/s]\n"
     ]
    }
   ],
   "source": [
    "# Preprocessing function\n",
    "\n",
    "def preprocess_text(text):\n",
    "    text = decontracted(text)  # expand contractions\n",
    "    text = text.lower()  # lowercase\n",
    "    text = re.sub(r'[^a-z\\s]', '', text)  # remove punctuation & numbers\n",
    "    words = text.split()\n",
    "    words = [word for word in words if word not in ENGLISH_STOP_WORDS]  # remove stopwords\n",
    "    return ' '.join(words)\n",
    "\n",
    "from tqdm import tqdm  # for progress bar\n",
    "tqdm.pandas()  # enable progress_apply on pandas\n",
    "train['clean_item_description'] = train['item_description'].progress_apply(preprocess_text)"
   ]
  },
  {
   "cell_type": "code",
   "execution_count": 52,
   "id": "84145bad-8dcc-47e0-8f54-e946db8ebf38",
   "metadata": {},
   "outputs": [
    {
     "name": "stdout",
     "output_type": "stream",
     "text": [
      "                                    item_description  \\\n",
      "0                                 No description yet   \n",
      "1  This keyboard is in great condition and works ...   \n",
      "2  Adorable top with a hint of lace and a key hol...   \n",
      "3  New with tags. Leather horses. Retail for [rm]...   \n",
      "4          Complete with certificate of authenticity   \n",
      "\n",
      "                              clean_item_description  \n",
      "0                                        description  \n",
      "1  keyboard great condition works like came box p...  \n",
      "2  adorable hint lace key hole pale pink x x avai...  \n",
      "3  new tags leather horses retail rm stand foot h...  \n",
      "4                  complete certificate authenticity  \n"
     ]
    }
   ],
   "source": [
    "print(train[['item_description', 'clean_item_description']].head(5))"
   ]
  },
  {
   "cell_type": "markdown",
   "id": "b3750f94-cd7a-4a7d-b4eb-a124baac3309",
   "metadata": {},
   "source": [
    "## Model Preparation"
   ]
  },
  {
   "cell_type": "code",
   "execution_count": 53,
   "id": "628296e9-1620-4275-a11f-573f2cfa2d40",
   "metadata": {},
   "outputs": [
    {
     "name": "stdout",
     "output_type": "stream",
     "text": [
      "['name', 'item_condition_id', 'category_name', 'brand_name', 'shipping', 'item_description', 'logPrice', 'general_cat', 'subcat_1', 'subcat_2', 'desc_len', 'clean_item_description']\n"
     ]
    }
   ],
   "source": [
    "X = train.drop(['price', 'train_id'], axis=1) \n",
    "\n",
    "y = np.log1p(train['price']) \n",
    "\n",
    "feature_cols = list(X.columns)\n",
    "print(feature_cols)\n",
    "\n",
    "from sklearn.model_selection import train_test_split\n",
    "x_train, x_test, y_train, y_test = train_test_split(X, y, test_size=0.2, random_state=42)"
   ]
  },
  {
   "cell_type": "markdown",
   "id": "20649004-ddf3-46c1-acbd-e7bcbd9e7ac1",
   "metadata": {},
   "source": [
    "## Text Feature Extraction"
   ]
  },
  {
   "cell_type": "code",
   "execution_count": 54,
   "id": "83555cf7-bab9-4ba3-8b3d-f2d7578ba6de",
   "metadata": {},
   "outputs": [],
   "source": [
    "# ITEM DESCRIPTION"
   ]
  },
  {
   "cell_type": "code",
   "execution_count": 55,
   "id": "a4c3a459-2366-4a9b-a896-17ca01b5496f",
   "metadata": {},
   "outputs": [
    {
     "name": "stdout",
     "output_type": "stream",
     "text": [
      "(1186028, 50000)\n",
      "(296507, 50000)\n"
     ]
    }
   ],
   "source": [
    "from sklearn.feature_extraction.text import TfidfVectorizer\n",
    "\n",
    "# ignore words that appear in fewer than 10 documents(rows), include both unigrams and bigrams, limit vocabulary size to top 50000 features\n",
    "tfidf = TfidfVectorizer(min_df=10, ngram_range=(1, 2), max_features=50000) \n",
    "tfidf.fit(x_train['clean_item_description'])\n",
    "\n",
    "train_desc = tfidf.transform(x_train['clean_item_description'])\n",
    "test_desc = tfidf.transform(x_test['clean_item_description'])\n",
    "\n",
    "print(train_desc.shape)\n",
    "print(test_desc.shape)"
   ]
  },
  {
   "cell_type": "code",
   "execution_count": 56,
   "id": "e2acc5f3-6521-4b8d-b54f-b3fc9ec22452",
   "metadata": {},
   "outputs": [
    {
     "name": "stdout",
     "output_type": "stream",
     "text": [
      "[('worn', np.int64(49084)), ('great', np.int64(17322)), ('condition', np.int64(9040)), ('worn great', np.int64(49152)), ('great condition', np.int64(17358)), ('brand', np.int64(4804)), ('new', np.int64(27831)), ('brand new', np.int64(4850)), ('listing', np.int64(23747)), ('size', np.int64(39708)), ('bottles', np.int64(4266)), ('living', np.int64(24043)), ('proof', np.int64(33906)), ('perfect', np.int64(31090)), ('hair', np.int64(17859)), ('day', np.int64(10906)), ('dry', np.int64(12697)), ('shampoo', np.int64(38347)), ('ounces', np.int64(29801)), ('bottle', np.int64(4238))]\n"
     ]
    }
   ],
   "source": [
    "print(list(tfidf.vocabulary_.items())[:20])"
   ]
  },
  {
   "cell_type": "code",
   "execution_count": 57,
   "id": "c273313b-b318-44ba-931e-30270ec543ad",
   "metadata": {},
   "outputs": [],
   "source": [
    "# NAME"
   ]
  },
  {
   "cell_type": "code",
   "execution_count": 58,
   "id": "41a2172c-8060-41b2-b035-0903cfb4e865",
   "metadata": {},
   "outputs": [
    {
     "name": "stdout",
     "output_type": "stream",
     "text": [
      "(1186028, 15929)\n",
      "(296507, 15929)\n"
     ]
    }
   ],
   "source": [
    "# Convert item names into numerical features using CountVectorizer\n",
    "\n",
    "from sklearn.feature_extraction.text import CountVectorizer\n",
    "\n",
    "name_vectorizer = CountVectorizer(min_df=10)\n",
    "name_vectorizer.fit(x_train['name'].astype(str))  # Fit only on training data\n",
    "\n",
    "train_name = name_vectorizer.transform(x_train['name'].astype(str))\n",
    "test_name = name_vectorizer.transform(x_test['name'].astype(str))\n",
    "\n",
    "print(train_name.shape)\n",
    "print(test_name.shape)"
   ]
  },
  {
   "cell_type": "code",
   "execution_count": 59,
   "id": "080684d6-f565-4c4c-a6fb-0b9087b6b885",
   "metadata": {},
   "outputs": [
    {
     "name": "stdout",
     "output_type": "stream",
     "text": [
      "[('lularoe', 8675), ('kids', 7904), ('xl', 15748), ('leggings', 8281), ('bundle', 2714), ('display', 4568), ('mannequins', 8900), ('living', 8490), ('proof', 11334), ('perfect', 10713), ('hair', 6542), ('day', 4264), ('dry', 4785), ('palazzo', 10462), ('pants', 10515), ('reserved', 11816), ('for', 5765), ('ms', 9610), ('pink', 10890), ('boyshorts', 2443)]\n"
     ]
    }
   ],
   "source": [
    "print(list(name_vectorizer.vocabulary_.items())[:20])"
   ]
  },
  {
   "cell_type": "code",
   "execution_count": 60,
   "id": "2fb0ed5d-debe-41b7-a58e-3610dff9e159",
   "metadata": {},
   "outputs": [],
   "source": [
    "# BRAND NAME"
   ]
  },
  {
   "cell_type": "code",
   "execution_count": 61,
   "id": "fc852d68-bac8-4e70-aa4d-5a6688e6de84",
   "metadata": {},
   "outputs": [
    {
     "name": "stdout",
     "output_type": "stream",
     "text": [
      "(1186028, 2019)\n",
      "(296507, 2019)\n"
     ]
    }
   ],
   "source": [
    "brand_vectorizer = CountVectorizer(min_df=10)\n",
    "brand_vectorizer.fit(x_train['brand_name'].astype(str))  # Fit only on training data\n",
    "\n",
    "train_brand = brand_vectorizer.transform(x_train['brand_name'].astype(str))\n",
    "test_brand = brand_vectorizer.transform(x_test['brand_name'].astype(str))\n",
    "\n",
    "print(train_brand.shape)\n",
    "print(test_brand.shape)"
   ]
  },
  {
   "cell_type": "code",
   "execution_count": 62,
   "id": "36bd227f-89d1-4255-b692-c55e827f7b34",
   "metadata": {},
   "outputs": [],
   "source": [
    "# ITEM CATEGORY"
   ]
  },
  {
   "cell_type": "code",
   "execution_count": 63,
   "id": "7a56180c-abf0-4133-a409-2c228d77b621",
   "metadata": {},
   "outputs": [
    {
     "name": "stdout",
     "output_type": "stream",
     "text": [
      "Category OHE shape (train): (1186028, 978)\n",
      "Category OHE shape (test): (296507, 978)\n",
      "[[0. 0. 0. ... 0. 0. 0.]\n",
      " [0. 0. 0. ... 0. 0. 0.]\n",
      " [1. 0. 0. ... 0. 0. 0.]\n",
      " [0. 0. 0. ... 0. 0. 0.]\n",
      " [0. 0. 0. ... 0. 0. 0.]]\n"
     ]
    }
   ],
   "source": [
    "from sklearn.preprocessing import OneHotEncoder\n",
    "import pandas as pd\n",
    "\n",
    "category_cols = ['general_cat', 'subcat_1', 'subcat_2']\n",
    "\n",
    "ohe = OneHotEncoder(handle_unknown='ignore', sparse_output=True)\n",
    "ohe.fit(x_train[category_cols])\n",
    "\n",
    "train_cat_ohe = ohe.transform(x_train[category_cols])\n",
    "test_cat_ohe = ohe.transform(x_test[category_cols])\n",
    "\n",
    "print(\"Category OHE shape (train):\", train_cat_ohe.shape)\n",
    "print(\"Category OHE shape (test):\", test_cat_ohe.shape)\n",
    "\n",
    "print(train_cat_ohe[:5].toarray())"
   ]
  },
  {
   "cell_type": "code",
   "execution_count": 64,
   "id": "b84eab81-f0a4-4269-baea-bb617a8e6e6e",
   "metadata": {},
   "outputs": [],
   "source": [
    "# Each unique category value across these columns becomes a separate binary column\n",
    "# Each row has a 1 in the column corresponding to the item's category, 0 elsewhere"
   ]
  },
  {
   "cell_type": "code",
   "execution_count": 65,
   "id": "87c9aaba-4e0f-4b9e-ab4d-426f64641eb6",
   "metadata": {},
   "outputs": [],
   "source": [
    "from sklearn.compose import ColumnTransformer\n",
    "import numpy as np\n",
    "\n",
    "preprocessor = ColumnTransformer(\n",
    "    transformers=[\n",
    "        (\"desc_tfidf\", TfidfVectorizer(max_features=50000), \"item_description\"),\n",
    "        (\"name_cv\", CountVectorizer(min_df=10), \"name\"),\n",
    "        (\"brand_cv\", CountVectorizer(min_df=10), \"brand_name\"),\n",
    "        (\"cat_ohe\", OneHotEncoder(handle_unknown=\"ignore\"), [\"general_cat\", \"subcat_1\", \"subcat_2\"]),\n",
    "    ],\n",
    "    remainder=\"drop\",\n",
    ")\n"
   ]
  },
  {
   "cell_type": "markdown",
   "id": "409570ec-7033-4be2-93fe-f0627a3e316d",
   "metadata": {},
   "source": [
    "## Model Training and Evaluation"
   ]
  },
  {
   "cell_type": "markdown",
   "id": "231224f6-7be4-41f2-91e7-26ea316a6311",
   "metadata": {},
   "source": [
    "**Linear regression (Ridge) with regularization**"
   ]
  },
  {
   "cell_type": "code",
   "execution_count": 66,
   "id": "7670c22a-cf5e-4c07-bf11-5de4a3bc139c",
   "metadata": {},
   "outputs": [
    {
     "name": "stdout",
     "output_type": "stream",
     "text": [
      "Ridge Regression Performance:\n",
      "RMSE: 0.4867\n",
      "MAE:  0.3662\n",
      "R²:   0.5801\n"
     ]
    }
   ],
   "source": [
    "from sklearn.pipeline import Pipeline\n",
    "from sklearn.linear_model import Ridge\n",
    "from sklearn.metrics import mean_squared_error, mean_absolute_error, r2_score\n",
    "\n",
    "\n",
    "ridge_pipeline = Pipeline(steps=[\n",
    "    (\"preprocessor\", preprocessor),\n",
    "    (\"model\", Ridge(alpha=1.0)),   \n",
    "])\n",
    "\n",
    "ridge_pipeline.fit(x_train, y_train)\n",
    "\n",
    "y_pred = ridge_pipeline.predict(x_test)\n",
    "rmse = np.sqrt(mean_squared_error(y_test, y_pred))\n",
    "mae = mean_absolute_error(y_test, y_pred)\n",
    "r2 = r2_score(y_test, y_pred)\n",
    "\n",
    "print(\"Ridge Regression Performance:\")\n",
    "print(f\"RMSE: {rmse:.4f}\")\n",
    "print(f\"MAE:  {mae:.4f}\")\n",
    "print(f\"R²:   {r2:.4f}\")"
   ]
  },
  {
   "cell_type": "code",
   "execution_count": 67,
   "id": "c9543a24-de14-453e-9208-3ec70c6deec6",
   "metadata": {},
   "outputs": [
    {
     "name": "stdout",
     "output_type": "stream",
     "text": [
      "SGD Regressor (Elastic Net) Performance:\n",
      "RMSE: 0.5253\n",
      "MAE: 0.3966\n",
      "R²: 0.5108\n"
     ]
    }
   ],
   "source": [
    "from sklearn.linear_model import SGDRegressor\n",
    "\n",
    "sgd_pipeline = Pipeline(steps=[\n",
    "    (\"preprocessor\", preprocessor),  \n",
    "    (\"model\", SGDRegressor(\n",
    "        penalty=\"elasticnet\",   \n",
    "        alpha=0.0001,           \n",
    "        l1_ratio=0.15,          # 0 = Ridge, 1 = Lasso\n",
    "        max_iter=1000,          \n",
    "        random_state=42\n",
    "    ))\n",
    "])\n",
    "\n",
    "sgd_pipeline.fit(x_train, y_train)\n",
    "\n",
    "y_pred = sgd_pipeline.predict(x_test)\n",
    "\n",
    "rmse = np.sqrt(mean_squared_error(y_test, y_pred))\n",
    "mae = mean_absolute_error(y_test, y_pred)\n",
    "r2 = r2_score(y_test, y_pred)\n",
    "\n",
    "print(\"SGD Regressor (Elastic Net) Performance:\")\n",
    "print(f\"RMSE: {rmse:.4f}\")\n",
    "print(f\"MAE: {mae:.4f}\")\n",
    "print(f\"R²: {r2:.4f}\")\n"
   ]
  },
  {
   "cell_type": "code",
   "execution_count": 68,
   "id": "8d551d48-b159-45cc-8f60-57912aa35222",
   "metadata": {},
   "outputs": [
    {
     "name": "stdout",
     "output_type": "stream",
     "text": [
      "Saved ridge model.pkl\n"
     ]
    }
   ],
   "source": [
    "import joblib\n",
    "joblib.dump(ridge_pipeline, \"ridge_model.pkl\")\n",
    "print(\"Saved ridge model.pkl\")"
   ]
  },
 ],
 "metadata": {
  "kernelspec": {
   "display_name": "Python 3 (ipykernel)",
   "language": "python",
   "name": "python3"
  },
  "language_info": {
   "codemirror_mode": {
    "name": "ipython",
    "version": 3
   },
   "file_extension": ".py",
   "mimetype": "text/x-python",
   "name": "python",
   "nbconvert_exporter": "python",
   "pygments_lexer": "ipython3",
   "version": "3.13.5"
  }
 },
 "nbformat": 4,
 "nbformat_minor": 5
}
